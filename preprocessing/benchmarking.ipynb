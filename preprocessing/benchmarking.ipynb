{
 "cells": [
  {
   "cell_type": "code",
   "execution_count": null,
   "metadata": {},
   "outputs": [],
   "source": [
    "using Pkg\n",
    "\n",
    "Pkg.activate()\n",
    "\n",
    "inlcude(\"generate_ivt_fields.jl\")\n",
    "\n",
    "using preprocessing"
   ]
  },
  {
   "cell_type": "code",
   "execution_count": null,
   "metadata": {},
   "outputs": [],
   "source": [
    "\"\"\"This function loads data in given geographic bounds. It supports loading values going 'over the end' like the lon rage from 270-40 NOTE: It is expected that the longitude is given in values from 0-360 deg and lat in range from -90:90\"\"\" \n",
    "function load_data_in_geo_bounds_typed(dataset, field_id::Union{String, Symbol, Missing}, geo_bnds::GeographicBounds, indices...; precision = Float32)::Array\n",
    "\n",
    "  lon_normal_range = geo_bnds.lon_bounds[1] < geo_bnds.lon_bounds[2]\n",
    "  lat_normal_range = geo_bnds.lat_bounds[1] < geo_bnds.lat_bounds[2]\n",
    "\n",
    "  result_dim = length(indices) + 2\n",
    "\n",
    "\n",
    "  if lon_normal_range & lat_normal_range\n",
    "    return dataset[field_id][geo_bnds.lon_indices[1]:geo_bnds.lon_indices[2], geo_bnds.lat_indices[1]:geo_bnds.lat_indices[2], indices...]::Array{Union{precision, Missing}, result_dim}\n",
    "  elseif !lon_normal_range & lat_normal_range\n",
    "    \n",
    "    lon_first = dataset[field_id][geo_bnds.lon_indices[1]:end, geo_bnds.lat_indices[1]:geo_bnds.lat_indices[2],indices...]::Array{Union{precision, Missing}, result_dim}\n",
    "    lon_second = dataset[field_id][1:geo_bnds.lon_indices[2], geo_bnds.lat_indices[1]:geo_bnds.lat_indices[2],indices...]::Array{Union{precision, Missing}, result_dim}\n",
    "    \n",
    "    return vcat(lon_first, lon_second)::Array{Union{precision, Missing}, result_dim}\n",
    "  elseif lon_normal_range & !lat_normal_range\n",
    "    \n",
    "    lat_first = dataset[field_id][geo_bnds.lon_indices[1]:geo_bnds.lon_indices[2], geo_bnds.lat_indices[1]:end,indices...]::Array{Union{precision, Missing}, result_dim}\n",
    "    lat_second = dataset[field_id][geo_bnds.lon_indices[1]:geo_bnds.lon_indices[2], 1:geo_bnds.lat_indices[2],indices...]::Array{Union{precision, Missing}, result_dim}\n",
    "    \n",
    "    return hcat(lat_first, lat_second)::Array{Union{precision, Missing}, result_dim}\n",
    "  else\n",
    "    # last case is both are over \n",
    "    lon_f_lat_f = dataset[field_id][geo_bnds.lon_indices[1]:end, geo_bnds.lat_indices[1]:end,indices...]::Array{Union{precision, Missing}, result_dim}\n",
    "    lon_f_lat_s = dataset[field_id][geo_bnds.lon_indices[1]:end, 1:geo_bnds.lat_indices[2],indices...]::Array{Union{precision, Missing}, result_dim}\n",
    "\n",
    "    lon_s_lat_f = dataset[field_id][1:geo_bnds.lon_indices[2], geo_bnds.lat_indices[1]:end,indices...]::Array{Union{precision, Missing}, result_dim}\n",
    "    lon_s_lat_s = dataset[field_id][1:geo_bnds.lon_indices[2], 1:geo_bnds.lat_indices[2],indices...]::Array{Union{precision, Missing}, result_dim}\n",
    "\n",
    "    return vcat(hcat(lon_f_lat_f, lon_f_lat_s), hcat(lon_s_lat_f, lon_s_lat_s))::Array{Union{precision, Missing}, result_dim}\n",
    "  end\n",
    "end"
   ]
  },
  {
   "cell_type": "code",
   "execution_count": 1,
   "metadata": {},
   "outputs": [
    {
     "data": {
      "text/plain": [
       "create_benchmark_ds (generic function with 1 method)"
      ]
     },
     "metadata": {},
     "output_type": "display_data"
    }
   ],
   "source": [
    "using NCDatasets\n",
    "using DataStructures\n",
    "\n",
    "function create_benchmark_ds(path, varname, data)\n",
    "    \n",
    "    vertical_size = size(data, 3)\n",
    "\n",
    "    ps = rand(size(data, 1), size(data, 2), size(data, 4))\n",
    "\n",
    "    ap = rand(vertical_size)\n",
    "\n",
    "    b = rand(vertical_size)\n",
    "\n",
    "    NCDataset(path,\"c\",attrib = OrderedDict(\"title\" => \"this is a test file\")) do ds\n",
    "        # Define the variable temperature. The dimension \"lon\" and \"lat\" with the\n",
    "        # size 100 and 110 resp are implicitly created\n",
    "        defVar(ds,varname,data,(\"lon\",\"lat\", \"lev\", \"time\"))\n",
    "        defVar(ds,\"ps\",ps,(\"lon\",\"lat\", \"time\"))\n",
    "        defVar(ds,\"ap\",ap,(\"lev\",))\n",
    "        defVar(ds,\"b\",b,(\"lev\",))\n",
    "    end\n",
    "    \n",
    "end"
   ]
  },
  {
   "cell_type": "code",
   "execution_count": 2,
   "metadata": {},
   "outputs": [
    {
     "name": "stdout",
     "output_type": "stream",
     "text": [
      "Data size in mem: 2520.0\n"
     ]
    }
   ],
   "source": [
    "data = [Float32(l+i+j/k) for i = 1:60, j = 1:50, k = 1:42, l = 1:5000]\n",
    "\n",
    "println(\"Data size in mem: $(sizeof(data)/1000000)\")\n",
    "for id in [\"hus\", \"ua\", \"va\"]\n",
    "    path = \"sample_data/benchmark_$id.nc\"\n",
    "    create_benchmark_ds(path, id, data)\n",
    "end\n",
    "\n"
   ]
  },
  {
   "cell_type": "code",
   "execution_count": 1,
   "metadata": {},
   "outputs": [
    {
     "data": {
      "text/plain": [
       "BenchmarkTools.Trial: 2 samples with 1 evaluation.\n",
       " Range \u001b[90m(\u001b[39m\u001b[36m\u001b[1mmin\u001b[22m\u001b[39m … \u001b[35mmax\u001b[39m\u001b[90m):  \u001b[39m\u001b[36m\u001b[1m4.199 s\u001b[22m\u001b[39m … \u001b[35m   4.380 s\u001b[39m  \u001b[90m┊\u001b[39m GC \u001b[90m(\u001b[39mmin … max\u001b[90m): \u001b[39m13.76% … 17.42%\n",
       " Time  \u001b[90m(\u001b[39m\u001b[34m\u001b[1mmedian\u001b[22m\u001b[39m\u001b[90m):     \u001b[39m\u001b[34m\u001b[1m4.289 s               \u001b[22m\u001b[39m\u001b[90m┊\u001b[39m GC \u001b[90m(\u001b[39mmedian\u001b[90m):    \u001b[39m15.63%\n",
       " Time  \u001b[90m(\u001b[39m\u001b[32m\u001b[1mmean\u001b[22m\u001b[39m ± \u001b[32mσ\u001b[39m\u001b[90m):   \u001b[39m\u001b[32m\u001b[1m4.289 s\u001b[22m\u001b[39m ± \u001b[32m128.221 ms\u001b[39m  \u001b[90m┊\u001b[39m GC \u001b[90m(\u001b[39mmean ± σ\u001b[90m):  \u001b[39m15.63% ±  2.59%\n",
       "\n",
       "  \u001b[34m█\u001b[39m\u001b[39m \u001b[39m \u001b[39m \u001b[39m \u001b[39m \u001b[39m \u001b[39m \u001b[39m \u001b[39m \u001b[39m \u001b[39m \u001b[39m \u001b[39m \u001b[39m \u001b[39m \u001b[39m \u001b[39m \u001b[39m \u001b[39m \u001b[39m \u001b[39m \u001b[39m \u001b[39m \u001b[39m \u001b[39m \u001b[39m \u001b[39m \u001b[39m \u001b[32m \u001b[39m\u001b[39m \u001b[39m \u001b[39m \u001b[39m \u001b[39m \u001b[39m \u001b[39m \u001b[39m \u001b[39m \u001b[39m \u001b[39m \u001b[39m \u001b[39m \u001b[39m \u001b[39m \u001b[39m \u001b[39m \u001b[39m \u001b[39m \u001b[39m \u001b[39m \u001b[39m \u001b[39m \u001b[39m \u001b[39m \u001b[39m \u001b[39m \u001b[39m█\u001b[39m \u001b[39m \n",
       "  \u001b[34m█\u001b[39m\u001b[39m▁\u001b[39m▁\u001b[39m▁\u001b[39m▁\u001b[39m▁\u001b[39m▁\u001b[39m▁\u001b[39m▁\u001b[39m▁\u001b[39m▁\u001b[39m▁\u001b[39m▁\u001b[39m▁\u001b[39m▁\u001b[39m▁\u001b[39m▁\u001b[39m▁\u001b[39m▁\u001b[39m▁\u001b[39m▁\u001b[39m▁\u001b[39m▁\u001b[39m▁\u001b[39m▁\u001b[39m▁\u001b[39m▁\u001b[39m▁\u001b[39m▁\u001b[32m▁\u001b[39m\u001b[39m▁\u001b[39m▁\u001b[39m▁\u001b[39m▁\u001b[39m▁\u001b[39m▁\u001b[39m▁\u001b[39m▁\u001b[39m▁\u001b[39m▁\u001b[39m▁\u001b[39m▁\u001b[39m▁\u001b[39m▁\u001b[39m▁\u001b[39m▁\u001b[39m▁\u001b[39m▁\u001b[39m▁\u001b[39m▁\u001b[39m▁\u001b[39m▁\u001b[39m▁\u001b[39m▁\u001b[39m▁\u001b[39m▁\u001b[39m▁\u001b[39m█\u001b[39m \u001b[39m▁\n",
       "  4.2 s\u001b[90m          Histogram: frequency by time\u001b[39m         4.38 s \u001b[0m\u001b[1m<\u001b[22m\n",
       "\n",
       " Memory estimate\u001b[90m: \u001b[39m\u001b[33m7.15 GiB\u001b[39m, allocs estimate\u001b[90m: \u001b[39m\u001b[33m3452\u001b[39m."
      ]
     },
     "metadata": {},
     "output_type": "display_data"
    }
   ],
   "source": [
    "using BenchmarkTools\n",
    "using NCDatasets\n",
    "\n",
    "\n",
    "bmable = @benchmarkable  NCDataset([\"sample_data/benchmark_hus.nc\", \"sample_data/benchmark_va.nc\", \"sample_data/benchmark_ua.nc\"]; aggdim = \"\") do ds\n",
    "\n",
    "    data_hus = ds[:hus][:, :, :, :]\n",
    "    data_ua = ds[:ua][:, :, :, :]\n",
    "    data_va = ds[:va][:, :, :, :]\n",
    "    data_ps = ds[:ps][:, :, :]\n",
    "\n",
    "end\n",
    "\n",
    "tune!(bmable)\n",
    "\n",
    "run(bmable)"
   ]
  },
  {
   "cell_type": "code",
   "execution_count": 2,
   "metadata": {},
   "outputs": [
    {
     "data": {
      "text/plain": [
       "BenchmarkTools.Trial: 3 samples with 1 evaluation.\n",
       " Range \u001b[90m(\u001b[39m\u001b[36m\u001b[1mmin\u001b[22m\u001b[39m … \u001b[35mmax\u001b[39m\u001b[90m):  \u001b[39m\u001b[36m\u001b[1m1.710 s\u001b[22m\u001b[39m … \u001b[35m   1.932 s\u001b[39m  \u001b[90m┊\u001b[39m GC \u001b[90m(\u001b[39mmin … max\u001b[90m): \u001b[39m 6.43% … 17.18%\n",
       " Time  \u001b[90m(\u001b[39m\u001b[34m\u001b[1mmedian\u001b[22m\u001b[39m\u001b[90m):     \u001b[39m\u001b[34m\u001b[1m1.753 s               \u001b[22m\u001b[39m\u001b[90m┊\u001b[39m GC \u001b[90m(\u001b[39mmedian\u001b[90m):    \u001b[39m 9.31%\n",
       " Time  \u001b[90m(\u001b[39m\u001b[32m\u001b[1mmean\u001b[22m\u001b[39m ± \u001b[32mσ\u001b[39m\u001b[90m):   \u001b[39m\u001b[32m\u001b[1m1.799 s\u001b[22m\u001b[39m ± \u001b[32m117.734 ms\u001b[39m  \u001b[90m┊\u001b[39m GC \u001b[90m(\u001b[39mmean ± σ\u001b[90m):  \u001b[39m11.22% ±  5.56%\n",
       "\n",
       "  \u001b[34m█\u001b[39m\u001b[39m \u001b[39m \u001b[39m \u001b[39m \u001b[39m \u001b[39m \u001b[39m \u001b[39m \u001b[39m \u001b[39m \u001b[39m█\u001b[39m \u001b[39m \u001b[39m \u001b[39m \u001b[39m \u001b[39m \u001b[39m \u001b[39m \u001b[39m \u001b[39m \u001b[39m \u001b[32m \u001b[39m\u001b[39m \u001b[39m \u001b[39m \u001b[39m \u001b[39m \u001b[39m \u001b[39m \u001b[39m \u001b[39m \u001b[39m \u001b[39m \u001b[39m \u001b[39m \u001b[39m \u001b[39m \u001b[39m \u001b[39m \u001b[39m \u001b[39m \u001b[39m \u001b[39m \u001b[39m \u001b[39m \u001b[39m \u001b[39m \u001b[39m \u001b[39m \u001b[39m \u001b[39m \u001b[39m \u001b[39m \u001b[39m \u001b[39m \u001b[39m█\u001b[39m \u001b[39m \n",
       "  \u001b[34m█\u001b[39m\u001b[39m▁\u001b[39m▁\u001b[39m▁\u001b[39m▁\u001b[39m▁\u001b[39m▁\u001b[39m▁\u001b[39m▁\u001b[39m▁\u001b[39m▁\u001b[39m█\u001b[39m▁\u001b[39m▁\u001b[39m▁\u001b[39m▁\u001b[39m▁\u001b[39m▁\u001b[39m▁\u001b[39m▁\u001b[39m▁\u001b[39m▁\u001b[39m▁\u001b[32m▁\u001b[39m\u001b[39m▁\u001b[39m▁\u001b[39m▁\u001b[39m▁\u001b[39m▁\u001b[39m▁\u001b[39m▁\u001b[39m▁\u001b[39m▁\u001b[39m▁\u001b[39m▁\u001b[39m▁\u001b[39m▁\u001b[39m▁\u001b[39m▁\u001b[39m▁\u001b[39m▁\u001b[39m▁\u001b[39m▁\u001b[39m▁\u001b[39m▁\u001b[39m▁\u001b[39m▁\u001b[39m▁\u001b[39m▁\u001b[39m▁\u001b[39m▁\u001b[39m▁\u001b[39m▁\u001b[39m▁\u001b[39m▁\u001b[39m▁\u001b[39m▁\u001b[39m█\u001b[39m \u001b[39m▁\n",
       "  1.71 s\u001b[90m         Histogram: frequency by time\u001b[39m         1.93 s \u001b[0m\u001b[1m<\u001b[22m\n",
       "\n",
       " Memory estimate\u001b[90m: \u001b[39m\u001b[33m1.91 GiB\u001b[39m, allocs estimate\u001b[90m: \u001b[39m\u001b[33m3452\u001b[39m."
      ]
     },
     "metadata": {},
     "output_type": "display_data"
    }
   ],
   "source": [
    "bmable = @benchmarkable  NCDataset([\"sample_data/benchmark_hus.nc\", \"sample_data/benchmark_va.nc\", \"sample_data/benchmark_ua.nc\"]; aggdim = \"\") do ds\n",
    "\n",
    "    data_hus = ds[:hus][1:40, 1:20, :, :]\n",
    "    data_ua = ds[:ua][1:40, 1:20, :, :]\n",
    "    data_va = ds[:va][1:40, 1:20, :, :]\n",
    "    data_ps = ds[:ps][1:40, 1:20, :]\n",
    "\n",
    "end samples = 15\n",
    "\n",
    "tune!(bmable)\n",
    "\n",
    "run(bmable)"
   ]
  },
  {
   "cell_type": "code",
   "execution_count": 15,
   "metadata": {},
   "outputs": [
    {
     "data": {
      "text/plain": [
       "BenchmarkTools.Trial: 4 samples with 1 evaluation.\n",
       " Range \u001b[90m(\u001b[39m\u001b[36m\u001b[1mmin\u001b[22m\u001b[39m … \u001b[35mmax\u001b[39m\u001b[90m):  \u001b[39m\u001b[36m\u001b[1m1.155 s\u001b[22m\u001b[39m … \u001b[35m   1.416 s\u001b[39m  \u001b[90m┊\u001b[39m GC \u001b[90m(\u001b[39mmin … max\u001b[90m): \u001b[39m0.09% … 18.81%\n",
       " Time  \u001b[90m(\u001b[39m\u001b[34m\u001b[1mmedian\u001b[22m\u001b[39m\u001b[90m):     \u001b[39m\u001b[34m\u001b[1m1.311 s               \u001b[22m\u001b[39m\u001b[90m┊\u001b[39m GC \u001b[90m(\u001b[39mmedian\u001b[90m):    \u001b[39m7.74%\n",
       " Time  \u001b[90m(\u001b[39m\u001b[32m\u001b[1mmean\u001b[22m\u001b[39m ± \u001b[32mσ\u001b[39m\u001b[90m):   \u001b[39m\u001b[32m\u001b[1m1.298 s\u001b[22m\u001b[39m ± \u001b[32m119.586 ms\u001b[39m  \u001b[90m┊\u001b[39m GC \u001b[90m(\u001b[39mmean ± σ\u001b[90m):  \u001b[39m9.06% ±  9.76%\n",
       "\n",
       "  \u001b[39m█\u001b[39m \u001b[39m \u001b[39m \u001b[39m \u001b[39m \u001b[39m \u001b[39m \u001b[39m \u001b[39m \u001b[39m \u001b[39m \u001b[39m \u001b[39m \u001b[39m \u001b[39m \u001b[39m \u001b[39m \u001b[39m \u001b[39m \u001b[39m█\u001b[34m \u001b[39m\u001b[39m \u001b[39m \u001b[39m \u001b[39m \u001b[39m \u001b[39m \u001b[39m \u001b[39m \u001b[39m \u001b[39m \u001b[32m \u001b[39m\u001b[39m \u001b[39m \u001b[39m \u001b[39m \u001b[39m \u001b[39m \u001b[39m \u001b[39m \u001b[39m \u001b[39m \u001b[39m \u001b[39m \u001b[39m \u001b[39m \u001b[39m \u001b[39m█\u001b[39m \u001b[39m \u001b[39m \u001b[39m \u001b[39m \u001b[39m \u001b[39m \u001b[39m \u001b[39m█\u001b[39m \u001b[39m \n",
       "  \u001b[39m█\u001b[39m▁\u001b[39m▁\u001b[39m▁\u001b[39m▁\u001b[39m▁\u001b[39m▁\u001b[39m▁\u001b[39m▁\u001b[39m▁\u001b[39m▁\u001b[39m▁\u001b[39m▁\u001b[39m▁\u001b[39m▁\u001b[39m▁\u001b[39m▁\u001b[39m▁\u001b[39m▁\u001b[39m▁\u001b[39m█\u001b[34m▁\u001b[39m\u001b[39m▁\u001b[39m▁\u001b[39m▁\u001b[39m▁\u001b[39m▁\u001b[39m▁\u001b[39m▁\u001b[39m▁\u001b[39m▁\u001b[39m▁\u001b[32m▁\u001b[39m\u001b[39m▁\u001b[39m▁\u001b[39m▁\u001b[39m▁\u001b[39m▁\u001b[39m▁\u001b[39m▁\u001b[39m▁\u001b[39m▁\u001b[39m▁\u001b[39m▁\u001b[39m▁\u001b[39m▁\u001b[39m▁\u001b[39m▁\u001b[39m█\u001b[39m▁\u001b[39m▁\u001b[39m▁\u001b[39m▁\u001b[39m▁\u001b[39m▁\u001b[39m▁\u001b[39m▁\u001b[39m█\u001b[39m \u001b[39m▁\n",
       "  1.15 s\u001b[90m         Histogram: frequency by time\u001b[39m         1.42 s \u001b[0m\u001b[1m<\u001b[22m\n",
       "\n",
       " Memory estimate\u001b[90m: \u001b[39m\u001b[33m2.35 GiB\u001b[39m, allocs estimate\u001b[90m: \u001b[39m\u001b[33m2999\u001b[39m."
      ]
     },
     "metadata": {},
     "output_type": "display_data"
    }
   ],
   "source": [
    "bmable = @benchmarkable  NCDataset([\"sample_data/benchmark_hus.nc\", \"sample_data/benchmark_va.nc\", \"sample_data/benchmark_ua.nc\"]; aggdim = \"\") do ds\n",
    "\n",
    "    data_hus = ds[:hus][:, :, :, :]::Array{Float32, 4}\n",
    "    # data_ua = ds[:ua][:, :, :, :]::Array{Float32, 4}\n",
    "    # data_va = ds[:va][:, :, :, :]::Array{Float32, 4}\n",
    "    # data_ps = ds[:ps][:, :, :]::Array{Float64, 3}\n",
    "\n",
    "end\n",
    "\n",
    "tune!(bmable)\n",
    "\n",
    "run(bmable)"
   ]
  },
  {
   "cell_type": "code",
   "execution_count": 20,
   "metadata": {},
   "outputs": [
    {
     "data": {
      "text/plain": [
       "BenchmarkTools.Trial: 3 samples with 1 evaluation.\n",
       " Range \u001b[90m(\u001b[39m\u001b[36m\u001b[1mmin\u001b[22m\u001b[39m … \u001b[35mmax\u001b[39m\u001b[90m):  \u001b[39m\u001b[36m\u001b[1m1.843 s\u001b[22m\u001b[39m … \u001b[35m   2.071 s\u001b[39m  \u001b[90m┊\u001b[39m GC \u001b[90m(\u001b[39mmin … max\u001b[90m): \u001b[39m 7.60% … 18.19%\n",
       " Time  \u001b[90m(\u001b[39m\u001b[34m\u001b[1mmedian\u001b[22m\u001b[39m\u001b[90m):     \u001b[39m\u001b[34m\u001b[1m1.899 s               \u001b[22m\u001b[39m\u001b[90m┊\u001b[39m GC \u001b[90m(\u001b[39mmedian\u001b[90m):    \u001b[39m10.83%\n",
       " Time  \u001b[90m(\u001b[39m\u001b[32m\u001b[1mmean\u001b[22m\u001b[39m ± \u001b[32mσ\u001b[39m\u001b[90m):   \u001b[39m\u001b[32m\u001b[1m1.937 s\u001b[22m\u001b[39m ± \u001b[32m118.653 ms\u001b[39m  \u001b[90m┊\u001b[39m GC \u001b[90m(\u001b[39mmean ± σ\u001b[90m):  \u001b[39m12.43% ±  5.43%\n",
       "\n",
       "  \u001b[34m█\u001b[39m\u001b[39m \u001b[39m \u001b[39m \u001b[39m \u001b[39m \u001b[39m \u001b[39m \u001b[39m \u001b[39m \u001b[39m \u001b[39m \u001b[39m \u001b[39m \u001b[39m█\u001b[39m \u001b[39m \u001b[39m \u001b[39m \u001b[39m \u001b[39m \u001b[39m \u001b[39m \u001b[39m \u001b[32m \u001b[39m\u001b[39m \u001b[39m \u001b[39m \u001b[39m \u001b[39m \u001b[39m \u001b[39m \u001b[39m \u001b[39m \u001b[39m \u001b[39m \u001b[39m \u001b[39m \u001b[39m \u001b[39m \u001b[39m \u001b[39m \u001b[39m \u001b[39m \u001b[39m \u001b[39m \u001b[39m \u001b[39m \u001b[39m \u001b[39m \u001b[39m \u001b[39m \u001b[39m \u001b[39m \u001b[39m \u001b[39m \u001b[39m \u001b[39m█\u001b[39m \u001b[39m \n",
       "  \u001b[34m█\u001b[39m\u001b[39m▁\u001b[39m▁\u001b[39m▁\u001b[39m▁\u001b[39m▁\u001b[39m▁\u001b[39m▁\u001b[39m▁\u001b[39m▁\u001b[39m▁\u001b[39m▁\u001b[39m▁\u001b[39m▁\u001b[39m█\u001b[39m▁\u001b[39m▁\u001b[39m▁\u001b[39m▁\u001b[39m▁\u001b[39m▁\u001b[39m▁\u001b[39m▁\u001b[39m▁\u001b[32m▁\u001b[39m\u001b[39m▁\u001b[39m▁\u001b[39m▁\u001b[39m▁\u001b[39m▁\u001b[39m▁\u001b[39m▁\u001b[39m▁\u001b[39m▁\u001b[39m▁\u001b[39m▁\u001b[39m▁\u001b[39m▁\u001b[39m▁\u001b[39m▁\u001b[39m▁\u001b[39m▁\u001b[39m▁\u001b[39m▁\u001b[39m▁\u001b[39m▁\u001b[39m▁\u001b[39m▁\u001b[39m▁\u001b[39m▁\u001b[39m▁\u001b[39m▁\u001b[39m▁\u001b[39m▁\u001b[39m▁\u001b[39m▁\u001b[39m▁\u001b[39m█\u001b[39m \u001b[39m▁\n",
       "  1.84 s\u001b[90m         Histogram: frequency by time\u001b[39m         2.07 s \u001b[0m\u001b[1m<\u001b[22m\n",
       "\n",
       " Memory estimate\u001b[90m: \u001b[39m\u001b[33m1.91 GiB\u001b[39m, allocs estimate\u001b[90m: \u001b[39m\u001b[33m3452\u001b[39m."
      ]
     },
     "metadata": {},
     "output_type": "display_data"
    }
   ],
   "source": [
    "bmable = @benchmarkable  NCDataset([\"sample_data/benchmark_hus.nc\", \"sample_data/benchmark_va.nc\", \"sample_data/benchmark_ua.nc\"]; aggdim = \"\") do ds\n",
    "\n",
    "    data_hus = ds[:hus][1:40, 1:20, :, :]::Array{Float32, 4}\n",
    "    data_ua = ds[:ua][1:40, 1:20, :, :]::Array{Float32, 4}\n",
    "    data_va = ds[:va][1:40, 1:20, :, :]::Array{Float32, 4}\n",
    "    data_ps = ds[:ps][1:40, 1:20, :]::Array{Float64, 3}\n",
    "\n",
    "end\n",
    "\n",
    "tune!(bmable)\n",
    "\n",
    "run(bmable)"
   ]
  },
  {
   "cell_type": "code",
   "execution_count": 23,
   "metadata": {},
   "outputs": [
    {
     "ename": "MethodError",
     "evalue": "MethodError: no method matching push!(::Type{Array{Float32, 5}}, ::Array{Float32, 4})\nClosest candidates are:\n  push!(::Any, ::Any, !Matched::Any) at ~/.julia/juliaup/julia-1.7.0+0.x64.linux.gnu/share/julia/base/abstractarray.jl:2952\n  push!(::Any, ::Any, !Matched::Any, !Matched::Any...) at ~/.julia/juliaup/julia-1.7.0+0.x64.linux.gnu/share/julia/base/abstractarray.jl:2953\n  push!(!Matched::DataStructures.MutableLinkedList{T}, ::Any) where T at ~/.julia/packages/DataStructures/b0JVf/src/mutable_list.jl:199\n  ...",
     "output_type": "error",
     "traceback": [
      "MethodError: no method matching push!(::Type{Array{Float32, 5}}, ::Array{Float32, 4})\n",
      "Closest candidates are:\n",
      "  push!(::Any, ::Any, !Matched::Any) at ~/.julia/juliaup/julia-1.7.0+0.x64.linux.gnu/share/julia/base/abstractarray.jl:2952\n",
      "  push!(::Any, ::Any, !Matched::Any, !Matched::Any...) at ~/.julia/juliaup/julia-1.7.0+0.x64.linux.gnu/share/julia/base/abstractarray.jl:2953\n",
      "  push!(!Matched::DataStructures.MutableLinkedList{T}, ::Any) where T at ~/.julia/packages/DataStructures/b0JVf/src/mutable_list.jl:199\n",
      "  ...\n",
      "\n",
      "Stacktrace:\n",
      "  [1] (::var\"#53#54\")(ds::CommonDataModel.MFDataset{DeferDataset{NCDataset}, 1, String})\n",
      "    @ Main ~/Documents/Uni/Master/MA/preprocessing/benchmarking.ipynb:11\n",
      "  [2] NCDataset(f::var\"#53#54\", args::Vector{String}; kwargs::Base.Pairs{Symbol, String, Tuple{Symbol}, NamedTuple{(:aggdim,), Tuple{String}}})\n",
      "    @ NCDatasets ~/.julia/packages/NCDatasets/ivzVX/src/dataset.jl:251\n",
      "  [3] var\"##core#318\"()\n",
      "    @ Main ~/.julia/packages/BenchmarkTools/QAv7m/src/execution.jl:547\n",
      "  [4] var\"##sample#319\"(::Tuple{}, __params::BenchmarkTools.Parameters)\n",
      "    @ Main ~/.julia/packages/BenchmarkTools/QAv7m/src/execution.jl:556\n",
      "  [5] _run(b::BenchmarkTools.Benchmark, p::BenchmarkTools.Parameters; verbose::Bool, pad::String, kwargs::Base.Pairs{Symbol, Integer, NTuple{4, Symbol}, NamedTuple{(:samples, :evals, :gctrial, :gcsample), Tuple{Int64, Int64, Bool, Bool}}})\n",
      "    @ BenchmarkTools ~/.julia/packages/BenchmarkTools/QAv7m/src/execution.jl:109\n",
      "  [6] #invokelatest#2\n",
      "    @ ./essentials.jl:718 [inlined]\n",
      "  [7] #run_result#45\n",
      "    @ ~/.julia/packages/BenchmarkTools/QAv7m/src/execution.jl:41 [inlined]\n",
      "  [8] run(b::BenchmarkTools.Benchmark, p::BenchmarkTools.Parameters; progressid::Nothing, nleaves::Float64, ndone::Float64, kwargs::Base.Pairs{Symbol, Integer, NTuple{5, Symbol}, NamedTuple{(:verbose, :samples, :evals, :gctrial, :gcsample), Tuple{Bool, Int64, Int64, Bool, Bool}}})\n",
      "    @ BenchmarkTools ~/.julia/packages/BenchmarkTools/QAv7m/src/execution.jl:134\n",
      "  [9] #warmup#54\n",
      "    @ ~/.julia/packages/BenchmarkTools/QAv7m/src/execution.jl:189 [inlined]\n",
      " [10] tune!(b::BenchmarkTools.Benchmark, p::BenchmarkTools.Parameters; progressid::Nothing, nleaves::Float64, ndone::Float64, verbose::Bool, pad::String, kwargs::Base.Pairs{Symbol, Union{}, Tuple{}, NamedTuple{(), Tuple{}}})\n",
      "    @ BenchmarkTools ~/.julia/packages/BenchmarkTools/QAv7m/src/execution.jl:284\n",
      " [11] tune! (repeats 2 times)\n",
      "    @ ~/.julia/packages/BenchmarkTools/QAv7m/src/execution.jl:283 [inlined]\n",
      " [12] top-level scope\n",
      "    @ ~/Documents/Uni/Master/MA/preprocessing/benchmarking.ipynb:17"
     ]
    }
   ],
   "source": [
    "bmable = @benchmarkable  NCDataset([\"sample_data/benchmark_hus.nc\", \"sample_data/benchmark_va.nc\", \"sample_data/benchmark_ua.nc\"]; aggdim = \"\") do ds\n",
    "# bmable = @benchmarkable  NCDataset(\"sample_data/benchmark_hus.nc\") do ds\n",
    "\n",
    "\n",
    "    data = Array{Float32, 5}\n",
    "\n",
    "    \n",
    "\n",
    "    for (i, id) in enumerate([:hus, :ua, :va])\n",
    "        # NCDatasets.load!(ds[id], data[i, :, :, :, :], :, :, :, :)\n",
    "        push!(data,ds[id][:, :, :, :])\n",
    "    end\n",
    "    data_ps = ds[:ps][:, :, :]::Array{Float64, 3}\n",
    "\n",
    "end\n",
    "\n",
    "tune!(bmable)\n",
    "\n",
    "run(bmable)"
   ]
  }
 ],
 "metadata": {
  "kernelspec": {
   "display_name": "Julia 1.7.0",
   "language": "julia",
   "name": "julia-1.7"
  },
  "language_info": {
   "file_extension": ".jl",
   "mimetype": "application/julia",
   "name": "julia",
   "version": "1.7.0"
  }
 },
 "nbformat": 4,
 "nbformat_minor": 2
}

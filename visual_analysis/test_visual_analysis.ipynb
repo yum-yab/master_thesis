{
 "cells": [
  {
   "cell_type": "code",
   "execution_count": 3,
   "metadata": {},
   "outputs": [
    {
     "name": "stderr",
     "output_type": "stream",
     "text": [
      "\u001b[32m\u001b[1m  Activating\u001b[22m\u001b[39m project at `~/Documents/Uni/Master/MA/visual_analysis`\n"
     ]
    }
   ],
   "source": [
    "using Pkg\n",
    "\n",
    "Pkg.activate(\".\")"
   ]
  },
  {
   "cell_type": "code",
   "execution_count": 4,
   "metadata": {},
   "outputs": [],
   "source": [
    "using GLMakie\n",
    "using GeoMakie\n",
    "using EmpiricalOrthogonalFunctions\n",
    "using NCDatasets \n",
    "using Dates\n",
    "using BenchmarkTools"
   ]
  },
  {
   "cell_type": "code",
   "execution_count": 5,
   "metadata": {},
   "outputs": [
    {
     "data": {
      "text/plain": [
       "get_files_of_member (generic function with 1 method)"
      ]
     },
     "metadata": {},
     "output_type": "display_data"
    }
   ],
   "source": [
    "data_path = \"/home/denis/workspace/data/ivt_fields_v1\"\n",
    "\n",
    "function get_files_of_member(scenario_id, member_nr)\n",
    "    return readdir(joinpath(data_path, scenario_id, \"r$(member_nr)i1p1f1\"), join = true)    \n",
    "end\n"
   ]
  },
  {
   "cell_type": "code",
   "execution_count": 6,
   "metadata": {},
   "outputs": [
    {
     "data": {
      "text/plain": [
       "get_eof_of_datachunk (generic function with 1 method)"
      ]
     },
     "metadata": {},
     "output_type": "display_data"
    }
   ],
   "source": [
    "function get_eof_of_datachunk(data)\n",
    "    eof = EmpiricalOrthogonalFunction(data; timedim=3)\n",
    "\n",
    "    temporalsignal = pcs(eof)\n",
    "    spatialsignal = reshape(eofs(eof),(size(datain)[1:2]..., :))\n",
    "    return temporalsignal, spatialsignal\n",
    "end"
   ]
  },
  {
   "cell_type": "code",
   "execution_count": 9,
   "metadata": {},
   "outputs": [
    {
     "data": {
      "text/plain": [
       "get_all_data (generic function with 1 method)"
      ]
     },
     "metadata": {},
     "output_type": "display_data"
    }
   ],
   "source": [
    "function get_all_data(scenario_id, member_nr)\n",
    "\n",
    "    file_paths = get_files_of_member(scenario_id, member_nr)\n",
    "\n",
    "    time_data = Union{Missing, Dates.DateTime}[]\n",
    "    ivt_data = Array{Union{Missing, Float64}, 3}[]\n",
    "\n",
    "    dims_first = NCDataset(file_paths[1]) do ds\n",
    "        return size(ds[:ivt])\n",
    "    end\n",
    "\n",
    "    for file_path in file_paths\n",
    "        time_chunk, ivt_chunk = NCDataset(file_path) do ds\n",
    "            return ds[:time][:]::Array{Union{Missing, Dates.DateTime}, 1}, ds[:ivt][:, :, :]::Array{Union{Missing, Float64}, 3}\n",
    "        end\n",
    "        append!(time_data, time_chunk)\n",
    "        push!(ivt_data, ivt_chunk)\n",
    "    end\n",
    "\n",
    "    return time_data, cat(ivt_data..., dims=3)\n",
    "end"
   ]
  },
  {
   "cell_type": "code",
   "execution_count": 10,
   "metadata": {},
   "outputs": [
    {
     "data": {
      "text/plain": [
       "(Union{Missing, DateTime}[DateTime(\"2015-01-01T06:00:00\"), DateTime(\"2015-01-01T12:00:00\"), DateTime(\"2015-01-01T18:00:00\"), DateTime(\"2015-01-02T00:00:00\"), DateTime(\"2015-01-02T06:00:00\"), DateTime(\"2015-01-02T12:00:00\"), DateTime(\"2015-01-02T18:00:00\"), DateTime(\"2015-01-03T00:00:00\"), DateTime(\"2015-01-03T06:00:00\"), DateTime(\"2015-01-03T12:00:00\")  …  DateTime(\"2100-12-29T18:00:00\"), DateTime(\"2100-12-30T00:00:00\"), DateTime(\"2100-12-30T06:00:00\"), DateTime(\"2100-12-30T12:00:00\"), DateTime(\"2100-12-30T18:00:00\"), DateTime(\"2100-12-31T00:00:00\"), DateTime(\"2100-12-31T06:00:00\"), DateTime(\"2100-12-31T12:00:00\"), DateTime(\"2100-12-31T18:00:00\"), DateTime(\"2101-01-01T00:00:00\")], Union{Missing, Float64}[107.83024404217494 105.35183652372383 … 4.810704767513298 14.481626430503018; 138.11806601868335 132.92639636951492 … 5.865105532526301 14.261222253533777; … ; 32.42546716028079 93.37890870191428 … 7.1671847647811555 15.350266308663777; 35.96681207349521 100.77858958675463 … 6.003109756179521 14.769523960907568;;; 155.88351106173553 137.68630003367406 … 5.621365223404053 12.868731160759115; 175.09040598545715 148.27606281950167 … 5.870399867403574 12.983888172355686; … ; 57.355318935198824 114.23247369255013 … 9.072638371479535 2.4600581301580062; 75.17006033067896 120.0083155421852 … 9.188386466758864 1.3949336591196593;;; 143.5888403808529 118.19121748820878 … 6.249397273604056 9.4317883238216; 155.46660164378946 116.64371662344564 … 5.717499617028764 9.41694211752264; … ; 41.4328473260301 117.86327894896638 … 10.871551739200418 6.116638209290901; 68.42650195853976 129.71446849211344 … 11.766924247526145 7.410914040258337;;; … ;;; 102.8501130060909 36.55108697541677 … 3.953349312693533 2.371073234222013; 167.52194486560185 156.4695633719738 … 3.933192294624224 2.981021379071312; … ; 60.961307623645716 84.50425550214929 … 80.97791493338113 45.35533558294059; 45.06639913758941 62.21949830876491 … 71.56832799269513 38.03336807085114;;; 132.71858950204404 61.03490827067692 … 2.94479451820232 2.3712675058205113; 147.0253903710926 33.533439753484416 … 3.1692642999948575 2.813866352409836; … ; 67.19807441402288 96.36163836340225 … 84.88217391625075 43.813700991777715; 62.611663125689105 70.79334863812929 … 72.94918242900962 36.08125248942175;;; 215.07063355389826 98.05008821606967 … 2.2330716876241796 2.6927010274924834; 176.4055588967954 96.40320794263384 … 2.1918774930964435 3.5252433787449124; … ; 82.18143127926434 114.09535209807495 … 90.01042463298343 39.351751251481865; 80.01413814586543 87.43926735892929 … 78.7407396540763 33.124462268178206])"
      ]
     },
     "metadata": {},
     "output_type": "display_data"
    }
   ],
   "source": [
    "time_data, ivt_data = get_all_data(\"ssp126\", 10)"
   ]
  },
  {
   "cell_type": "code",
   "execution_count": 11,
   "metadata": {},
   "outputs": [
    {
     "data": {
      "text/plain": [
       "(70, 32, 125644)"
      ]
     },
     "metadata": {},
     "output_type": "display_data"
    }
   ],
   "source": [
    "size(ivt_data)"
   ]
  },
  {
   "cell_type": "code",
   "execution_count": 13,
   "metadata": {},
   "outputs": [
    {
     "data": {
      "text/plain": [
       "filter_by_date (generic function with 2 methods)"
      ]
     },
     "metadata": {},
     "output_type": "display_data"
    }
   ],
   "source": [
    "function filter_by_date(fun, time_data, ivt_data, time_dim = 3)\n",
    "\n",
    "    time_result = filter(fun, time_data)\n",
    "    data_result = [ivt_data[:, :, i] for i in eachindex(time_data) if fun(time_data[i])]\n",
    "\n",
    "    return time_result, cat(data_result..., dims=3)\n",
    "end"
   ]
  },
  {
   "cell_type": "code",
   "execution_count": 14,
   "metadata": {},
   "outputs": [],
   "source": [
    "time_filtered, data_filtered = filter_by_date(time_data, ivt_data) do time_element\n",
    "    winter_months = [11, 12, 1, 2, 3]\n",
    "\n",
    "    for wm in winter_months\n",
    "        if month(time_element) == wm\n",
    "            return true\n",
    "        end\n",
    "    end\n",
    "    return false\n",
    "end"
   ]
  },
  {
   "cell_type": "code",
   "execution_count": 1,
   "metadata": {},
   "outputs": [
    {
     "ename": "UndefVarError",
     "evalue": "UndefVarError: `data_filtered` not defined",
     "output_type": "error",
     "traceback": [
      "UndefVarError: `data_filtered` not defined\n",
      "\n",
      "Stacktrace:\n",
      " [1] top-level scope\n",
      "   @ ~/Documents/Uni/Master/MA/visual_analysis/test_visual_analysis.ipynb:1"
     ]
    }
   ],
   "source": [
    "res = cat(data_filtered..., dims=3)"
   ]
  }
 ],
 "metadata": {
  "kernelspec": {
   "display_name": "Julia 1.10.2",
   "language": "julia",
   "name": "julia-1.10"
  },
  "language_info": {
   "file_extension": ".jl",
   "mimetype": "application/julia",
   "name": "julia",
   "version": "1.10.2"
  }
 },
 "nbformat": 4,
 "nbformat_minor": 2
}

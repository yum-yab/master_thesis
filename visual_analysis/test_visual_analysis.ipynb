{
 "cells": [
  {
   "cell_type": "code",
   "execution_count": 2,
   "metadata": {},
   "outputs": [
    {
     "name": "stderr",
     "output_type": "stream",
     "text": [
      "\u001b[32m\u001b[1m  Activating\u001b[22m\u001b[39m project at `~/Documents/Uni/Master/MA/visual_analysis`\n"
     ]
    }
   ],
   "source": [
    "using Pkg\n",
    "\n",
    "Pkg.activate(\".\")"
   ]
  },
  {
   "cell_type": "code",
   "execution_count": 3,
   "metadata": {},
   "outputs": [],
   "source": [
    "using GLMakie\n",
    "using GeoMakie\n",
    "using EmpiricalOrthogonalFunctions\n",
    "using NCDatasets \n",
    "using Dates\n",
    "using BenchmarkTools"
   ]
  },
  {
   "cell_type": "code",
   "execution_count": 4,
   "metadata": {},
   "outputs": [
    {
     "data": {
      "text/plain": [
       "get_files_of_member (generic function with 1 method)"
      ]
     },
     "metadata": {},
     "output_type": "display_data"
    }
   ],
   "source": [
    "data_path = \"/home/denis/workspace/data/ivt_fields_v1\"\n",
    "\n",
    "function get_files_of_member(scenario_id, member_nr)\n",
    "    return readdir(joinpath(data_path, scenario_id, \"r$(member_nr)i1p1f1\"), join = true)    \n",
    "end\n"
   ]
  },
  {
   "cell_type": "code",
   "execution_count": 5,
   "metadata": {},
   "outputs": [
    {
     "data": {
      "text/plain": [
       "get_eof_of_datachunk (generic function with 1 method)"
      ]
     },
     "metadata": {},
     "output_type": "display_data"
    }
   ],
   "source": [
    "function get_eof_of_datachunk(data)\n",
    "    eof = EmpiricalOrthogonalFunction(data; timedim=3)\n",
    "\n",
    "    temporalsignal = pcs(eof)\n",
    "    spatialsignal = reshape(eofs(eof),(size(datain)[1:2]..., :))\n",
    "    return temporalsignal, spatialsignal\n",
    "end"
   ]
  },
  {
   "cell_type": "code",
   "execution_count": 6,
   "metadata": {},
   "outputs": [
    {
     "data": {
      "text/plain": [
       "get_all_data (generic function with 1 method)"
      ]
     },
     "metadata": {},
     "output_type": "display_data"
    }
   ],
   "source": [
    "function get_all_data(scenario_id, member_nr)\n",
    "\n",
    "    file_paths = get_files_of_member(scenario_id, member_nr)\n",
    "\n",
    "    time_data = Union{Missing, Dates.DateTime}[]\n",
    "    ivt_data = Array{Union{Missing, Float64}, 3}[]\n",
    "\n",
    "    \n",
    "\n",
    "    for file_path in file_paths\n",
    "        time_chunk, ivt_chunk = NCDataset(file_path) do ds\n",
    "            return ds[:time][:]::Array{Union{Missing, Dates.DateTime}, 1}, ds[:ivt][:, :, :]::Array{Union{Missing, Float64}, 3}\n",
    "        end\n",
    "        append!(time_data, time_chunk)\n",
    "        push!(ivt_data, ivt_chunk)\n",
    "    end\n",
    "\n",
    "    return time_data, cat(ivt_data..., dims=3)\n",
    "end"
   ]
  },
  {
   "cell_type": "code",
   "execution_count": 7,
   "metadata": {},
   "outputs": [
    {
     "ename": "InterruptException",
     "evalue": "InterruptException:",
     "output_type": "error",
     "traceback": [
      "InterruptException:\n",
      "\n",
      "Stacktrace:\n",
      " [1] (::DiskArrays.DimsDropper{Tuple{}})(a::Array{Float64, 3})\n",
      "   @ DiskArrays ~/.julia/packages/DiskArrays/bZBJE/src/diskarray.jl:158\n",
      " [2] getindex_disk(::NCDatasets.Variable{Float64, 3, NCDataset{Nothing, Missing}}, ::Function, ::Vararg{Function})\n",
      "   @ DiskArrays ~/.julia/packages/DiskArrays/bZBJE/src/diskarray.jl:41\n",
      " [3] getindex\n",
      "   @ ~/.julia/packages/DiskArrays/bZBJE/src/diskarray.jl:211 [inlined]\n",
      " [4] getindex(::CommonDataModel.CFVariable{Union{Missing, Float64}, 3, NCDatasets.Variable{Float64, 3, NCDataset{Nothing, Missing}}, CommonDataModel.Attributes{NCDatasets.Variable{Float64, 3, NCDataset{Nothing, Missing}}}, @NamedTuple{fillvalue::Float64, missing_values::Tuple{}, scale_factor::Nothing, add_offset::Nothing, calendar::Nothing, time_origin::Nothing, time_factor::Nothing, maskingvalue::Missing}}, ::Colon, ::Colon, ::Colon)\n",
      "   @ CommonDataModel ~/.julia/packages/CommonDataModel/GGvMn/src/cfvariable.jl:446\n",
      " [5] (::var\"#12#13\")(ds::NCDataset{Nothing, Missing})\n",
      "   @ Main ~/Documents/Uni/Master/MA/visual_analysis/test_visual_analysis.ipynb:12\n",
      " [6] NCDataset(f::var\"#12#13\", args::String; kwargs::@Kwargs{})\n",
      "   @ NCDatasets ~/.julia/packages/NCDatasets/wvLaN/src/dataset.jl:251\n",
      " [7] NCDataset\n",
      "   @ ~/.julia/packages/NCDatasets/wvLaN/src/dataset.jl:248 [inlined]\n",
      " [8] get_all_data(scenario_id::String, member_nr::Int64)\n",
      "   @ Main ~/Documents/Uni/Master/MA/visual_analysis/test_visual_analysis.ipynb:11\n",
      " [9] top-level scope\n",
      "   @ ~/Documents/Uni/Master/MA/visual_analysis/test_visual_analysis.ipynb:1"
     ]
    }
   ],
   "source": [
    "time_data, ivt_data = get_all_data(\"ssp126\", 10)"
   ]
  },
  {
   "cell_type": "code",
   "execution_count": 8,
   "metadata": {},
   "outputs": [
    {
     "data": {
      "text/plain": [
       "(Union{Missing, DateTime}[DateTime(\"2015-01-01T06:00:00\"), DateTime(\"2015-01-01T12:00:00\"), DateTime(\"2015-01-01T18:00:00\"), DateTime(\"2015-01-02T00:00:00\"), DateTime(\"2015-01-02T06:00:00\"), DateTime(\"2015-01-02T12:00:00\"), DateTime(\"2015-01-02T18:00:00\"), DateTime(\"2015-01-03T00:00:00\"), DateTime(\"2015-01-03T06:00:00\"), DateTime(\"2015-01-03T12:00:00\")  …  DateTime(\"2034-12-29T18:00:00\"), DateTime(\"2034-12-30T00:00:00\"), DateTime(\"2034-12-30T06:00:00\"), DateTime(\"2034-12-30T12:00:00\"), DateTime(\"2034-12-30T18:00:00\"), DateTime(\"2034-12-31T00:00:00\"), DateTime(\"2034-12-31T06:00:00\"), DateTime(\"2034-12-31T12:00:00\"), DateTime(\"2034-12-31T18:00:00\"), DateTime(\"2035-01-01T00:00:00\")], Union{Missing, Float64}[107.83024404217494 105.35183652372383 … 4.810704767513298 14.481626430503018; 138.11806601868335 132.92639636951492 … 5.865105532526301 14.261222253533777; … ; 32.42546716028079 93.37890870191428 … 7.1671847647811555 15.350266308663777; 35.96681207349521 100.77858958675463 … 6.003109756179521 14.769523960907568;;; 155.88351106173553 137.68630003367406 … 5.621365223404053 12.868731160759115; 175.09040598545715 148.27606281950167 … 5.870399867403574 12.983888172355686; … ; 57.355318935198824 114.23247369255013 … 9.072638371479535 2.4600581301580062; 75.17006033067896 120.0083155421852 … 9.188386466758864 1.3949336591196593;;; 143.5888403808529 118.19121748820878 … 6.249397273604056 9.4317883238216; 155.46660164378946 116.64371662344564 … 5.717499617028764 9.41694211752264; … ; 41.4328473260301 117.86327894896638 … 10.871551739200418 6.116638209290901; 68.42650195853976 129.71446849211344 … 11.766924247526145 7.410914040258337;;; … ;;; 316.8603690597288 252.7020453613509 … 19.736350226631853 15.764218721126595; 312.3012016778097 244.24322186307015 … 20.0398561500521 13.613146010530576; … ; 68.40061014311634 124.73459526220537 … 105.45321640371805 62.13371344098954; 66.0997459766919 89.68258368192106 … 105.2651817200565 57.93436438412202;;; 299.6876257216788 246.03113939004012 … 16.79754338294722 13.017743502535032; 306.125911257319 253.82729966790694 … 16.842496351321575 11.313919721595132; … ; 100.11865489891755 127.52216058103654 … 96.27066104092242 41.967854058847834; 92.99385369256935 113.74667892852423 … 96.41626506566882 40.70467045544023;;; 316.1766243505721 280.67103401460116 … 15.040794949279938 14.085135569834005; 339.25757390450025 297.06492607953317 … 15.389527507709403 12.9041894866343; … ; 105.89397347764628 117.57777296202633 … 88.99669046990853 40.42425247052262; 102.56828173318077 101.14110618668803 … 89.44219053853453 41.361778667008004])"
      ]
     },
     "metadata": {},
     "output_type": "display_data"
    }
   ],
   "source": [
    "time_data, ivt_data = NCDataset(get_files_of_member(\"ssp126\", 10)[1]) do ds\n",
    "    return ds[:time][:]::Array{Union{Missing, Dates.DateTime}, 1}, ds[:ivt][:, :, :]::Array{Union{Missing, Float64}, 3}\n",
    "end"
   ]
  },
  {
   "cell_type": "code",
   "execution_count": 9,
   "metadata": {},
   "outputs": [
    {
     "data": {
      "text/plain": [
       "(70, 32, 29220)"
      ]
     },
     "metadata": {},
     "output_type": "display_data"
    }
   ],
   "source": [
    "size(ivt_data)"
   ]
  },
  {
   "cell_type": "code",
   "execution_count": 10,
   "metadata": {},
   "outputs": [
    {
     "data": {
      "text/plain": [
       "filter_by_date (generic function with 2 methods)"
      ]
     },
     "metadata": {},
     "output_type": "display_data"
    }
   ],
   "source": [
    "function filter_by_date(fun, time_data, ivt_data, time_dim = 3)\n",
    "\n",
    "    time_result = filter(fun, time_data)\n",
    "    time_indices = [i for i in eachindex(time_data) if fun(time_data[i])]\n",
    "\n",
    "    return time_result, ivt_data[:, :, time_indices]\n",
    "end"
   ]
  },
  {
   "cell_type": "code",
   "execution_count": 11,
   "metadata": {},
   "outputs": [
    {
     "data": {
      "text/plain": [
       "4-element Vector{Int64}:\n",
       " 12\n",
       "  1\n",
       "  2\n",
       "  3"
      ]
     },
     "metadata": {},
     "output_type": "display_data"
    }
   ],
   "source": [
    "winter_months = [12, 1, 2, 3]"
   ]
  },
  {
   "cell_type": "code",
   "execution_count": 12,
   "metadata": {},
   "outputs": [
    {
     "data": {
      "text/plain": [
       "(Union{Missing, DateTime}[DateTime(\"2015-01-01T06:00:00\"), DateTime(\"2015-01-01T12:00:00\"), DateTime(\"2015-01-01T18:00:00\"), DateTime(\"2015-01-02T00:00:00\"), DateTime(\"2015-01-02T06:00:00\"), DateTime(\"2015-01-02T12:00:00\"), DateTime(\"2015-01-02T18:00:00\"), DateTime(\"2015-01-03T00:00:00\"), DateTime(\"2015-01-03T06:00:00\"), DateTime(\"2015-01-03T12:00:00\")  …  DateTime(\"2034-12-29T18:00:00\"), DateTime(\"2034-12-30T00:00:00\"), DateTime(\"2034-12-30T06:00:00\"), DateTime(\"2034-12-30T12:00:00\"), DateTime(\"2034-12-30T18:00:00\"), DateTime(\"2034-12-31T00:00:00\"), DateTime(\"2034-12-31T06:00:00\"), DateTime(\"2034-12-31T12:00:00\"), DateTime(\"2034-12-31T18:00:00\"), DateTime(\"2035-01-01T00:00:00\")], Union{Missing, Float64}[107.83024404217494 105.35183652372383 … 4.810704767513298 14.481626430503018; 138.11806601868335 132.92639636951492 … 5.865105532526301 14.261222253533777; … ; 32.42546716028079 93.37890870191428 … 7.1671847647811555 15.350266308663777; 35.96681207349521 100.77858958675463 … 6.003109756179521 14.769523960907568;;; 155.88351106173553 137.68630003367406 … 5.621365223404053 12.868731160759115; 175.09040598545715 148.27606281950167 … 5.870399867403574 12.983888172355686; … ; 57.355318935198824 114.23247369255013 … 9.072638371479535 2.4600581301580062; 75.17006033067896 120.0083155421852 … 9.188386466758864 1.3949336591196593;;; 143.5888403808529 118.19121748820878 … 6.249397273604056 9.4317883238216; 155.46660164378946 116.64371662344564 … 5.717499617028764 9.41694211752264; … ; 41.4328473260301 117.86327894896638 … 10.871551739200418 6.116638209290901; 68.42650195853976 129.71446849211344 … 11.766924247526145 7.410914040258337;;; … ;;; 316.8603690597288 252.7020453613509 … 19.736350226631853 15.764218721126595; 312.3012016778097 244.24322186307015 … 20.0398561500521 13.613146010530576; … ; 68.40061014311634 124.73459526220537 … 105.45321640371805 62.13371344098954; 66.0997459766919 89.68258368192106 … 105.2651817200565 57.93436438412202;;; 299.6876257216788 246.03113939004012 … 16.79754338294722 13.017743502535032; 306.125911257319 253.82729966790694 … 16.842496351321575 11.313919721595132; … ; 100.11865489891755 127.52216058103654 … 96.27066104092242 41.967854058847834; 92.99385369256935 113.74667892852423 … 96.41626506566882 40.70467045544023;;; 316.1766243505721 280.67103401460116 … 15.040794949279938 14.085135569834005; 339.25757390450025 297.06492607953317 … 15.389527507709403 12.9041894866343; … ; 105.89397347764628 117.57777296202633 … 88.99669046990853 40.42425247052262; 102.56828173318077 101.14110618668803 … 89.44219053853453 41.361778667008004])"
      ]
     },
     "metadata": {},
     "output_type": "display_data"
    }
   ],
   "source": [
    "time_filtered, data_filtered = filter_by_date(time_data, ivt_data) do time_element\n",
    "    \n",
    "\n",
    "    for wm in winter_months\n",
    "        if month(time_element) == wm\n",
    "            return true\n",
    "        end\n",
    "    end\n",
    "    return false\n",
    "end"
   ]
  },
  {
   "cell_type": "code",
   "execution_count": 21,
   "metadata": {},
   "outputs": [
    {
     "data": {
      "text/plain": [
       "484-element Vector{DateTime}:\n",
       " 2017-01-01T00:00:00\n",
       " 2017-01-01T06:00:00\n",
       " 2017-01-01T12:00:00\n",
       " 2017-01-01T18:00:00\n",
       " 2017-01-02T00:00:00\n",
       " 2017-01-02T06:00:00\n",
       " 2017-01-02T12:00:00\n",
       " 2017-01-02T18:00:00\n",
       " 2017-01-03T00:00:00\n",
       " 2017-01-03T06:00:00\n",
       " ⋮\n",
       " 2017-12-29T18:00:00\n",
       " 2017-12-30T00:00:00\n",
       " 2017-12-30T06:00:00\n",
       " 2017-12-30T12:00:00\n",
       " 2017-12-30T18:00:00\n",
       " 2017-12-31T00:00:00\n",
       " 2017-12-31T06:00:00\n",
       " 2017-12-31T12:00:00\n",
       " 2017-12-31T18:00:00"
      ]
     },
     "metadata": {},
     "output_type": "display_data"
    }
   ],
   "source": [
    "years = Dict()\n",
    "\n",
    "for d in time_filtered\n",
    "    key = year(d)\n",
    "    if haskey(years, key)\n",
    "        push!(years[key], d)\n",
    "    else\n",
    "        years[key] = [d]\n",
    "    end\n",
    "end \n",
    "years[2017]"
   ]
  },
  {
   "cell_type": "code",
   "execution_count": 34,
   "metadata": {},
   "outputs": [
    {
     "data": {
      "text/plain": [
       "build_figure (generic function with 1 method)"
      ]
     },
     "metadata": {},
     "output_type": "display_data"
    }
   ],
   "source": [
    "\n",
    "# create geographical axes\n",
    "function local_geoaxis_creation!(\n",
    "    figure::Makie.Figure,\n",
    "    lonlims::Tuple{<:Number, <:Number}, \n",
    "    latlims::Tuple{<:Number, <:Number}; \n",
    "    lonpadding::Float64 = 1.0, \n",
    "    latpadding::Float64 = 1.0,\n",
    "    figure_x::Int = 1,\n",
    "    figure_y::Int = 1,\n",
    "    title::String = \"\"\n",
    "    )\n",
    "    \n",
    "    paddingfun = (x, y) -> x < 0 ? x-y : x + y\n",
    "\n",
    "    lon_padded = paddingfun.(lonlims, lonpadding)\n",
    "    lon_center = lon_padded[1] + ((lon_padded[2] - lon_padded[1]) / 2)\n",
    "\n",
    "\n",
    "\n",
    "    lat_padded = paddingfun.(latlims, latpadding)\n",
    "    lat_center = lat_padded[1] + ((lat_padded[2] - lat_padded[1]) / 2)\n",
    "    \n",
    "    geoaxis = GeoMakie.GeoAxis(\n",
    "        figure[figure_x, figure_y]; \n",
    "        dest = \"+proj=merc +lon_0=$(lon_center) +lat_0=$(lat_center)\",\n",
    "        # source = dest,\n",
    "        # lonlims = lonlims,\n",
    "        # latlims = latlims,\n",
    "        limits=(lonlims, latlims),\n",
    "        title = title\n",
    "    )\n",
    "\n",
    "    \n",
    "\n",
    "    return geoaxis\n",
    "end\n",
    "\n",
    "\n",
    "function build_figure(\n",
    "    data,\n",
    "    lon_bounds::Tuple{<:Number, <:Number},\n",
    "    lat_bounds::Tuple{<:Number, <:Number};\n",
    "    title::String = \"\",\n",
    "    lonpadding::Float64 = 1.0, \n",
    "    latpadding::Float64 = 1.0,\n",
    "    colormap = :viridis,\n",
    "    colorrange::Union{Nothing, Tuple{<:Real, <:Real}} = nothing, \n",
    "    shading = Makie.automatic,\n",
    "    resolution::Union{Nothing, Tuple{Int, Int}})::Makie.Figure\n",
    "\n",
    "    fig = isnothing(resolution) ?  Figure(fontsize=12) : Figure(size = resolution, fontsize=12)\n",
    "\n",
    "    \n",
    "\n",
    "    ga = local_geoaxis_creation!(fig, lon_bounds, lat_bounds; lonpadding, latpadding, title=title)\n",
    "    surface!(ga, lon_bounds[1]..lon_bounds[2], lat_bounds[1]..lat_bounds[2], data; shading = shading, colormap = colormap)\n",
    "    lines!(ga, GeoMakie.coastlines(); color = :red, transformation = (; translation = (0, 0, 1000)))\n",
    "    return fig\n",
    "end"
   ]
  },
  {
   "cell_type": "code",
   "execution_count": 36,
   "metadata": {},
   "outputs": [],
   "source": [
    "build_figure(data_filtered[:, :, 1], (-90, 40), (20, 80); title = \"Test IVT 1\", resolution = (1000, 1000), colormap = :redsblues)"
   ]
  }
 ],
 "metadata": {
  "kernelspec": {
   "display_name": "Julia 1.10.2",
   "language": "julia",
   "name": "julia-1.10"
  },
  "language_info": {
   "file_extension": ".jl",
   "mimetype": "application/julia",
   "name": "julia",
   "version": "1.10.2"
  }
 },
 "nbformat": 4,
 "nbformat_minor": 2
}

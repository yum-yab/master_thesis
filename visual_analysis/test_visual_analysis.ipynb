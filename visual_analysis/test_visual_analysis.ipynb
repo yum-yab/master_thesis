{
 "cells": [
  {
   "cell_type": "code",
   "execution_count": 1,
   "metadata": {},
   "outputs": [
    {
     "name": "stderr",
     "output_type": "stream",
     "text": [
      "\u001b[32m\u001b[1m  Activating\u001b[22m\u001b[39m project at `~/Documents/Uni/Master/MA/visual_analysis`\n"
     ]
    }
   ],
   "source": [
    "using Pkg\n",
    "\n",
    "Pkg.activate(\".\")"
   ]
  },
  {
   "cell_type": "code",
   "execution_count": 2,
   "metadata": {},
   "outputs": [],
   "source": [
    "using GLMakie\n",
    "using GeoMakie\n",
    "using EmpiricalOrthogonalFunctions\n",
    "using NCDatasets \n",
    "using Dates\n",
    "using BenchmarkTools\n",
    "using Statistics\n",
    "using StatsBase"
   ]
  },
  {
   "cell_type": "code",
   "execution_count": 3,
   "metadata": {},
   "outputs": [
    {
     "name": "stderr",
     "output_type": "stream",
     "text": [
      "\u001b[32m\u001b[1m    CondaPkg \u001b[22m\u001b[39m\u001b[0mFound dependencies: /home/denis/Documents/Uni/Master/MA/visual_analysis/CondaPkg.toml\n",
      "\u001b[32m\u001b[1m    CondaPkg \u001b[22m\u001b[39m\u001b[0mFound dependencies: /home/denis/.julia/packages/PythonCall/bb3ax/CondaPkg.toml\n",
      "\u001b[32m\u001b[1m    CondaPkg \u001b[22m\u001b[39m\u001b[0mDependencies already up to date\n"
     ]
    },
    {
     "data": {
      "text/plain": [
       "calculate_eofs_of_tl_data (generic function with 1 method)"
      ]
     },
     "metadata": {},
     "output_type": "display_data"
    }
   ],
   "source": [
    "include(\"utils.jl\")"
   ]
  },
  {
   "cell_type": "code",
   "execution_count": 9,
   "metadata": {},
   "outputs": [
    {
     "data": {
      "text/plain": [
       "\"/home/denis/workspace/data/ivt_monthly_mean\""
      ]
     },
     "metadata": {},
     "output_type": "display_data"
    }
   ],
   "source": [
    "# base_path = \"/home/denis/workspace/data/ivt_fields_v1\"\n",
    "base_path = \"/mnt/bigdrive/Datasets/ivt_fields_v1\"\n",
    "# base_path = \"/home/denis/workspace/datasets/ps_data_fast\"\n",
    "monthly_ps_data_path = \"/home/denis/workspace/data/ps_data_monthly\"\n",
    "mon_mean_base_path = \"/home/denis/workspace/data/ivt_monthly_mean\"\n"
   ]
  },
  {
   "cell_type": "code",
   "execution_count": 5,
   "metadata": {},
   "outputs": [
    {
     "data": {
      "text/plain": [
       "4-element Vector{Int64}:\n",
       " 12\n",
       "  1\n",
       "  2\n",
       "  3"
      ]
     },
     "metadata": {},
     "output_type": "display_data"
    }
   ],
   "source": [
    "winter_months = [12, 1, 2, 3]"
   ]
  },
  {
   "cell_type": "code",
   "execution_count": 8,
   "metadata": {},
   "outputs": [
    {
     "data": {
      "text/plain": [
       "TimelineData(Union{Missing, AbstractFloat}[-90.0, -88.125, -86.25, -84.375, -82.5, -80.625, -78.75, -76.875, -75.0, -73.125  …  22.5, 24.375, 26.25, 28.125, 30.0, 31.875, 33.75, 35.625, 37.5, 39.375], Union{Missing, AbstractFloat}[21.450475037398185, 23.31573072614093, 25.180985581270594, 27.04623949994481, 28.91149236871774, 30.77674406172325, 32.64199443851768, 34.50724334150103, 36.37249059281224, 38.23773599056483  …  62.48557052203639, 64.35073040887207, 66.2158721139987, 68.08099098565125, 69.94608064698343, 71.81113211427447, 73.67613231320912, 75.54106145287895, 77.4058880820788, 79.27055903485967], Union{Missing, DateTime}[DateTime(\"2015-01-16T12:00:00\"), DateTime(\"2015-02-14T21:00:00\"), DateTime(\"2015-03-16T09:00:00\"), DateTime(\"2015-12-16T09:00:00\"), DateTime(\"2016-01-16T09:00:00\"), DateTime(\"2016-02-15T09:00:00\"), DateTime(\"2016-03-16T09:00:00\"), DateTime(\"2016-12-16T09:00:00\"), DateTime(\"2017-01-16T09:00:00\"), DateTime(\"2017-02-14T21:00:00\")  …  DateTime(\"2098-12-16T09:00:00\"), DateTime(\"2099-01-16T09:00:00\"), DateTime(\"2099-02-14T21:00:00\"), DateTime(\"2099-03-16T09:00:00\"), DateTime(\"2099-12-16T09:00:00\"), DateTime(\"2100-01-16T09:00:00\"), DateTime(\"2100-02-14T21:00:00\"), DateTime(\"2100-03-16T09:00:00\"), DateTime(\"2100-12-16T09:00:00\"), DateTime(\"2101-01-01T00:00:00\")], ScenarioData[ScenarioData(\"ssp585\", Union{Missing, AbstractFloat}[101559.7578125 101852.96875 … 97325.2109375 95475.2578125; 101964.3203125 102422.8984375 … 96766.1875 94865.125; … ; 100193.2734375 101603.4765625 … 100404.3203125 99905.9609375; 98136.34375 96560.96875 … 100721.9375 100150.609375;;; 101610.1875 101892.9140625 … 97672.8203125 95712.046875; 101998.8515625 102457.4765625 … 97121.0 95104.53125; … ; 100053.3828125 101419.6953125 … 99351.6875 99049.015625; 98004.953125 96409.8125 … 99634.078125 99261.96875;;; 101257.0078125 101513.4921875 … 98525.1328125 96573.09375; 101680.1640625 102101.625 … 97994.6171875 95981.2578125; … ; 99764.1796875 101112.828125 … 101640.328125 101128.8359375; 97747.546875 96155.3359375 … 101895.3828125 101325.453125;;; … ;;; 101220.8203125 101507.8359375 … 98349.9921875 96533.609375; 101676.2578125 102114.546875 … 97833.9765625 95962.2421875; … ; 99629.125 100928.46875 … 101239.0625 100674.703125; 97645.3046875 96073.1015625 … 101570.0 100936.8046875;;; 101374.75 101653.53125 … 96779.890625 94985.65625; 101781.375 102231.2421875 … 96275.9609375 94419.5; … ; 99999.4140625 101319.6796875 … 99604.5234375 98966.9921875; 98048.3515625 96509.8125 … 99879.421875 99182.5390625;;; 101424.125 101750.125 … 96070.125 94353.125; 101864.125 102324.125 … 95503.125 93734.125; … ; 100083.125 101436.125 … 100044.125 98856.125; 98033.125 96539.125 … 100376.125 99110.125])])"
      ]
     },
     "metadata": {},
     "output_type": "display_data"
    }
   ],
   "source": [
    "ps_data = filter_by_date(build_timeline_data(monthly_ps_data_path, 1, \"ssp585\"; file_range_selection = :, data_field_id=\"ps\")) do time_element\n",
    "\n",
    "    for wm in winter_months\n",
    "        if month(time_element) == wm\n",
    "            return true\n",
    "        end\n",
    "    end\n",
    "    return false\n",
    "end"
   ]
  },
  {
   "cell_type": "code",
   "execution_count": 11,
   "metadata": {},
   "outputs": [
    {
     "data": {
      "text/plain": [
       "TimelineData(Union{Missing, AbstractFloat}[-90.0, -88.125, -86.25, -84.375, -82.5, -80.625, -78.75, -76.875, -75.0, -73.125  …  22.5, 24.375, 26.25, 28.125, 30.0, 31.875, 33.75, 35.625, 37.5, 39.375], Union{Missing, AbstractFloat}[21.450475037398185, 23.31573072614093, 25.180985581270594, 27.04623949994481, 28.91149236871774, 30.77674406172325, 32.64199443851768, 34.50724334150103, 36.37249059281224, 38.23773599056483  …  62.48557052203639, 64.35073040887207, 66.2158721139987, 68.08099098565125, 69.94608064698343, 71.81113211427447, 73.67613231320912, 75.54106145287895, 77.4058880820788, 79.27055903485967], Union{Missing, DateTime}[DateTime(\"2015-01-16T12:00:00\"), DateTime(\"2015-02-14T21:00:00\"), DateTime(\"2015-03-16T09:00:00\"), DateTime(\"2015-12-16T09:00:00\"), DateTime(\"2016-01-16T09:00:00\"), DateTime(\"2016-02-15T09:00:00\"), DateTime(\"2016-03-16T09:00:00\"), DateTime(\"2016-12-16T09:00:00\"), DateTime(\"2017-01-16T09:00:00\"), DateTime(\"2017-02-14T21:00:00\")  …  DateTime(\"2098-12-16T09:00:00\"), DateTime(\"2099-01-16T09:00:00\"), DateTime(\"2099-02-14T21:00:00\"), DateTime(\"2099-03-16T09:00:00\"), DateTime(\"2099-12-16T09:00:00\"), DateTime(\"2100-01-16T09:00:00\"), DateTime(\"2100-02-14T21:00:00\"), DateTime(\"2100-03-16T09:00:00\"), DateTime(\"2100-12-16T09:00:00\"), DateTime(\"2101-01-01T00:00:00\")], ScenarioData[ScenarioData(\"ssp126\", Union{Missing, AbstractFloat}[183.74911573707828 163.21905060943445 … 14.357007090955785 13.453895564649764; 196.92414726424704 181.3847107513107 … 15.008165757745328 13.993438468617788; … ; 79.9166815528064 75.92575745359655 … 36.61887185708259 29.943024898182497; 68.13365299667942 62.74720943730691 … 36.51216143455265 29.57740970268891;;; 196.3224123962182 199.04197167438565 … 16.8037437278927 16.248319815568454; 220.6916197805289 213.00221078040872 … 16.594524771756348 16.01004716331677; … ; 61.35503512547841 48.88013434250992 … 36.9428334451273 31.533575187831303; 58.76755070351866 39.44317171686516 … 36.48976519171424 30.969227110057833;;; 219.89113187696836 235.77583967258647 … 10.83725237095948 9.29953594597384; 244.69226011145548 253.91881302653726 … 10.479882176136048 9.198975156868961; … ; 87.48805494221098 79.27944338220125 … 26.684227803024065 19.260841657425107; 91.13677296112209 72.57882917153452 … 27.446686708583098 19.741859696954844;;; … ;;; 189.05060537035567 217.5556041992656 … 29.159340110597938 27.83436919734367; 204.7024752351035 239.0903195802368 … 28.21577497977821 27.079831281782443; … ; 91.08614166966098 90.88812051187038 … 27.777964430086055 20.88636621387547; 87.93279981566062 86.21750276312395 … 26.51289311339022 20.20082268514008;;; 263.4268358633991 255.36685427891723 … 19.34003249779506 18.445371061990322; 265.15348997357677 255.35787030547286 … 19.635268999324765 18.646267070495732; … ; 82.42787982440528 75.75708643965189 … 58.86920619231526 45.89552740762239; 69.45117204230155 68.15010070718897 … 59.24832572447663 45.80550630981257;;; 215.07063355389826 98.05008821606967 … 2.2330716876241796 2.6927010274924834; 176.4055588967954 96.40320794263384 … 2.1918774930964435 3.5252433787449124; … ; 82.18143127926434 114.09535209807495 … 90.01042463298343 39.351751251481865; 80.01413814586543 87.43926735892929 … 78.7407396540763 33.124462268178206]), ScenarioData(\"ssp585\", Union{Missing, AbstractFloat}[145.81860360664533 143.29926825641684 … 16.153853331783818 15.396717455432569; 163.22817209377732 162.0302859034323 … 15.561526354076337 14.989563519986008; … ; 57.607257080551356 50.5780322873967 … 45.429808167278 36.337560306397094; 40.271294508847944 37.93085178126392 … 46.3388292897332 36.64004705730058;;; 186.12071436325687 220.517750581234 … 36.29445003559248 30.906355503459455; 197.12394042988518 237.8050355776013 … 35.74956833797491 30.36874638682833; … ; 69.12419707360174 62.344881849848505 … 33.84503158112402 28.091331349774606; 64.87904456534723 52.14590886328922 … 34.89634395079443 28.539522081449537;;; 213.99905372386007 233.1231241485298 … 21.642217429242944 18.544594226472086; 227.62432047837996 238.01353688149769 … 21.728966786450975 18.45664261226694; … ; 90.93737284861517 88.2984573070163 … 69.42971201406738 55.20563537975246; 84.97770007437494 75.77313966568043 … 68.00868782229274 54.146139255466466;;; … ;;; 230.16444612880144 275.5141767431921 … 25.7744702204575 25.352517980444503; 253.27549533988707 283.76398168335515 … 25.60430350829713 24.948179809651965; … ; 129.76397510844117 142.37701483056588 … 63.44219798784819 58.40043463136293; 130.15252004218158 147.10771548875732 … 61.42434730038742 56.69701275671627;;; 278.8529160441844 245.099811163391 … 61.01170168192888 55.91897414198425; 287.4228846013773 246.97572347155727 … 58.85776137022478 54.76675543318627; … ; 72.51681039544401 66.12986605548954 … 70.33882134312763 59.81094089561622; 47.008491060880786 48.922838672256184 … 70.25490822148912 59.3328866427079;;; 385.0264158497986 318.47473490152333 … 6.299495653086653 1.7275085785943185; 436.074165296137 346.82096216369484 … 5.197849267974262 0.4391484509139482; … ; 97.58949167200626 52.03638073180983 … 80.37491682800969 102.8409452994274; 48.75121901417123 17.615207104903284 … 79.20750974533583 103.70493886651715])])"
      ]
     },
     "metadata": {},
     "output_type": "display_data"
    }
   ],
   "source": [
    "\n",
    "monthly_tl_data = filter_by_date(build_timeline_data(mon_mean_base_path, 10, \"ssp126\", \"ssp585\"; file_range_selection = :)) do time_element\n",
    "\n",
    "    for wm in winter_months\n",
    "        if month(time_element) == wm\n",
    "            return true\n",
    "        end\n",
    "    end\n",
    "    return false\n",
    "end"
   ]
  },
  {
   "cell_type": "code",
   "execution_count": 12,
   "metadata": {},
   "outputs": [
    {
     "data": {
      "text/plain": [
       "37-element Vector{UnitRange{Int64}}:\n",
       " 1:201\n",
       " 4:205\n",
       " 8:209\n",
       " 12:213\n",
       " 16:217\n",
       " 20:221\n",
       " 24:225\n",
       " 28:229\n",
       " 32:233\n",
       " 36:237\n",
       " ⋮\n",
       " 113:314\n",
       " 117:318\n",
       " 121:322\n",
       " 125:327\n",
       " 129:331\n",
       " 133:335\n",
       " 137:339\n",
       " 141:343\n",
       " 145:347"
      ]
     },
     "metadata": {},
     "output_type": "display_data"
    }
   ],
   "source": [
    "scopes_50_seasons = get_sliding_time_scopes_by_threshold(monthly_tl_data.time, 50)"
   ]
  },
  {
   "cell_type": "code",
   "execution_count": 13,
   "metadata": {},
   "outputs": [
    {
     "name": "stdout",
     "output_type": "stream",
     "text": [
      "Handled scope 1:201 out of 37 on thread 1\n",
      "Handled scope 4:205 out of 37 on thread 1\n",
      "Handled scope 8:209 out of 37 on thread 1\n",
      "Handled scope 12:213 out of 37 on thread 1\n",
      "Handled scope 16:217 out of 37 on thread 1\n",
      "Handled scope 20:221 out of 37 on thread 1\n",
      "Handled scope 24:225 out of 37 on thread 1\n",
      "Handled scope 28:229 out of 37 on thread 1\n",
      "Handled scope 32:233 out of 37 on thread 1\n",
      "Handled scope 36:237 out of 37 on thread 1\n",
      "Handled scope 40:241 out of 37 on thread 1\n",
      "Handled scope 44:246 out of 37 on thread 1\n",
      "Handled scope 48:250 out of 37 on thread 1\n",
      "Handled scope 52:254 out of 37 on thread 1\n",
      "Handled scope 56:258 out of 37 on thread 1\n",
      "Handled scope 60:262 out of 37 on thread 1\n",
      "Handled scope 64:266 out of 37 on thread 1\n",
      "Handled scope 68:270 out of 37 on thread 1\n",
      "Handled scope 72:274 out of 37 on thread 1\n",
      "Handled scope 76:278 out of 37 on thread 1\n",
      "Handled scope 80:282 out of 37 on thread 1\n",
      "Handled scope 85:286 out of 37 on thread 1\n",
      "Handled scope 89:290 out of 37 on thread 1\n",
      "Handled scope 93:294 out of 37 on thread 1\n",
      "Handled scope 97:298 out of 37 on thread 1\n",
      "Handled scope 101:302 out of 37 on thread 1\n",
      "Handled scope 105:306 out of 37 on thread 1\n",
      "Handled scope 109:310 out of 37 on thread 1\n",
      "Handled scope 113:314 out of 37 on thread 1\n",
      "Handled scope 117:318 out of 37 on thread 1\n",
      "Handled scope 121:322 out of 37 on thread 1\n",
      "Handled scope 125:327 out of 37 on thread 1\n",
      "Handled scope 129:331 out of 37 on thread 1\n",
      "Handled scope 133:335 out of 37 on thread 1\n",
      "Handled scope 137:339 out of 37 on thread 1\n",
      "Handled scope 141:343 out of 37 on thread 1\n",
      "Handled scope 145:347 out of 37 on thread 1\n",
      "Handled scope 1:201 out of 37 on thread 1\n",
      "Handled scope 4:205 out of 37 on thread 1\n",
      "Handled scope 8:209 out of 37 on thread 1\n",
      "Handled scope 12:213 out of 37 on thread 1\n",
      "Handled scope 16:217 out of 37 on thread 1\n",
      "Handled scope 20:221 out of 37 on thread 1\n",
      "Handled scope 24:225 out of 37 on thread 1\n",
      "Handled scope 28:229 out of 37 on thread 1\n",
      "Handled scope 32:233 out of 37 on thread 1\n",
      "Handled scope 36:237 out of 37 on thread 1\n",
      "Handled scope 40:241 out of 37 on thread 1\n",
      "Handled scope 44:246 out of 37 on thread 1\n",
      "Handled scope 48:250 out of 37 on thread 1\n",
      "Handled scope 52:254 out of 37 on thread 1\n",
      "Handled scope 56:258 out of 37 on thread 1\n",
      "Handled scope 60:262 out of 37 on thread 1\n",
      "Handled scope 64:266 out of 37 on thread 1\n",
      "Handled scope 68:270 out of 37 on thread 1\n",
      "Handled scope 72:274 out of 37 on thread 1\n",
      "Handled scope 76:278 out of 37 on thread 1\n",
      "Handled scope 80:282 out of 37 on thread 1\n",
      "Handled scope 85:286 out of 37 on thread 1\n",
      "Handled scope 89:290 out of 37 on thread 1\n",
      "Handled scope 93:294 out of 37 on thread 1\n",
      "Handled scope 97:298 out of 37 on thread 1\n",
      "Handled scope 101:302 out of 37 on thread 1\n",
      "Handled scope 105:306 out of 37 on thread 1\n",
      "Handled scope 109:310 out of 37 on thread 1\n",
      "Handled scope 113:314 out of 37 on thread 1\n",
      "Handled scope 117:318 out of 37 on thread 1\n",
      "Handled scope 121:322 out of 37 on thread 1\n",
      "Handled scope 125:327 out of 37 on thread 1\n",
      "Handled scope 129:331 out of 37 on thread 1\n",
      "Handled scope 133:335 out of 37 on thread 1\n",
      "Handled scope 137:339 out of 37 on thread 1\n",
      "Handled scope 141:343 out of 37 on thread 1\n",
      "Handled scope 145:347 out of 37 on thread 1\n"
     ]
    },
    {
     "data": {
      "text/plain": [
       "Dict{String, Vector{EOFResult}} with 2 entries:\n",
       "  \"ssp126\" => [EOFResult([-142.596 -60.2196 … 10.1789 7.75585; -137.487 -32.228…\n",
       "  \"ssp585\" => [EOFResult([-71.9979 2.98634 … 12.9902 10.0804; -66.2574 42.7712 …"
      ]
     },
     "metadata": {},
     "output_type": "display_data"
    }
   ],
   "source": [
    "ivt_eof_data = calculate_eofs_of_tl_data(\n",
    "    monthly_tl_data, \n",
    "    scopes_50_seasons, \n",
    "    2; \n",
    "    engine=:python, \n",
    "    reof=false, \n",
    "    center=true, \n",
    "    align_eof_with_mean=true, \n",
    "    align_pcs_with_mean=false, \n",
    "    weights=sqrt.(cos.(deg2rad.(monthly_tl_data.lats))), \n",
    "    eof_type=:normal,\n",
    "    scale_with_eigenvals=true\n",
    ")"
   ]
  },
  {
   "cell_type": "code",
   "execution_count": 14,
   "metadata": {},
   "outputs": [
    {
     "name": "stdout",
     "output_type": "stream",
     "text": [
      "Handled scope 1:201 out of 37 on thread 1\n",
      "Handled scope 4:205 out of 37 on thread 1\n",
      "Handled scope 8:209 out of 37 on thread 1\n",
      "Handled scope 12:213 out of 37 on thread 1\n",
      "Handled scope 16:217 out of 37 on thread 1\n",
      "Handled scope 20:221 out of 37 on thread 1\n",
      "Handled scope 24:225 out of 37 on thread 1\n",
      "Handled scope 28:229 out of 37 on thread 1\n",
      "Handled scope 32:233 out of 37 on thread 1\n",
      "Handled scope 36:237 out of 37 on thread 1\n",
      "Handled scope 40:241 out of 37 on thread 1\n",
      "Handled scope 44:246 out of 37 on thread 1\n",
      "Handled scope 48:250 out of 37 on thread 1\n",
      "Handled scope 52:254 out of 37 on thread 1\n",
      "Handled scope 56:258 out of 37 on thread 1\n",
      "Handled scope 60:262 out of 37 on thread 1\n",
      "Handled scope 64:266 out of 37 on thread 1\n",
      "Handled scope 68:270 out of 37 on thread 1\n",
      "Handled scope 72:274 out of 37 on thread 1\n",
      "Handled scope 76:278 out of 37 on thread 1\n",
      "Handled scope 80:282 out of 37 on thread 1\n",
      "Handled scope 85:286 out of 37 on thread 1\n",
      "Handled scope 89:290 out of 37 on thread 1\n",
      "Handled scope 93:294 out of 37 on thread 1\n",
      "Handled scope 97:298 out of 37 on thread 1\n",
      "Handled scope 101:302 out of 37 on thread 1\n",
      "Handled scope 105:306 out of 37 on thread 1\n",
      "Handled scope 109:310 out of 37 on thread 1\n",
      "Handled scope 113:314 out of 37 on thread 1\n",
      "Handled scope 117:318 out of 37 on thread 1\n",
      "Handled scope 121:322 out of 37 on thread 1\n",
      "Handled scope 125:327 out of 37 on thread 1\n",
      "Handled scope 129:331 out of 37 on thread 1\n",
      "Handled scope 133:335 out of 37 on thread 1\n",
      "Handled scope 137:339 out of 37 on thread 1\n",
      "Handled scope 141:343 out of 37 on thread 1\n",
      "Handled scope 145:347 out of 37 on thread 1\n"
     ]
    },
    {
     "data": {
      "text/plain": [
       "Dict{String, Vector{EOFResult}} with 1 entry:\n",
       "  \"ssp585\" => [EOFResult([-1068.38 -1196.7 … 3481.51 3222.27; -963.222 -1120.9 …"
      ]
     },
     "metadata": {},
     "output_type": "display_data"
    }
   ],
   "source": [
    "ps_eof_data = calculate_eofs_of_tl_data(\n",
    "    ps_data, \n",
    "    scopes_50_seasons, \n",
    "    1; \n",
    "    engine=:python, \n",
    "    reof=false, \n",
    "    center=true, \n",
    "    align_eof_with_mean=true, \n",
    "    align_pcs_with_mean=false, \n",
    "    weights=sqrt.(cos.(deg2rad.(monthly_tl_data.lats))), \n",
    "    eof_type=:normal,\n",
    "    scale_with_eigenvals=true\n",
    ")"
   ]
  },
  {
   "cell_type": "code",
   "execution_count": 33,
   "metadata": {},
   "outputs": [
    {
     "ename": "UndefVarError",
     "evalue": "UndefVarError: `transform` not defined",
     "output_type": "error",
     "traceback": [
      "UndefVarError: `transform` not defined\n",
      "\n",
      "Stacktrace:\n",
      " [1] top-level scope\n",
      "   @ ~/Documents/Uni/Master/MA/visual_analysis/test_visual_analysis.ipynb:4"
     ]
    }
   ],
   "source": [
    "first_ps_eof = ps_eof_data[\"ssp585\"][1].temporal_modes[:, 1]\n",
    "first_ivt_eof = ivt_eof_data[\"ssp585\"][1].temporal_modes[:, 1]\n",
    "\n",
    "crosscor(StatsBase.transform(fit(ZScoreTransform, first_ps_eof), first_ps_eof), StatsBase.transform(fit(ZScoreTransform, first_ivt_eof)))"
   ]
  },
  {
   "cell_type": "code",
   "execution_count": null,
   "metadata": {},
   "outputs": [],
   "source": [
    "fig = Figure()\n",
    "\n",
    "axis = Axis(fig[1, 1], title = \"Crosscorrelation of IVT mode 1 and PS mode 1\")\n",
    "\n",
    "\n",
    "scope_observable = Observable(1)\n",
    "\n"
   ]
  }
 ],
 "metadata": {
  "kernelspec": {
   "display_name": "Julia 1.10.2",
   "language": "julia",
   "name": "julia-1.10"
  },
  "language_info": {
   "file_extension": ".jl",
   "mimetype": "application/julia",
   "name": "julia",
   "version": "1.10.2"
  }
 },
 "nbformat": 4,
 "nbformat_minor": 2
}

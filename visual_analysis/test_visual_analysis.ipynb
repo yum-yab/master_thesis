{
 "cells": [
  {
   "cell_type": "code",
   "execution_count": 7,
   "metadata": {},
   "outputs": [
    {
     "name": "stderr",
     "output_type": "stream",
     "text": [
      "\u001b[32m\u001b[1m  Activating\u001b[22m\u001b[39m project at `~/Documents/Uni/Master/MA/visual_analysis`\n"
     ]
    }
   ],
   "source": [
    "using Pkg\n",
    "\n",
    "Pkg.activate(\".\")"
   ]
  },
  {
   "cell_type": "code",
   "execution_count": 8,
   "metadata": {},
   "outputs": [],
   "source": [
    "using GLMakie\n",
    "using GeoMakie\n",
    "using EmpiricalOrthogonalFunctions\n",
    "using NCDatasets \n",
    "using Dates\n",
    "using BenchmarkTools\n",
    "using Statistics"
   ]
  },
  {
   "cell_type": "code",
   "execution_count": 12,
   "metadata": {},
   "outputs": [
    {
     "data": {
      "text/plain": [
       "get_eof_of_datachunk (generic function with 1 method)"
      ]
     },
     "metadata": {},
     "output_type": "display_data"
    }
   ],
   "source": [
    "include(\"utils.jl\")"
   ]
  },
  {
   "cell_type": "code",
   "execution_count": 10,
   "metadata": {},
   "outputs": [
    {
     "data": {
      "text/plain": [
       "\"/home/denis/workspace/data/ivt_fields_v1\""
      ]
     },
     "metadata": {},
     "output_type": "display_data"
    }
   ],
   "source": [
    "base_path = \"/home/denis/workspace/data/ivt_fields_v1\""
   ]
  },
  {
   "cell_type": "code",
   "execution_count": 13,
   "metadata": {},
   "outputs": [
    {
     "data": {
      "text/plain": [
       "TimelineData(Union{Missing, AbstractFloat}[-90.0, -88.125, -86.25, -84.375, -82.5, -80.625, -78.75, -76.875, -75.0, -73.125  …  22.5, 24.375, 26.25, 28.125, 30.0, 31.875, 33.75, 35.625, 37.5, 39.375], Union{Missing, AbstractFloat}[21.450475037398185, 23.31573072614093, 25.180985581270594, 27.04623949994481, 28.91149236871774, 30.77674406172325, 32.64199443851768, 34.50724334150103, 36.37249059281224, 38.23773599056483  …  62.48557052203639, 64.35073040887207, 66.2158721139987, 68.08099098565125, 69.94608064698343, 71.81113211427447, 73.67613231320912, 75.54106145287895, 77.4058880820788, 79.27055903485967], Union{Missing, DateTime}[DateTime(\"2075-01-01T06:00:00\"), DateTime(\"2075-01-01T12:00:00\"), DateTime(\"2075-01-01T18:00:00\"), DateTime(\"2075-01-02T00:00:00\"), DateTime(\"2075-01-02T06:00:00\"), DateTime(\"2075-01-02T12:00:00\"), DateTime(\"2075-01-02T18:00:00\"), DateTime(\"2075-01-03T00:00:00\"), DateTime(\"2075-01-03T06:00:00\"), DateTime(\"2075-01-03T12:00:00\")  …  DateTime(\"2100-12-29T18:00:00\"), DateTime(\"2100-12-30T00:00:00\"), DateTime(\"2100-12-30T06:00:00\"), DateTime(\"2100-12-30T12:00:00\"), DateTime(\"2100-12-30T18:00:00\"), DateTime(\"2100-12-31T00:00:00\"), DateTime(\"2100-12-31T06:00:00\"), DateTime(\"2100-12-31T12:00:00\"), DateTime(\"2100-12-31T18:00:00\"), DateTime(\"2101-01-01T00:00:00\")], ScenarioData[ScenarioData(\"ssp126\", Union{Missing, AbstractFloat}[194.78271993133765 234.96831908679403 … 6.776989705722014 3.931240290747281; 268.1272946651553 278.47486855603745 … 7.858247756880072 4.167442620065732; … ; 33.86658209981981 24.003497999955695 … 11.462247513776902 5.907064795421012; 14.112054970465064 8.773965678811944 … 15.49717625412947 3.2896686745027086;;; 182.06968082245345 224.00989852272997 … 5.74913710870313 4.148730843185533; 237.3403497396392 289.19984267509267 … 6.7728044854828315 4.399349472156614; … ; 20.19717878465202 14.359943093618947 … 8.063143705665139 17.56379350158248; 7.270785912614277 3.784195796402096 … 4.5268386559392 14.54560797666928;;; 182.6274436782659 210.5192749880242 … 5.060179581633357 3.5282677751851854; 231.51282839671916 272.3431073735654 … 5.917129424448854 3.9039214687517365; … ; 14.705830556754643 14.443882742141994 … 22.53860773734173 32.90729893698454; 5.627828945412103 4.283623744103801 … 15.658932678453965 28.137843924004063;;; … ;;; 102.8501130060909 36.55108697541677 … 3.953349312693533 2.371073234222013; 167.52194486560185 156.4695633719738 … 3.933192294624224 2.981021379071312; … ; 60.961307623645716 84.50425550214929 … 80.97791493338113 45.35533558294059; 45.06639913758941 62.21949830876491 … 71.56832799269513 38.03336807085114;;; 132.71858950204404 61.03490827067692 … 2.94479451820232 2.3712675058205113; 147.0253903710926 33.533439753484416 … 3.1692642999948575 2.813866352409836; … ; 67.19807441402288 96.36163836340225 … 84.88217391625075 43.813700991777715; 62.611663125689105 70.79334863812929 … 72.94918242900962 36.08125248942175;;; 215.07063355389826 98.05008821606967 … 2.2330716876241796 2.6927010274924834; 176.4055588967954 96.40320794263384 … 2.1918774930964435 3.5252433787449124; … ; 82.18143127926434 114.09535209807495 … 90.01042463298343 39.351751251481865; 80.01413814586543 87.43926735892929 … 78.7407396540763 33.124462268178206]), ScenarioData(\"ssp585\", Union{Missing, AbstractFloat}[265.9847140586737 360.9786179970852 … 8.981611812112693 6.120717944265825; 358.00142293337547 423.4294925212438 … 7.847070459890828 5.110802981557504; … ; 92.7312256103024 47.43228280752813 … 165.00496921029335 177.23457220881238; 62.41318772045645 24.907337202634857 … 168.99341348193903 172.22220368011898;;; 262.78041551970443 290.21992202601245 … 8.311842277809156 5.577426637768642; 349.0115994376672 358.9539202709132 … 7.052600139375919 4.764769929551861; … ; 76.26119433161782 34.22390640192466 … 178.93797379218017 179.03586789136395; 39.36096577284458 10.630940792120194 … 184.49202196293786 173.1306807235373;;; 305.6816912845514 288.7486931686057 … 6.055840161480491 4.398497713975838; 423.8052421984487 340.68305724645376 … 5.745455702468241 4.268463728356587; … ; 67.0149581289491 26.123835468847073 … 158.20828379636842 154.18752579742196; 29.40908445167321 9.10684579164875 … 163.51011445450294 150.65841208320853;;; … ;;; 392.3151960885271 284.0769621911671 … 6.7648596185997105 3.7585987675775803; 430.87532209638294 325.87392438691444 … 6.403223841378536 2.5808896901327043; … ; 54.950090443382614 19.44007440215378 … 69.02900319200002 100.73526782425967; 20.5605378574666 7.907938042749743 … 65.12835711805103 98.96953846450293;;; 438.72150806691866 366.65875150429844 … 5.90374804619768 1.2200019803481812; 463.44526848455445 381.44509211212704 … 4.6613672036388545 0.9483392396691799; … ; 69.73886857082307 35.319836771024804 … 79.54618329794071 113.03521807218047; 38.7831154066858 18.380814579104307 … 75.27593168755483 110.8604606780637;;; 385.0264158497986 318.47473490152333 … 6.299495653086653 1.7275085785943185; 436.074165296137 346.82096216369484 … 5.197849267974262 0.4391484509139482; … ; 97.58949167200626 52.03638073180983 … 80.37491682800969 102.8409452994274; 48.75121901417123 17.615207104903284 … 79.20750974533583 103.70493886651715])])"
      ]
     },
     "metadata": {},
     "output_type": "display_data"
    }
   ],
   "source": [
    "winter_months = [12, 1, 2, 3]\n",
    "\n",
    "tl_data = filter_by_date(build_timeline_data(base_path, 10, \"ssp126\", \"ssp585\"; file_range_selection = 4:5)) do time_element\n",
    "\n",
    "    for wm in winter_months\n",
    "        if month(time_element) == wm\n",
    "            return true\n",
    "        end\n",
    "    end\n",
    "    return false\n",
    "end"
   ]
  },
  {
   "cell_type": "code",
   "execution_count": 22,
   "metadata": {},
   "outputs": [
    {
     "data": {
      "text/plain": [
       "build_figure (generic function with 1 method)"
      ]
     },
     "metadata": {},
     "output_type": "display_data"
    }
   ],
   "source": [
    "\n",
    "# create geographical axes\n",
    "function local_geoaxis_creation!(\n",
    "    figure::Makie.Figure,\n",
    "    lonlims::Tuple{<:Number, <:Number}, \n",
    "    latlims::Tuple{<:Number, <:Number}; \n",
    "    figure_row::Int = 1,\n",
    "    figure_col::Int = 1,\n",
    "    title = \"\",\n",
    "    source_projection = \"+proj=longlat +datum=WGS84\",\n",
    "    dest_projection = \"+proj=merc\",\n",
    "    )\n",
    "\n",
    "    geoaxis = GeoMakie.GeoAxis(\n",
    "        figure[figure_row, figure_col]; \n",
    "        dest = dest_projection,\n",
    "        source = source_projection,\n",
    "        limits=(lonlims, latlims),\n",
    "        title = title\n",
    "    )\n",
    "\n",
    "    return geoaxis\n",
    "end\n",
    "\n",
    "\n",
    "function build_figure(\n",
    "    data,\n",
    "    lon_bounds::Tuple{<:Number, <:Number},\n",
    "    lat_bounds::Tuple{<:Number, <:Number};\n",
    "    title::String = \"\",\n",
    "    colormap = :viridis,\n",
    "    colorrange::Union{Nothing, Tuple{<:Real, <:Real}} = nothing, \n",
    "    shading = Makie.automatic,\n",
    "    resolution::Union{Nothing, Tuple{Int, Int}} = nothing\n",
    "    )::Makie.Figure\n",
    "\n",
    "    fig = isnothing(resolution) ?  Figure(fontsize=12) : Figure(size = resolution, fontsize=12)\n",
    "\n",
    "    \n",
    "\n",
    "    ga = local_geoaxis_creation!(fig, lon_bounds, lat_bounds; title=title)\n",
    "    surface!(ga, lon_bounds[1]..lon_bounds[2], lat_bounds[1]..lat_bounds[2], data; shading = shading, colormap = colormap)\n",
    "    lines!(ga, GeoMakie.coastlines(); color = :white, transformation = (; translation = (0, 0, 1000)))\n",
    "    return fig\n",
    "end"
   ]
  },
  {
   "cell_type": "code",
   "execution_count": 26,
   "metadata": {},
   "outputs": [],
   "source": [
    "build_figure(data_filtered[:, :, 1], (-90, 40), (20, 80); title = \"Test IVT 1\", colormap = :managua100)"
   ]
  },
  {
   "cell_type": "code",
   "execution_count": 20,
   "metadata": {},
   "outputs": [
    {
     "data": {
      "text/plain": [
       "animate_timeline (generic function with 1 method)"
      ]
     },
     "metadata": {},
     "output_type": "display_data"
    }
   ],
   "source": [
    "\n",
    "function animate_timeline(\n",
    "    data::TimelineData,\n",
    "    filename::String;\n",
    "    framerate::Int = 30,\n",
    "    colormap = :viridis,\n",
    "    coastline_color = :white,\n",
    "    colorrange::Union{Nothing, Tuple{<:Real, <:Real}} = nothing, \n",
    "    shading = Makie.automatic,\n",
    "    resolution::Union{Nothing, Tuple{Int, Int}} = nothing\n",
    "    )::Makie.Figure\n",
    "\n",
    "    fig = isnothing(resolution) ?  Figure(fontsize=12) : Figure(size = resolution, fontsize=12)\n",
    "\n",
    "    time_index = Observable(1)\n",
    "\n",
    "    axis = Dict()\n",
    "\n",
    "    lon_bounds = extrema(data.lons)\n",
    "    lat_bounds = extrema(data.lats)\n",
    "\n",
    "    all_extrema = extrema.([d.data for d in data.datasets])\n",
    "\n",
    "    min_val, max_val = reduce((a, b) -> (min(a[1], b[1]), max(a[2], b[2])), all_extrema)\n",
    "    Colorbar(fig[2, 1:2], limits = (min_val, max_val), colormap = colormap, vertical = false,  label = \"IVT (norm) in kg s^-1 m^-1\")\n",
    "\n",
    "    for (i, dataset) in enumerate(data.datasets)\n",
    "        axis[dataset.name] = local_geoaxis_creation!(fig, lon_bounds, lat_bounds; title=@lift(\"$(dataset.name) $(Dates.format(data.time[$time_index], \"mm/yyyy\"))\"), figure_col=i)\n",
    "    end\n",
    "    \n",
    "    for dataset in data.datasets\n",
    "\n",
    "        array_slice = @lift(dataset.data[:, :, $time_index])\n",
    "        \n",
    "        surface!(axis[dataset.name], lon_bounds[1]..lon_bounds[2], lat_bounds[1]..lat_bounds[2], array_slice; shading = shading, colormap = colormap, colorrange = (min_val, max_val))\n",
    "        lines!(axis[dataset.name], GeoMakie.coastlines(); color = coastline_color, transformation = (; translation = (0, 0, 1000)))\n",
    "    end\n",
    "\n",
    "    timestamps = eachindex(data.time)\n",
    "    record(fig, filename, timestamps; framerate = framerate) do t\n",
    "        time_index[] = t\n",
    "    end\n",
    "\n",
    "    \n",
    "    return fig\n",
    "end"
   ]
  },
  {
   "cell_type": "code",
   "execution_count": 23,
   "metadata": {},
   "outputs": [],
   "source": [
    "# animate_timeline(tline_data, \"scenario_comparison_2.mp4\"; colormap = :managua100, resolution = (1000, 1000))\n",
    "animate_timeline(tl_data, \"scenario_comparison_end.mp4\"; colormap = :managua100)"
   ]
  }
 ],
 "metadata": {
  "kernelspec": {
   "display_name": "Julia 1.10.2",
   "language": "julia",
   "name": "julia-1.10"
  },
  "language_info": {
   "file_extension": ".jl",
   "mimetype": "application/julia",
   "name": "julia",
   "version": "1.10.2"
  }
 },
 "nbformat": 4,
 "nbformat_minor": 2
}

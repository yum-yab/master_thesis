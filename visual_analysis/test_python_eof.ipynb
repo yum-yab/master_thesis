{
 "cells": [
  {
   "cell_type": "code",
   "execution_count": 2,
   "metadata": {},
   "outputs": [
    {
     "data": {
      "text/plain": [
       "Python: <module 'numpy' from '/home/denis/Documents/Uni/Master/MA/visual_analysis/.CondaPkg/env/lib/python3.12/site-packages/numpy/__init__.py'>"
      ]
     },
     "metadata": {},
     "output_type": "display_data"
    }
   ],
   "source": [
    "using PythonCall\n",
    "\n",
    "Eof = pyimport(\"eofs.standard\").Eof\n",
    "np = pyimport(\"numpy\")"
   ]
  },
  {
   "cell_type": "code",
   "execution_count": 3,
   "metadata": {},
   "outputs": [
    {
     "data": {
      "text/plain": [
       "normalize_tl_data (generic function with 1 method)"
      ]
     },
     "metadata": {},
     "output_type": "display_data"
    }
   ],
   "source": [
    "include(\"utils.jl\")"
   ]
  },
  {
   "cell_type": "code",
   "execution_count": 17,
   "metadata": {},
   "outputs": [
    {
     "data": {
      "text/plain": [
       "\"/home/denis/workspace/data/ivt_daily_mean\""
      ]
     },
     "metadata": {},
     "output_type": "display_data"
    }
   ],
   "source": [
    "mon_mean_base_path = \"/home/denis/workspace/data/ivt_monthly_mean\"\n",
    "day_mean_base_path = \"/home/denis/workspace/data/ivt_daily_mean\"\n"
   ]
  },
  {
   "cell_type": "code",
   "execution_count": 5,
   "metadata": {},
   "outputs": [
    {
     "data": {
      "text/plain": [
       "TimelineData(Union{Missing, AbstractFloat}[-90.0, -88.125, -86.25, -84.375, -82.5, -80.625, -78.75, -76.875, -75.0, -73.125  …  22.5, 24.375, 26.25, 28.125, 30.0, 31.875, 33.75, 35.625, 37.5, 39.375], Union{Missing, AbstractFloat}[21.450475037398185, 23.31573072614093, 25.180985581270594, 27.04623949994481, 28.91149236871774, 30.77674406172325, 32.64199443851768, 34.50724334150103, 36.37249059281224, 38.23773599056483  …  62.48557052203639, 64.35073040887207, 66.2158721139987, 68.08099098565125, 69.94608064698343, 71.81113211427447, 73.67613231320912, 75.54106145287895, 77.4058880820788, 79.27055903485967], Union{Missing, DateTime}[DateTime(\"2015-01-16T12:00:00\"), DateTime(\"2015-02-14T21:00:00\"), DateTime(\"2015-03-16T09:00:00\"), DateTime(\"2015-12-16T09:00:00\"), DateTime(\"2016-01-16T09:00:00\"), DateTime(\"2016-02-15T09:00:00\"), DateTime(\"2016-03-16T09:00:00\"), DateTime(\"2016-12-16T09:00:00\"), DateTime(\"2017-01-16T09:00:00\"), DateTime(\"2017-02-14T21:00:00\")  …  DateTime(\"2098-12-16T09:00:00\"), DateTime(\"2099-01-16T09:00:00\"), DateTime(\"2099-02-14T21:00:00\"), DateTime(\"2099-03-16T09:00:00\"), DateTime(\"2099-12-16T09:00:00\"), DateTime(\"2100-01-16T09:00:00\"), DateTime(\"2100-02-14T21:00:00\"), DateTime(\"2100-03-16T09:00:00\"), DateTime(\"2100-12-16T09:00:00\"), DateTime(\"2101-01-01T00:00:00\")], ScenarioData[ScenarioData(\"ssp126\", Union{Missing, AbstractFloat}[183.74911573707828 163.21905060943445 … 14.357007090955785 13.453895564649764; 196.92414726424704 181.3847107513107 … 15.008165757745328 13.993438468617788; … ; 79.9166815528064 75.92575745359655 … 36.61887185708259 29.943024898182497; 68.13365299667942 62.74720943730691 … 36.51216143455265 29.57740970268891;;; 196.3224123962182 199.04197167438565 … 16.8037437278927 16.248319815568454; 220.6916197805289 213.00221078040872 … 16.594524771756348 16.01004716331677; … ; 61.35503512547841 48.88013434250992 … 36.9428334451273 31.533575187831303; 58.76755070351866 39.44317171686516 … 36.48976519171424 30.969227110057833;;; 219.89113187696836 235.77583967258647 … 10.83725237095948 9.29953594597384; 244.69226011145548 253.91881302653726 … 10.479882176136048 9.198975156868961; … ; 87.48805494221098 79.27944338220125 … 26.684227803024065 19.260841657425107; 91.13677296112209 72.57882917153452 … 27.446686708583098 19.741859696954844;;; … ;;; 189.05060537035567 217.5556041992656 … 29.159340110597938 27.83436919734367; 204.7024752351035 239.0903195802368 … 28.21577497977821 27.079831281782443; … ; 91.08614166966098 90.88812051187038 … 27.777964430086055 20.88636621387547; 87.93279981566062 86.21750276312395 … 26.51289311339022 20.20082268514008;;; 263.4268358633991 255.36685427891723 … 19.34003249779506 18.445371061990322; 265.15348997357677 255.35787030547286 … 19.635268999324765 18.646267070495732; … ; 82.42787982440528 75.75708643965189 … 58.86920619231526 45.89552740762239; 69.45117204230155 68.15010070718897 … 59.24832572447663 45.80550630981257;;; 215.07063355389826 98.05008821606967 … 2.2330716876241796 2.6927010274924834; 176.4055588967954 96.40320794263384 … 2.1918774930964435 3.5252433787449124; … ; 82.18143127926434 114.09535209807495 … 90.01042463298343 39.351751251481865; 80.01413814586543 87.43926735892929 … 78.7407396540763 33.124462268178206]), ScenarioData(\"ssp585\", Union{Missing, AbstractFloat}[145.81860360664533 143.29926825641684 … 16.153853331783818 15.396717455432569; 163.22817209377732 162.0302859034323 … 15.561526354076337 14.989563519986008; … ; 57.607257080551356 50.5780322873967 … 45.429808167278 36.337560306397094; 40.271294508847944 37.93085178126392 … 46.3388292897332 36.64004705730058;;; 186.12071436325687 220.517750581234 … 36.29445003559248 30.906355503459455; 197.12394042988518 237.8050355776013 … 35.74956833797491 30.36874638682833; … ; 69.12419707360174 62.344881849848505 … 33.84503158112402 28.091331349774606; 64.87904456534723 52.14590886328922 … 34.89634395079443 28.539522081449537;;; 213.99905372386007 233.1231241485298 … 21.642217429242944 18.544594226472086; 227.62432047837996 238.01353688149769 … 21.728966786450975 18.45664261226694; … ; 90.93737284861517 88.2984573070163 … 69.42971201406738 55.20563537975246; 84.97770007437494 75.77313966568043 … 68.00868782229274 54.146139255466466;;; … ;;; 230.16444612880144 275.5141767431921 … 25.7744702204575 25.352517980444503; 253.27549533988707 283.76398168335515 … 25.60430350829713 24.948179809651965; … ; 129.76397510844117 142.37701483056588 … 63.44219798784819 58.40043463136293; 130.15252004218158 147.10771548875732 … 61.42434730038742 56.69701275671627;;; 278.8529160441844 245.099811163391 … 61.01170168192888 55.91897414198425; 287.4228846013773 246.97572347155727 … 58.85776137022478 54.76675543318627; … ; 72.51681039544401 66.12986605548954 … 70.33882134312763 59.81094089561622; 47.008491060880786 48.922838672256184 … 70.25490822148912 59.3328866427079;;; 385.0264158497986 318.47473490152333 … 6.299495653086653 1.7275085785943185; 436.074165296137 346.82096216369484 … 5.197849267974262 0.4391484509139482; … ; 97.58949167200626 52.03638073180983 … 80.37491682800969 102.8409452994274; 48.75121901417123 17.615207104903284 … 79.20750974533583 103.70493886651715])])"
      ]
     },
     "metadata": {},
     "output_type": "display_data"
    }
   ],
   "source": [
    "winter_months = [12, 1, 2, 3]\n",
    "\n",
    "monthly_tl_data = filter_by_date(build_timeline_data(mon_mean_base_path, 10, \"ssp126\", \"ssp585\"; file_range_selection = :)) do time_element\n",
    "\n",
    "    for wm in winter_months\n",
    "        if month(time_element) == wm\n",
    "            return true\n",
    "        end\n",
    "    end\n",
    "    return false\n",
    "end"
   ]
  },
  {
   "cell_type": "code",
   "execution_count": 18,
   "metadata": {},
   "outputs": [
    {
     "data": {
      "text/plain": [
       "TimelineData(Union{Missing, AbstractFloat}[-90.0, -88.125, -86.25, -84.375, -82.5, -80.625, -78.75, -76.875, -75.0, -73.125  …  22.5, 24.375, 26.25, 28.125, 30.0, 31.875, 33.75, 35.625, 37.5, 39.375], Union{Missing, AbstractFloat}[21.450475037398185, 23.31573072614093, 25.180985581270594, 27.04623949994481, 28.91149236871774, 30.77674406172325, 32.64199443851768, 34.50724334150103, 36.37249059281224, 38.23773599056483  …  62.48557052203639, 64.35073040887207, 66.2158721139987, 68.08099098565125, 69.94608064698343, 71.81113211427447, 73.67613231320912, 75.54106145287895, 77.4058880820788, 79.27055903485967], Union{Missing, DateTime}[DateTime(\"2015-01-01T12:00:00\"), DateTime(\"2015-01-02T09:00:00\"), DateTime(\"2015-01-03T09:00:00\"), DateTime(\"2015-01-04T09:00:00\"), DateTime(\"2015-01-05T09:00:00\"), DateTime(\"2015-01-06T09:00:00\"), DateTime(\"2015-01-07T09:00:00\"), DateTime(\"2015-01-08T09:00:00\"), DateTime(\"2015-01-09T09:00:00\"), DateTime(\"2015-01-10T09:00:00\")  …  DateTime(\"2100-12-23T09:00:00\"), DateTime(\"2100-12-24T09:00:00\"), DateTime(\"2100-12-25T09:00:00\"), DateTime(\"2100-12-26T09:00:00\"), DateTime(\"2100-12-27T09:00:00\"), DateTime(\"2100-12-28T09:00:00\"), DateTime(\"2100-12-29T09:00:00\"), DateTime(\"2100-12-30T09:00:00\"), DateTime(\"2100-12-31T09:00:00\"), DateTime(\"2101-01-01T00:00:00\")], ScenarioData[ScenarioData(\"ssp126\", Union{Missing, AbstractFloat}[135.76753182825445 120.40978468186889 … 5.560489088173803 12.26071530502791; 156.22502454930998 132.61539193748743 … 5.817668338986213 12.220684181137367; … ; 43.7378778071699 108.4915537811436 … 9.037124958487036 7.975654216037562; 59.854458120904646 116.83379120701777 … 8.986140156821511 7.858457220095189;;; 129.03137146548397 92.78613295607519 … 7.400930297235965 10.791065336021713; 145.01787977552698 101.13895341026034 … 5.905993321776974 9.097721743476814; … ; 113.64622333682603 154.24437271902843 … 48.80349743858222 19.81648672021532; 100.84899358523899 148.07604259671913 … 48.54475470840026 19.50309155276142;;; 228.3942742774734 258.79422160765364 … 3.9758461278837203 3.776142031262588; 225.4981161195097 253.82061600185443 … 4.024398536462364 3.1163119414664386; … ; 127.47378578533163 82.13609839241353 … 77.4951904075062 62.541518350866724; 82.66778240045169 36.18604312925727 … 77.891988009154 61.468314449989826;;; … ;;; 351.41642324000395 393.6322324479382 … 3.147066931281001 3.1302617662656127; 388.172626201434 402.55116533169996 … 3.706974614350515 3.8696222781244454; … ; 50.753406573130036 53.45983590474147 … 45.1239855333841 21.832011758232838; 28.935511018920984 35.53858881363155 … 47.8008899012337 22.150353056152625;;; 195.3436441152296 189.66783394510827 … 3.776323629707312 2.2190512518644105; 234.7443897814891 234.75093914180258 … 3.6037001947576925 2.8599745990255343; … ; 62.140926782227965 83.82619619723806 … 68.35605822912036 35.44636461049018; 49.89516151830114 61.0831755299477 … 59.6927138202741 29.583182547623274;;; 215.07063355389826 98.05008821606967 … 2.2330716876241796 2.6927010274924834; 176.4055588967954 96.40320794263384 … 2.1918774930964435 3.5252433787449124; … ; 82.18143127926434 114.09535209807495 … 90.01042463298343 39.351751251481865; 80.01413814586543 87.43926735892929 … 78.7407396540763 33.124462268178206]), ScenarioData(\"ssp585\", Union{Missing, AbstractFloat}[135.71697254168404 120.42878690757293 … 5.576779796967094 12.255593464098752; 156.05117075576592 132.4334557044124 … 5.820730277789313 12.241089010310146; … ; 43.58428584421148 108.5058274182469 … 9.086662901817993 7.984927384406791; 59.54927587483115 116.76655985636421 … 9.021928605448425 7.867882044453451;;; 127.91407901194682 92.34753091102569 … 7.379609772014224 10.874204624769082; 146.02880371885422 100.42995352583506 … 5.872642774224398 9.191104677907841; … ; 114.43224102572557 154.37168998412312 … 48.41550666304754 19.455117223680283; 101.55921900629218 148.03589350793487 … 47.9184130967078 19.13023519260713;;; 231.1937107725504 260.79241127073453 … 3.9951511127710786 3.8033690629527515; 227.79447417858776 255.94242949278353 … 4.028195327809381 3.1298048146245794; … ; 127.26674427801234 81.73668199608417 … 77.26498079361845 62.09676246247883; 82.1986382508743 36.29190055325173 … 77.3918473072293 61.03722276593265;;; … ;;; 379.68579276397304 291.5331082434495 … 29.09086169956641 19.06822123710954; 393.466428818687 282.8187241030164 … 26.80135786417184 17.102145448885565; … ; 61.86477394397672 44.00198474302246 … 65.72745283038341 76.99206887408299; 39.599746622258486 24.064677202447342 … 64.4294719572753 73.96129933892574;;; 403.7648880855007 290.7698035318268 … 8.681526771585395 5.27791734254931; 423.3187129462893 322.3311348580097 … 8.114259518540347 4.033487718163187; … ; 60.33722169616665 39.40701091466268 … 70.02293345968363 101.65389085711482; 33.87151750217016 22.576791467636006 … 67.77575282117786 99.84779892292254;;; 385.0264158497986 318.47473490152333 … 6.299495653086653 1.7275085785943185; 436.074165296137 346.82096216369484 … 5.197849267974262 0.4391484509139482; … ; 97.58949167200626 52.03638073180983 … 80.37491682800969 102.8409452994274; 48.75121901417123 17.615207104903284 … 79.20750974533583 103.70493886651715])])"
      ]
     },
     "metadata": {},
     "output_type": "display_data"
    }
   ],
   "source": [
    "daily_tl_data = filter_by_date(build_timeline_data(day_mean_base_path, 10, \"ssp126\", \"ssp585\"; file_range_selection = :)) do time_element\n",
    "\n",
    "    for wm in winter_months\n",
    "        if month(time_element) == wm\n",
    "            return true\n",
    "        end\n",
    "    end\n",
    "    return false\n",
    "end"
   ]
  },
  {
   "cell_type": "code",
   "execution_count": 37,
   "metadata": {},
   "outputs": [
    {
     "data": {
      "text/plain": [
       "pyeof_of_datachunk (generic function with 1 method)"
      ]
     },
     "metadata": {},
     "output_type": "display_data"
    }
   ],
   "source": [
    "function pyeof_of_datachunk(datachunk, nmodes; weighted = true, lats = nothing, standard_permute = true, eof_type = :normal)\n",
    "\n",
    "    if standard_permute\n",
    "        correct_shape_ds = permutedims(datachunk, (3, 1, 2))\n",
    "    else\n",
    "        correct_shape_ds = datachunk\n",
    "    end\n",
    "\n",
    "\n",
    "    if weighted\n",
    "        weights = sqrt.(cos.(deg2rad.(lats)))\n",
    "        solver = Eof(np.array(correct_shape_ds, dtype=np.float64), weights = np.array(weights, dtype=np.float64))\n",
    "    else\n",
    "        solver = Eof(np.array(correct_shape_ds, dtype=np.float64))\n",
    "    end\n",
    "\n",
    "    if eof_type == :normal\n",
    "        eof_res = solver.eofs(neofs = nmodes)\n",
    "    elseif eof_type == :covariance\n",
    "        eof_res = solver.eofsAsCovariance(neofs = nmodes)\n",
    "    elseif eof_type == :correlation \n",
    "        eof_res = solver.eofsAsCorrelation(neofs = nmodes)\n",
    "    else\n",
    "        ArgumentError(\"Could not use eof type $(eof_type), use :normal, :correlation or :covariance instead\")\n",
    "    end\n",
    "\n",
    "    modes_variability = solver.eigenvalues(neigs=nmodes) ./ solver.totalAnomalyVariance() * 100\n",
    "\n",
    "    EOFResult(pyconvert(Array{Float64, 3}, eof_res), pyconvert(Matrix{Float64}, solver.pcs(npcs=nmodes)), pyconvert(Vector{Float64}, modes_variability))\n",
    "\n",
    "end"
   ]
  },
  {
   "cell_type": "code",
   "execution_count": 36,
   "metadata": {},
   "outputs": [
    {
     "data": {
      "text/plain": [
       "show_eof_modes_of_timeline_pyeofs (generic function with 1 method)"
      ]
     },
     "metadata": {},
     "output_type": "display_data"
    }
   ],
   "source": [
    "# create geographical axes\n",
    "function local_geoaxis_creation!(\n",
    "    figure::Makie.Figure,\n",
    "    lonlims::Tuple{<:Number, <:Number}, \n",
    "    latlims::Tuple{<:Number, <:Number}; \n",
    "    figure_row::Int = 1,\n",
    "    figure_col::Int = 1,\n",
    "    title = \"\",\n",
    "    dest_projection = \"+proj=merc\",\n",
    "    )\n",
    "\n",
    "    geoaxis = GeoMakie.GeoAxis(\n",
    "        figure[figure_row, figure_col];\n",
    "        dest = dest_projection,\n",
    "        limits=(lonlims, latlims),\n",
    "        title = title\n",
    "    )\n",
    "\n",
    "    return geoaxis\n",
    "end\n",
    "\n",
    "\n",
    "function show_eof_modes_of_timeline_pyeofs(\n",
    "    data::TimelineData,\n",
    "    nmodes::Int,\n",
    "    n_seasons::Int,\n",
    "    filename::String;\n",
    "    eof_center::Bool = true,\n",
    "    framerate::Int = 30,\n",
    "    colormap = :viridis,\n",
    "    coastline_color = :black,\n",
    "    colorrange::Union{Nothing, Tuple{<:Real, <:Real}} = nothing, \n",
    "    shading = Makie.automatic,\n",
    "    resolution::Union{Nothing, Tuple{Int, Int}} = nothing,\n",
    "    fontsize::Int = 12,\n",
    "    whole_figure_title = nothing,\n",
    "    eof_type = :normal\n",
    "    )::Makie.Figure\n",
    "\n",
    "    fig = isnothing(resolution) ?  Figure(fontsize=fontsize) : Figure(size = resolution, fontsize=fontsize)\n",
    "\n",
    "    if !isnothing(whole_figure_title)\n",
    "        Label(fig[0, 1:nmodes], whole_figure_title, fontsize= round(1.7 * fontsize))\n",
    "    end\n",
    "\n",
    "    all_scopes = get_sliding_time_scopes_by_threshold(data.time, n_seasons)\n",
    "\n",
    "    current_scope_index = Observable(1)\n",
    "\n",
    "    axis = Dict()\n",
    "\n",
    "    dataset_to_eofs = Dict()\n",
    "\n",
    "    lon_bounds = extrema(data.lons)\n",
    "    lat_bounds = extrema(data.lats)\n",
    "\n",
    "    eof_extremas = Tuple{Float64, Float64}[]\n",
    "\n",
    "\n",
    "    for (i, dataset) in enumerate(data.datasets)\n",
    "        all_modes_axis = []\n",
    "\n",
    "        eofs = EOFResult[]\n",
    "\n",
    "        for scope in all_scopes\n",
    "            eof_result = pyeof_of_datachunk(dataset.data[:, :, scope], nmodes; lats = data.lats, weighted = true, eof_type = eof_type)\n",
    "            push!(eof_extremas, extrema(eof_result.spatial_modes))\n",
    "            push!(eofs, eof_result)\n",
    "        end\n",
    "\n",
    "        dataset_to_eofs[dataset.name] = eofs\n",
    "        \n",
    "        axis[dataset.name] = all_modes_axis\n",
    "\n",
    "\n",
    "        for j in 1:nmodes\n",
    "            title = @lift(\"$(dataset.name) $(year(data.time[all_scopes[$current_scope_index].start]))-$(year(data.time[all_scopes[$current_scope_index].stop])) Mode $j Variability $(round(dataset_to_eofs[dataset.name][$current_scope_index].modes_variability[j], digits = 2))\")\n",
    "            push!(all_modes_axis, local_geoaxis_creation!(fig, lon_bounds, lat_bounds; title=title, figure_row=i, figure_col=j))\n",
    "        end\n",
    "    end\n",
    "\n",
    "    min_val, max_val = reduce((a, b) -> (min(a[1], b[1]), max(a[2], b[2])), eof_extremas)\n",
    "\n",
    "    Colorbar(fig[length(data.datasets)+1, 1:nmodes], limits = (min_val, max_val), colormap = colormap, vertical = false,  label = \"EOF values\")\n",
    "    \n",
    "    for (i, dataset) in enumerate(data.datasets)\n",
    "        \n",
    "        for mode in 1:nmodes\n",
    "            surface!(axis[dataset.name][mode], lon_bounds[1]..lon_bounds[2], lat_bounds[1]..lat_bounds[2], @lift(dataset_to_eofs[dataset.name][$current_scope_index].spatial_modes[mode, :, :]); shading = shading, colormap = colormap, colorrange = (min_val, max_val))\n",
    "            lines!(axis[dataset.name][mode], GeoMakie.coastlines(); color = coastline_color, transformation = (; translation = (0, 0, 1000)))\n",
    "        end\n",
    "    end\n",
    "\n",
    "    record(fig, filename, eachindex(all_scopes); framerate = framerate) do t\n",
    "        current_scope_index[] = t\n",
    "    end\n",
    "\n",
    "    \n",
    "    return fig\n",
    "end"
   ]
  },
  {
   "cell_type": "code",
   "execution_count": 38,
   "metadata": {},
   "outputs": [],
   "source": [
    "show_eof_modes_of_timeline_pyeofs(monthly_tl_data, 4, 30, \"eof_modes_monthly_30seasons_pyeofs_covariance.mp4\"; colormap = :broc, framerate = 2, resolution = (2000, 1100), eof_type = :covariance, whole_figure_title = \"Leading EOF Modes of Monthly Averages of IVT (30 Winter Period)\")"
   ]
  }
 ],
 "metadata": {
  "kernelspec": {
   "display_name": "Julia 1.10.2",
   "language": "julia",
   "name": "julia-1.10"
  },
  "language_info": {
   "file_extension": ".jl",
   "mimetype": "application/julia",
   "name": "julia",
   "version": "1.10.2"
  }
 },
 "nbformat": 4,
 "nbformat_minor": 2
}

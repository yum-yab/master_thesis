{
 "cells": [
  {
   "cell_type": "code",
   "execution_count": 1,
   "metadata": {},
   "outputs": [
    {
     "name": "stderr",
     "output_type": "stream",
     "text": [
      "\u001b[32m\u001b[1m  Activating\u001b[22m\u001b[39m project at `~/Documents/Uni/Master/MA/visual_analysis`\n"
     ]
    }
   ],
   "source": [
    "using Pkg\n",
    "\n",
    "Pkg.activate(\".\")"
   ]
  },
  {
   "cell_type": "code",
   "execution_count": 29,
   "metadata": {},
   "outputs": [
    {
     "data": {
      "text/plain": [
       "show_eof_and_pc_modes_of_timeline (generic function with 1 method)"
      ]
     },
     "metadata": {},
     "output_type": "display_data"
    }
   ],
   "source": [
    "include(\"utils.jl\")\n",
    "include(\"visual_utils.jl\")"
   ]
  },
  {
   "cell_type": "code",
   "execution_count": 3,
   "metadata": {},
   "outputs": [],
   "source": [
    "using GLMakie\n",
    "using GeoMakie\n",
    "using EmpiricalOrthogonalFunctions\n",
    "using NCDatasets \n",
    "using Dates\n",
    "using BenchmarkTools\n",
    "using Statistics"
   ]
  },
  {
   "cell_type": "code",
   "execution_count": 4,
   "metadata": {},
   "outputs": [],
   "source": [
    "# mon_mean_base_path = \"/home/denis/workspace/data/ivt_monthly_mean\"\n",
    "# day_mean_base_path = \"/home/denis/workspace/data/ivt_daily_mean\""
   ]
  },
  {
   "cell_type": "code",
   "execution_count": 5,
   "metadata": {},
   "outputs": [
    {
     "data": {
      "text/plain": [
       "\"/mnt/bigdrive/Datasets/ps_data_monthly_mean\""
      ]
     },
     "metadata": {},
     "output_type": "display_data"
    }
   ],
   "source": [
    "mon_mean_base_path = \"/mnt/bigdrive/Datasets/ivt_monthly_mean\"\n",
    "day_mean_base_path = \"/mnt/bigdrive/Datasets/ivt_daily_mean\"\n",
    "full_dataset_path = \"/mnt/bigdrive/Datasets/ivt_fields_v1\"\n",
    "ps_data_path = \"/mnt/bigdrive/Datasets/ps_data\"\n",
    "ps_data_monthly = \"/mnt/bigdrive/Datasets/ps_data_monthly_mean\""
   ]
  },
  {
   "cell_type": "code",
   "execution_count": 6,
   "metadata": {},
   "outputs": [],
   "source": [
    "# monthly_tl_data = filter_by_date(build_timeline_data(mon_mean_base_path, 10, \"ssp126\", \"ssp585\"; file_range_selection=:)) do timedata\n",
    "#     return year(timedata) >= 2081 && year(timedata) <= 2100  \n",
    "# end"
   ]
  },
  {
   "cell_type": "code",
   "execution_count": 7,
   "metadata": {},
   "outputs": [
    {
     "data": {
      "text/plain": [
       "4-element Vector{Int64}:\n",
       " 12\n",
       "  1\n",
       "  2\n",
       "  3"
      ]
     },
     "metadata": {},
     "output_type": "display_data"
    }
   ],
   "source": [
    "winter_months = [12, 1, 2, 3]"
   ]
  },
  {
   "cell_type": "code",
   "execution_count": 8,
   "metadata": {},
   "outputs": [
    {
     "data": {
      "text/plain": [
       "TimelineData(Union{Missing, AbstractFloat}[-90.0, -88.125, -86.25, -84.375, -82.5, -80.625, -78.75, -76.875, -75.0, -73.125  …  22.5, 24.375, 26.25, 28.125, 30.0, 31.875, 33.75, 35.625, 37.5, 39.375], Union{Missing, AbstractFloat}[21.450475037398185, 23.31573072614093, 25.180985581270594, 27.04623949994481, 28.91149236871774, 30.77674406172325, 32.64199443851768, 34.50724334150103, 36.37249059281224, 38.23773599056483  …  62.48557052203639, 64.35073040887207, 66.2158721139987, 68.08099098565125, 69.94608064698343, 71.81113211427447, 73.67613231320912, 75.54106145287895, 77.4058880820788, 79.27055903485967], Union{Missing, DateTime}[DateTime(\"2015-01-16T12:00:00\"), DateTime(\"2015-02-14T21:00:00\"), DateTime(\"2015-03-16T09:00:00\"), DateTime(\"2015-12-16T09:00:00\"), DateTime(\"2016-01-16T09:00:00\"), DateTime(\"2016-02-15T09:00:00\"), DateTime(\"2016-03-16T09:00:00\"), DateTime(\"2016-12-16T09:00:00\"), DateTime(\"2017-01-16T09:00:00\"), DateTime(\"2017-02-14T21:00:00\")  …  DateTime(\"2098-12-16T09:00:00\"), DateTime(\"2099-01-16T09:00:00\"), DateTime(\"2099-02-14T21:00:00\"), DateTime(\"2099-03-16T09:00:00\"), DateTime(\"2099-12-16T09:00:00\"), DateTime(\"2100-01-16T09:00:00\"), DateTime(\"2100-02-14T21:00:00\"), DateTime(\"2100-03-16T09:00:00\"), DateTime(\"2100-12-16T09:00:00\"), DateTime(\"2101-01-01T00:00:00\")], ScenarioData[ScenarioData(\"ssp585\", Union{Missing, AbstractFloat}[101606.5703125 101856.9296875 … 98360.0078125 96404.5234375; 101972.8203125 102399.1875 … 97811.921875 95798.2578125; … ; 100219.65625 101602.078125 … 101338.6015625 100895.6796875; 98225.3515625 96662.0625 … 101599.3359375 101100.28125;;; 100997.7265625 101229.4453125 … 98621.625 96783.953125; 101445.2265625 101835.96875 … 98104.4140625 96206.2421875; … ; 99824.8359375 101169.7734375 … 102161.5859375 101566.3125; 97843.8046875 96263.2265625 … 102424.625 101778.9296875;;; 101185.234375 101420.8671875 … 97325.4453125 95383.7421875; 101635.46875 102044.546875 … 96807.2109375 94807.8515625; … ; 99623.5078125 100941.6484375 … 101456.046875 100747.3203125; 97646.2734375 96063.015625 … 101758.5 100986.5234375;;; … ;;; 100915.3828125 101158.6875 … 98697.703125 96874.234375; 101392.625 101791.3046875 … 98191.1484375 96305.3125; … ; 99527.0 100842.2421875 … 102093.96875 101422.15625; 97581.4140625 96041.03125 … 102377.015625 101650.59375;;; 101402.7109375 101695.7734375 … 96602.59375 94740.046875; 101802.4140625 102265.09375 … 96173.828125 94248.125; … ; 99940.3515625 101291.25 … 100153.9375 99493.2109375; 98008.6875 96482.1171875 … 100383.109375 99675.8671875;;; 101518.8125 101879.8125 … 95522.8125 93723.8125; 101912.8125 102438.8125 … 95079.8125 93187.8125; … ; 99839.8125 101246.8125 … 101602.8125 100502.8125; 97953.8125 96506.8125 … 101904.8125 100744.8125])])"
      ]
     },
     "metadata": {},
     "output_type": "display_data"
    }
   ],
   "source": [
    "ps_data = filter_by_date(build_timeline_data(ps_data_monthly, 10, \"ssp585\"; file_range_selection = :, data_field_id=\"ps\")) do time_element\n",
    "\n",
    "    for wm in winter_months\n",
    "        if month(time_element) == wm\n",
    "            return true\n",
    "        end\n",
    "    end\n",
    "    return false\n",
    "end"
   ]
  },
  {
   "cell_type": "code",
   "execution_count": 9,
   "metadata": {},
   "outputs": [
    {
     "data": {
      "text/plain": [
       "TimelineData(Union{Missing, AbstractFloat}[-90.0, -88.125, -86.25, -84.375, -82.5, -80.625, -78.75, -76.875, -75.0, -73.125  …  22.5, 24.375, 26.25, 28.125, 30.0, 31.875, 33.75, 35.625, 37.5, 39.375], Union{Missing, AbstractFloat}[21.450475037398185, 23.31573072614093, 25.180985581270594, 27.04623949994481, 28.91149236871774, 30.77674406172325, 32.64199443851768, 34.50724334150103, 36.37249059281224, 38.23773599056483  …  62.48557052203639, 64.35073040887207, 66.2158721139987, 68.08099098565125, 69.94608064698343, 71.81113211427447, 73.67613231320912, 75.54106145287895, 77.4058880820788, 79.27055903485967], Union{Missing, DateTime}[DateTime(\"2015-01-16T12:00:00\"), DateTime(\"2015-02-14T21:00:00\"), DateTime(\"2015-03-16T09:00:00\"), DateTime(\"2015-12-16T09:00:00\"), DateTime(\"2016-01-16T09:00:00\"), DateTime(\"2016-02-15T09:00:00\"), DateTime(\"2016-03-16T09:00:00\"), DateTime(\"2016-12-16T09:00:00\"), DateTime(\"2017-01-16T09:00:00\"), DateTime(\"2017-02-14T21:00:00\")  …  DateTime(\"2098-12-16T09:00:00\"), DateTime(\"2099-01-16T09:00:00\"), DateTime(\"2099-02-14T21:00:00\"), DateTime(\"2099-03-16T09:00:00\"), DateTime(\"2099-12-16T09:00:00\"), DateTime(\"2100-01-16T09:00:00\"), DateTime(\"2100-02-14T21:00:00\"), DateTime(\"2100-03-16T09:00:00\"), DateTime(\"2100-12-16T09:00:00\"), DateTime(\"2101-01-01T00:00:00\")], ScenarioData[ScenarioData(\"ssp126\", Union{Missing, AbstractFloat}[152.220564351215 139.89855955449093 … 11.43772067187727 11.12138832918432; 177.0016038909229 155.34620857911816 … 11.25212137118556 11.185765675051506; … ; 61.580878613712315 57.624302711112236 … 60.27400698008661 54.851290795690765; 41.34681066310978 41.5345140420152 … 60.37387012239605 54.065038962732295;;; 172.7796235248608 174.7828287450453 … 13.556556162159106 16.071244464770423; 185.43119817552702 178.2375374143174 … 12.9123289669871 15.410927193775859; … ; 55.377253040801506 50.26399129604981 … 69.82818790076041 53.29926738540983; 46.74010776451592 41.36531733319391 … 68.18177132665755 52.71481352784951;;; 171.68699638123812 168.01088108681853 … 18.459145637211705 17.123087729323085; 193.7863976293474 181.82183806462191 … 18.17487729149048 16.91394615026236; … ; 94.48769112065273 130.61688583176414 … 35.11633003154107 32.22906902897568; 96.5278925086109 127.1135571371767 … 35.115330809245286 32.19193633104408;;; … ;;; 215.90193509687626 234.5436437083887 … 11.028040403712657 10.496738817396635; 232.8216399582603 245.56489209693189 … 10.764956139975942 10.338327937317466; … ; 96.89669829795501 80.46221565381094 … 51.63905638710072 45.470632429285025; 125.89161732129205 102.71889953251295 … 50.10221870107641 44.90322407892646;;; 159.34634793095395 158.63263537186694 … 12.261899120495665 11.378298180871138; 165.30030695650038 163.86921224283148 … 12.360114047000843 11.449983181099753; … ; 75.86793687148962 67.50761534087813 … 47.67839776581009 42.30165270397037; 58.81446240362616 46.45563615435027 … 48.371012089894336 43.451404902478366;;; 207.07871704991132 219.87071643960977 … 8.702123600427699 3.752024774758155; 226.6749219234321 242.67414970906947 … 9.4305062682575 3.941516785831257; … ; 110.41627203917707 63.78999225759675 … 35.81989291170195 33.286533472515856; 57.9379571789149 29.406416810048633 … 35.52919190173966 33.00211460572687]), ScenarioData(\"ssp585\", Union{Missing, AbstractFloat}[160.31307235593036 146.03025488185176 … 12.10168570561562 10.542858666030803; 175.45616585892174 152.8354358267781 … 11.736566194461723 10.359225924586013; … ; 56.34151684781919 50.591875837944286 … 34.33425433859512 24.171571758902076; 37.37569844654242 35.03452325973889 … 32.828720646909645 23.278946160891092;;; 225.82694647674654 203.52416767783515 … 13.396414644855549 13.013039016573332; 230.80374451520896 205.97432398393704 … 13.416633326315026 12.970198204385548; … ; 58.341492933435156 50.78711495919206 … 27.359602252477448 22.727564581338537; 48.54018852626586 44.604088581041104 … 28.022588030041454 23.112676761552784;;; 188.24376523446796 163.84462608568109 … 17.339308281416574 16.23760862855097; 193.0745504360253 166.43362040711975 … 17.233841076284687 15.982095058112302; … ; 145.35647994067483 153.85383134068763 … 41.654566609519044 37.92880023468463; 153.40887440443757 156.63919445107302 … 40.36169214877832 36.85300173820245;;; … ;;; 214.53537306321567 190.04076292354418 … 33.45581334908728 27.296559929430142; 237.96432988342104 217.48823110888293 … 32.925622018577016 26.24123785677937; … ; 109.53140358848906 125.49928602775128 … 110.19104391876485 98.487068973715; 111.84789973243714 116.05924878896167 … 108.40772686527929 97.93335899080195;;; 258.06316168533505 266.96486036014045 … 26.396642739727767 23.44315939008912; 276.15652963076667 276.3220306951741 … 24.887140546473027 22.18180223919806; … ; 125.73420839202156 126.0830972742959 … 58.329957801166174 56.153051415513694; 97.89587616289234 101.04090799333918 … 59.43043041171976 57.71440789501434;;; 105.89336076651334 98.55105149824347 … 11.299009119800296 11.557276311894933; 120.36208143403611 121.06190627543481 … 12.29971869550457 11.647920240805725; … ; 53.875427423012496 60.20225955670081 … 44.52223244693397 32.64840640322025; 45.2119309734363 26.848266954672305 … 18.83719133082565 31.516019166796642])])"
      ]
     },
     "metadata": {},
     "output_type": "display_data"
    }
   ],
   "source": [
    "\n",
    "monthly_tl_data = filter_by_date(build_timeline_data(mon_mean_base_path, 20, \"ssp126\", \"ssp585\"; file_range_selection = :)) do time_element\n",
    "\n",
    "    for wm in winter_months\n",
    "        if month(time_element) == wm\n",
    "            return true\n",
    "        end\n",
    "    end\n",
    "    return false\n",
    "end"
   ]
  },
  {
   "cell_type": "code",
   "execution_count": 49,
   "metadata": {},
   "outputs": [
    {
     "data": {
      "text/plain": [
       "TimelineData(Union{Missing, AbstractFloat}[-90.0, -88.125, -86.25, -84.375, -82.5, -80.625, -78.75, -76.875, -75.0, -73.125  …  22.5, 24.375, 26.25, 28.125, 30.0, 31.875, 33.75, 35.625, 37.5, 39.375], Union{Missing, AbstractFloat}[21.450475037398185, 23.31573072614093, 25.180985581270594, 27.04623949994481, 28.91149236871774, 30.77674406172325, 32.64199443851768, 34.50724334150103, 36.37249059281224, 38.23773599056483  …  62.48557052203639, 64.35073040887207, 66.2158721139987, 68.08099098565125, 69.94608064698343, 71.81113211427447, 73.67613231320912, 75.54106145287895, 77.4058880820788, 79.27055903485967], Union{Missing, DateTime}[DateTime(\"2015-01-01T12:00:00\"), DateTime(\"2015-01-02T09:00:00\"), DateTime(\"2015-01-03T09:00:00\"), DateTime(\"2015-01-04T09:00:00\"), DateTime(\"2015-01-05T09:00:00\"), DateTime(\"2015-01-06T09:00:00\"), DateTime(\"2015-01-07T09:00:00\"), DateTime(\"2015-01-08T09:00:00\"), DateTime(\"2015-01-09T09:00:00\"), DateTime(\"2015-01-10T09:00:00\")  …  DateTime(\"2100-12-23T09:00:00\"), DateTime(\"2100-12-24T09:00:00\"), DateTime(\"2100-12-25T09:00:00\"), DateTime(\"2100-12-26T09:00:00\"), DateTime(\"2100-12-27T09:00:00\"), DateTime(\"2100-12-28T09:00:00\"), DateTime(\"2100-12-29T09:00:00\"), DateTime(\"2100-12-30T09:00:00\"), DateTime(\"2100-12-31T09:00:00\"), DateTime(\"2101-01-01T00:00:00\")], ScenarioData[ScenarioData(\"ssp126\", Union{Missing, AbstractFloat}[161.91311352439013 208.13585236207294 … 23.68281877189167 26.74537540707487; 182.0941893655805 203.39613305239672 … 22.06967568439332 27.306032817303535; … ; 29.194316956878126 19.771703358723343 … 93.6450529618747 24.135590483085448; 12.999905625916236 9.135387962351642 … 81.40524800508196 19.987563829683527;;; 134.00119928223418 114.74268658949727 … 26.6435436755095 26.18012688931745; 229.0299056982271 191.68936679455857 … 23.829762150419853 25.74810282843406; … ; 27.719621244542722 20.449392436271754 … 96.36779808050014 32.891278956764054; 12.584559655916154 8.80033639972953 … 89.05613469575893 29.156372943878576;;; 72.61606047263872 37.28309985862498 … 20.636700054779393 13.292131619138342; 108.0493927632954 59.751775843144024 … 21.659804764359574 15.01127230926884; … ; 32.86290262715845 27.604443360762705 … 17.265190695814745 12.354303072819482; 17.675703722884816 18.43266999520018 … 16.34435283213851 12.290043891231177;;; … ;;; 337.2863065408975 416.83100758773776 … 36.121122486299285 39.52909448617054; 379.7825364552542 437.28480919078584 … 36.630016300780056 37.323554587635954; … ; 40.01330110315101 56.25990222325075 … 61.60463621025127 47.87545630987874; 25.35072662746159 29.36514618173107 … 60.54329607360391 48.07079377630294;;; 226.63969649324304 260.3702453294005 … 25.35305898589062 13.793090267135538; 206.8267958270279 272.0552416698843 … 25.10051079924159 13.024617736096117; … ; 126.85093143385492 111.98626092271003 … 43.26744795629455 38.80470915792683; 98.47341924714075 74.22613302147603 … 44.40983473551362 39.122490404876395;;; 207.07871704991132 219.87071643960977 … 8.702123600427699 3.752024774758155; 226.6749219234321 242.67414970906947 … 9.4305062682575 3.941516785831257; … ; 110.41627203917707 63.78999225759675 … 35.81989291170195 33.286533472515856; 57.9379571789149 29.406416810048633 … 35.52919190173966 33.00211460572687]), ScenarioData(\"ssp585\", Union{Missing, AbstractFloat}[162.89627091112837 207.41854244677086 … 23.669899104302605 26.72622312157165; 183.43515649939604 204.034558981608 … 22.0588866475378 27.2792443107079; … ; 29.105543245027302 19.760178320240772 … 93.68963222972752 24.16262835095201; 13.011207159893964 9.1314062214511 … 81.47105969664041 20.062867404492778;;; 135.44744352619202 116.06644016368533 … 26.53261953748838 26.009649931314303; 228.6313165641734 190.3041320273898 … 23.68319152325072 25.559857839899614; … ; 27.75588355605884 20.455579396431233 … 96.22111632413838 32.921185480683484; 12.566051337332887 8.760687767571456 … 88.80968540893703 29.12896145070919;;; 74.7058866096152 37.65281269774904 … 20.532051468806735 13.241979839301223; 109.83280890686267 59.38824843879839 … 21.389741898717773 14.82823444687982; … ; 32.27907261514558 27.274445977525524 … 17.23100520252064 12.449475444532508; 17.3941373199339 18.30162291187226 … 16.332675084900863 12.36435128590989;;; … ;;; 179.49634300662206 174.08321646973053 … 6.059716551605691 3.240588047813692; 200.93196006643498 206.30942211645703 … 5.660311374993531 4.277101303628758; … ; 92.69954872129117 119.43167058727427 … 39.36931138858003 58.0865744898844; 88.11354258113047 144.60316039563452 … 44.62732858224195 62.00648556119951;;; 106.90491733227535 101.2776104070853 … 9.889051011067522 5.949594460895377; 134.53586902511168 139.29274517689953 … 8.124680275445193 4.650881951185738; … ; 56.86023406427403 65.04085127844282 … 42.00556156437415 36.431395415710206; 67.80993596456342 57.028549866725704 … 41.47191941053461 49.55681089284037;;; 105.89336076651334 98.55105149824347 … 11.299009119800296 11.557276311894933; 120.36208143403611 121.06190627543481 … 12.29971869550457 11.647920240805725; … ; 53.875427423012496 60.20225955670081 … 44.52223244693397 32.64840640322025; 45.2119309734363 26.848266954672305 … 18.83719133082565 31.516019166796642])])"
      ]
     },
     "metadata": {},
     "output_type": "display_data"
    }
   ],
   "source": [
    "daily_tl_data = filter_by_date(build_timeline_data(day_mean_base_path, 20, \"ssp126\", \"ssp585\"; file_range_selection = :)) do time_element\n",
    "\n",
    "    for wm in winter_months\n",
    "        if month(time_element) == wm\n",
    "            return true\n",
    "        end\n",
    "    end\n",
    "    return false\n",
    "end"
   ]
  },
  {
   "cell_type": "code",
   "execution_count": null,
   "metadata": {},
   "outputs": [],
   "source": [
    "# truth_data = filter_by_date(build_timeline_data(base_path, 10, \"ssp126\", \"ssp585\"; file_range_selection=1:2)) do timedata\n",
    "#     return year(timedata) >= 2015 && year(timedata) <= 2034\n",
    "# end"
   ]
  },
  {
   "cell_type": "code",
   "execution_count": null,
   "metadata": {},
   "outputs": [],
   "source": [
    "compare_truth_with_tldata(truth_data, tl_data, \"mon_mean_comparison.mp4\"; framerate = 3, resolution = (2000, 1000), colormap = :managua)"
   ]
  },
  {
   "cell_type": "code",
   "execution_count": 54,
   "metadata": {},
   "outputs": [
    {
     "data": {
      "text/plain": [
       "57-element Vector{UnitRange{Int64}}:\n",
       " 1:120\n",
       " 4:124\n",
       " 8:128\n",
       " 12:132\n",
       " 16:136\n",
       " 20:140\n",
       " 24:144\n",
       " 28:148\n",
       " 32:152\n",
       " 36:156\n",
       " ⋮\n",
       " 194:314\n",
       " 198:318\n",
       " 202:322\n",
       " 206:327\n",
       " 210:331\n",
       " 214:335\n",
       " 218:339\n",
       " 222:343\n",
       " 226:347"
      ]
     },
     "metadata": {},
     "output_type": "display_data"
    }
   ],
   "source": [
    "scopes_30_seasons = get_sliding_time_scopes_by_threshold(monthly_tl_data.time, 30)"
   ]
  },
  {
   "cell_type": "code",
   "execution_count": 12,
   "metadata": {},
   "outputs": [
    {
     "data": {
      "text/plain": [
       "37-element Vector{UnitRange{Int64}}:\n",
       " 1:201\n",
       " 4:205\n",
       " 8:209\n",
       " 12:213\n",
       " 16:217\n",
       " 20:221\n",
       " 24:225\n",
       " 28:229\n",
       " 32:233\n",
       " 36:237\n",
       " ⋮\n",
       " 113:314\n",
       " 117:318\n",
       " 121:322\n",
       " 125:327\n",
       " 129:331\n",
       " 133:335\n",
       " 137:339\n",
       " 141:343\n",
       " 145:347"
      ]
     },
     "metadata": {},
     "output_type": "display_data"
    }
   ],
   "source": [
    "scopes_50_seasons = get_sliding_time_scopes_by_threshold(monthly_tl_data.time, 50)"
   ]
  },
  {
   "cell_type": "code",
   "execution_count": 13,
   "metadata": {},
   "outputs": [
    {
     "name": "stdout",
     "output_type": "stream",
     "text": [
      "Handled scope 1:201 out of 37 on thread 1\n",
      "Handled scope 4:205 out of 37 on thread 1\n",
      "Handled scope 8:209 out of 37 on thread 1\n",
      "Handled scope 12:213 out of 37 on thread 1\n",
      "Handled scope 16:217 out of 37 on thread 1\n",
      "Handled scope 20:221 out of 37 on thread 1\n",
      "Handled scope 24:225 out of 37 on thread 1\n",
      "Handled scope 28:229 out of 37 on thread 1\n",
      "Handled scope 32:233 out of 37 on thread 1\n",
      "Handled scope 36:237 out of 37 on thread 1\n",
      "Handled scope 40:241 out of 37 on thread 1\n",
      "Handled scope 44:246 out of 37 on thread 1\n",
      "Handled scope 48:250 out of 37 on thread 1\n",
      "Handled scope 52:254 out of 37 on thread 1\n",
      "Handled scope 56:258 out of 37 on thread 1\n",
      "Handled scope 60:262 out of 37 on thread 1\n",
      "Handled scope 64:266 out of 37 on thread 1\n",
      "Handled scope 68:270 out of 37 on thread 1\n",
      "Handled scope 72:274 out of 37 on thread 1\n",
      "Handled scope 76:278 out of 37 on thread 1\n",
      "Handled scope 80:282 out of 37 on thread 1\n",
      "Handled scope 85:286 out of 37 on thread 1\n",
      "Handled scope 89:290 out of 37 on thread 1\n",
      "Handled scope 93:294 out of 37 on thread 1\n",
      "Handled scope 97:298 out of 37 on thread 1\n",
      "Handled scope 101:302 out of 37 on thread 1\n",
      "Handled scope 105:306 out of 37 on thread 1\n",
      "Handled scope 109:310 out of 37 on thread 1\n",
      "Handled scope 113:314 out of 37 on thread 1\n",
      "Handled scope 117:318 out of 37 on thread 1\n",
      "Handled scope 121:322 out of 37 on thread 1\n",
      "Handled scope 125:327 out of 37 on thread 1\n",
      "Handled scope 129:331 out of 37 on thread 1\n",
      "Handled scope 133:335 out of 37 on thread 1\n",
      "Handled scope 137:339 out of 37 on thread 1\n",
      "Handled scope 141:343 out of 37 on thread 1\n",
      "Handled scope 145:347 out of 37 on thread 1\n",
      "Handled scope 1:201 out of 37 on thread 1\n",
      "Handled scope 4:205 out of 37 on thread 1\n",
      "Handled scope 8:209 out of 37 on thread 1\n",
      "Handled scope 12:213 out of 37 on thread 1\n",
      "Handled scope 16:217 out of 37 on thread 1\n",
      "Handled scope 20:221 out of 37 on thread 1\n",
      "Handled scope 24:225 out of 37 on thread 1\n",
      "Handled scope 28:229 out of 37 on thread 1\n",
      "Handled scope 32:233 out of 37 on thread 1\n",
      "Handled scope 36:237 out of 37 on thread 1\n",
      "Handled scope 40:241 out of 37 on thread 1\n",
      "Handled scope 44:246 out of 37 on thread 1\n",
      "Handled scope 48:250 out of 37 on thread 1\n",
      "Handled scope 52:254 out of 37 on thread 1\n",
      "Handled scope 56:258 out of 37 on thread 1\n",
      "Handled scope 60:262 out of 37 on thread 1\n",
      "Handled scope 64:266 out of 37 on thread 1\n",
      "Handled scope 68:270 out of 37 on thread 1\n",
      "Handled scope 72:274 out of 37 on thread 1\n",
      "Handled scope 76:278 out of 37 on thread 1\n",
      "Handled scope 80:282 out of 37 on thread 1\n",
      "Handled scope 85:286 out of 37 on thread 1\n",
      "Handled scope 89:290 out of 37 on thread 1\n",
      "Handled scope 93:294 out of 37 on thread 1\n",
      "Handled scope 97:298 out of 37 on thread 1\n",
      "Handled scope 101:302 out of 37 on thread 1\n",
      "Handled scope 105:306 out of 37 on thread 1\n",
      "Handled scope 109:310 out of 37 on thread 1\n",
      "Handled scope 113:314 out of 37 on thread 1\n",
      "Handled scope 117:318 out of 37 on thread 1\n",
      "Handled scope 121:322 out of 37 on thread 1\n",
      "Handled scope 125:327 out of 37 on thread 1\n",
      "Handled scope 129:331 out of 37 on thread 1\n",
      "Handled scope 133:335 out of 37 on thread 1\n",
      "Handled scope 137:339 out of 37 on thread 1\n",
      "Handled scope 141:343 out of 37 on thread 1\n",
      "Handled scope 145:347 out of 37 on thread 1\n"
     ]
    },
    {
     "data": {
      "text/plain": [
       "Dict{String, Vector{EOFResult}} with 2 entries:\n",
       "  \"ssp126\" => [EOFResult([-20.9187 78.0564 … 20.3053 14.7421; -7.27791 124.338 …\n",
       "  \"ssp585\" => [EOFResult([-116.306 -13.3401 … 12.0226 9.54506; -96.7593 15.3366…"
      ]
     },
     "metadata": {},
     "output_type": "display_data"
    }
   ],
   "source": [
    "eof_data = calculate_eofs_of_tl_data(\n",
    "    monthly_tl_data, \n",
    "    scopes_50_seasons, \n",
    "    2; \n",
    "    engine=:python, \n",
    "    reof=false, \n",
    "    center=true, \n",
    "    align_eof_with_mean=true, \n",
    "    align_pcs_with_mean=false, \n",
    "    weights=sqrt.(cos.(deg2rad.(monthly_tl_data.lats))), \n",
    "    eof_type=:normal,\n",
    "    scale_with_eigenvals=true\n",
    ")"
   ]
  },
  {
   "cell_type": "code",
   "execution_count": 18,
   "metadata": {},
   "outputs": [
    {
     "name": "stdout",
     "output_type": "stream",
     "text": [
      "Handled scope 1:201 out of 37 on thread 1\n",
      "Handled scope 4:205 out of 37 on thread 1\n",
      "Handled scope 8:209 out of 37 on thread 1\n",
      "Handled scope 12:213 out of 37 on thread 1\n",
      "Handled scope 16:217 out of 37 on thread 1\n",
      "Handled scope 20:221 out of 37 on thread 1\n",
      "Handled scope 24:225 out of 37 on thread 1\n",
      "Handled scope 28:229 out of 37 on thread 1\n",
      "Handled scope 32:233 out of 37 on thread 1\n",
      "Handled scope 36:237 out of 37 on thread 1\n",
      "Handled scope 40:241 out of 37 on thread 1\n",
      "Handled scope 44:246 out of 37 on thread 1\n",
      "Handled scope 48:250 out of 37 on thread 1\n",
      "Handled scope 52:254 out of 37 on thread 1\n",
      "Handled scope 56:258 out of 37 on thread 1\n",
      "Handled scope 60:262 out of 37 on thread 1\n",
      "Handled scope 64:266 out of 37 on thread 1\n",
      "Handled scope 68:270 out of 37 on thread 1\n",
      "Handled scope 72:274 out of 37 on thread 1\n",
      "Handled scope 76:278 out of 37 on thread 1\n",
      "Handled scope 80:282 out of 37 on thread 1\n",
      "Handled scope 85:286 out of 37 on thread 1\n",
      "Handled scope 89:290 out of 37 on thread 1\n",
      "Handled scope 93:294 out of 37 on thread 1\n",
      "Handled scope 97:298 out of 37 on thread 1\n",
      "Handled scope 101:302 out of 37 on thread 1\n",
      "Handled scope 105:306 out of 37 on thread 1\n",
      "Handled scope 109:310 out of 37 on thread 1\n",
      "Handled scope 113:314 out of 37 on thread 1\n",
      "Handled scope 117:318 out of 37 on thread 1\n",
      "Handled scope 121:322 out of 37 on thread 1\n",
      "Handled scope 125:327 out of 37 on thread 1\n",
      "Handled scope 129:331 out of 37 on thread 1\n",
      "Handled scope 133:335 out of 37 on thread 1\n",
      "Handled scope 137:339 out of 37 on thread 1\n",
      "Handled scope 141:343 out of 37 on thread 1\n",
      "Handled scope 145:347 out of 37 on thread 1\n"
     ]
    },
    {
     "data": {
      "text/plain": [
       "Dict{String, Vector{EOFResult}} with 1 entry:\n",
       "  \"ssp585\" => [EOFResult([863.202 984.147 … -2806.43 -2596.98; 789.093 927.23 ……"
      ]
     },
     "metadata": {},
     "output_type": "display_data"
    }
   ],
   "source": [
    "eof_data_ps_nao = calculate_eofs_of_tl_data(\n",
    "    ps_data, \n",
    "    scopes_50_seasons, \n",
    "    1; \n",
    "    engine=:python, \n",
    "    reof=false, \n",
    "    center=true, \n",
    "    align_eof_with_mean=true, \n",
    "    align_pcs_with_mean=false, \n",
    "    weights=sqrt.(cos.(deg2rad.(monthly_tl_data.lats))), \n",
    "    eof_type=:normal,\n",
    "    scale_with_eigenvals=true\n",
    ")"
   ]
  },
  {
   "cell_type": "code",
   "execution_count": 30,
   "metadata": {},
   "outputs": [
    {
     "name": "stdout",
     "output_type": "stream",
     "text": [
      "Threads available: 8\n"
     ]
    }
   ],
   "source": [
    "show_eof_modes_of_timeline(\n",
    "    monthly_tl_data,\n",
    "    eof_data,\n",
    "    all_scopes,\n",
    "    \"eof_6modes_monthly_30seasons_aligned_tst.mp4\";\n",
    "    framerate = 2,\n",
    "    colormap = :broc,\n",
    "    coastline_color = :black,\n",
    "    resolution = (2000, 1100),\n",
    "    whole_figure_title = \"Leading EOF Modes of Daily Averages of IVT (18 Winter Period) Aligned\"\n",
    ")"
   ]
  },
  {
   "cell_type": "markdown",
   "metadata": {},
   "source": [
    "Temporal plot first 2 modes\n",
    "Compare to mean\n",
    "scale with singular value (diss)\n",
    "0 contour plot"
   ]
  },
  {
   "cell_type": "code",
   "execution_count": 30,
   "metadata": {},
   "outputs": [
    {
     "name": "stdout",
     "output_type": "stream",
     "text": [
      "Data extremas: -582.9081377970413 1030.2213328965045\n"
     ]
    }
   ],
   "source": [
    "figure = show_eof_and_pc_modes_of_timeline(\n",
    "    monthly_tl_data,\n",
    "    eof_data,\n",
    "    scopes_50_seasons,\n",
    "    \"eof_ivt_2modes_pc_dailymean_50seasons_naoindex.mp4\";\n",
    "    framerate = 2,\n",
    "    colormap = :BrBG_3,\n",
    "    coastline_color = :black,\n",
    "    resolution = (2000, 2000),\n",
    "    whole_figure_title = \"Leading EOF Modes of Daily Averages of IVT (50 Winter Period)\",\n",
    "    shading=NoShading,\n",
    "    surface_alpha_value=1.0,\n",
    "    fontsize=14,\n",
    "    additional_eof_data=eof_data_ps_nao,\n",
    "    additional_data_label=\"NAO index\"\n",
    ")"
   ]
  },
  {
   "cell_type": "code",
   "execution_count": 19,
   "metadata": {},
   "outputs": [
    {
     "name": "stdout",
     "output_type": "stream",
     "text": [
      "Data extremas: -582.9081377970413 1030.2213328965045\n"
     ]
    }
   ],
   "source": [
    "figure = show_eof_and_pc_modes_of_timeline(\n",
    "    monthly_tl_data,\n",
    "    eof_data,\n",
    "    scopes_30_seasons,\n",
    "    \"eof_ivt_2modes_pc_monthlymean_30seasons_naoindex.mp4\";\n",
    "    framerate = 2,\n",
    "    colormap = :BrBG_3,\n",
    "    coastline_color = :black,\n",
    "    resolution = (2000, 2000),\n",
    "    whole_figure_title = \"Leading EOF Modes of Monthly Averages of IVT (30 Winter Period) with NAO index\",\n",
    "    shading=NoShading,\n",
    "    surface_alpha_value=1.0,\n",
    "    fontsize=14,\n",
    "    additional_eof_data=eof_data_ps_nao,\n",
    "    additional_data_label=\"NAO index\"\n",
    ")"
   ]
  },
  {
   "cell_type": "code",
   "execution_count": 21,
   "metadata": {},
   "outputs": [
    {
     "ename": "MethodError",
     "evalue": "MethodError: no method matching initialize_block!(::GeoAxis; transformation::@NamedTuple{translation::Tuple{Int64, Int64, Int64}})\n\nClosest candidates are:\n  initialize_block!(::GeoAxis) got unsupported keyword argument \"transformation\"\n   @ GeoMakie ~/.julia/packages/GeoMakie/vcMuZ/src/geoaxis.jl:543\n  initialize_block!(!Matched::Menu; default) got unsupported keyword argument \"transformation\"\n   @ Makie ~/.julia/packages/Makie/ND0gA/src/makielayout/blocks/menu.jl:51\n  initialize_block!(!Matched::Textbox) got unsupported keyword argument \"transformation\"\n   @ Makie ~/.julia/packages/Makie/ND0gA/src/makielayout/blocks/textbox.jl:4\n  ...\n",
     "output_type": "error",
     "traceback": [
      "MethodError: no method matching initialize_block!(::GeoAxis; transformation::@NamedTuple{translation::Tuple{Int64, Int64, Int64}})\n",
      "\n",
      "Closest candidates are:\n",
      "  initialize_block!(::GeoAxis) got unsupported keyword argument \"transformation\"\n",
      "   @ GeoMakie ~/.julia/packages/GeoMakie/vcMuZ/src/geoaxis.jl:543\n",
      "  initialize_block!(!Matched::Menu; default) got unsupported keyword argument \"transformation\"\n",
      "   @ Makie ~/.julia/packages/Makie/ND0gA/src/makielayout/blocks/menu.jl:51\n",
      "  initialize_block!(!Matched::Textbox) got unsupported keyword argument \"transformation\"\n",
      "   @ Makie ~/.julia/packages/Makie/ND0gA/src/makielayout/blocks/textbox.jl:4\n",
      "  ...\n",
      "\n",
      "\n",
      "Stacktrace:\n",
      "  [1] _block(T::Type{GeoAxis}, fig_or_scene::Figure, args::Vector{Any}, kwdict::Dict{Symbol, Any}, bbox::Nothing; kwdict_complete::Bool)\n",
      "    @ Makie ~/.julia/packages/Makie/ND0gA/src/makielayout/blocks.jl:388\n",
      "  [2] _block\n",
      "    @ ~/.julia/packages/Makie/ND0gA/src/makielayout/blocks.jl:308 [inlined]\n",
      "  [3] #_block#1348\n",
      "    @ ~/.julia/packages/Makie/ND0gA/src/makielayout/blocks.jl:276 [inlined]\n",
      "  [4] _block(::Type{GeoAxis}, ::GridPosition; kwargs::@Kwargs{dest::String, limits::Tuple{Tuple{Float64, Float64}, Tuple{Float64, Float64}}, title::Observable{String}, transformation::@NamedTuple{translation::Tuple{Int64, Int64, Int64}}})\n",
      "    @ Makie ~/.julia/packages/Makie/ND0gA/src/makielayout/blocks.jl:270\n",
      "  [5] _block\n",
      "    @ ~/.julia/packages/Makie/ND0gA/src/makielayout/blocks.jl:263 [inlined]\n",
      "  [6] #_#1346\n",
      "    @ ~/.julia/packages/Makie/ND0gA/src/makielayout/blocks.jl:254 [inlined]\n",
      "  [7] Block\n",
      "    @ ~/.julia/packages/Makie/ND0gA/src/makielayout/blocks.jl:253 [inlined]\n",
      "  [8] #local_geoaxis_creation!#240\n",
      "    @ ~/Documents/Uni/Master/MA/visual_analysis/visual_utils.jl:21 [inlined]\n",
      "  [9] show_eof_and_pc_modes_of_timeline(data::TimelineData, eof_data::Dict{String, Vector{EOFResult}}, all_scopes::Vector{UnitRange{Int64}}, filename::String; framerate::Int64, colormap::Symbol, coastline_color::Symbol, shading::MakieCore.ShadingAlgorithm, resolution::Tuple{Int64, Int64}, fontsize::Int64, whole_figure_title::String, surface_alpha_value::Float64)\n",
      "    @ Main ~/Documents/Uni/Master/MA/visual_analysis/visual_utils.jl:267\n",
      " [10] top-level scope\n",
      "    @ ~/Documents/Uni/Master/MA/visual_analysis/animation_generation.ipynb:1"
     ]
    }
   ],
   "source": [
    "figure = show_eof_and_pc_modes_of_timeline(\n",
    "    ps_data,\n",
    "    eof_data,\n",
    "    all_scopes,\n",
    "    \"ps_2modes_pc_mean_monthly_50seasons.mp4\";\n",
    "    framerate = 2,\n",
    "    colormap = :BrBG_3,\n",
    "    coastline_color = :black,\n",
    "    resolution = (2000, 2000),\n",
    "    whole_figure_title = \"Leading EOF Modes of Monthly Averages of Surface Pressure (50 Winter Period)\",\n",
    "    shading=NoShading,\n",
    "    surface_alpha_value=0.5\n",
    ")"
   ]
  },
  {
   "cell_type": "code",
   "execution_count": 29,
   "metadata": {},
   "outputs": [
    {
     "data": {
      "text/plain": [
       "DataInspector(Scene (2000px, 1371px):\n",
       "  1 Plot:\n",
       "    └ Plot{Makie.tooltip, Tuple{Point{2, Float32}}}\n",
       "  12 Child Scenes:\n",
       "    ├ Scene (2000px, 1371px)\n",
       "    ├ Scene (2000px, 1371px)\n",
       "    ├ Scene (2000px, 1371px)\n",
       "    ├ Scene (2000px, 1371px)\n",
       "    ├ Scene (2000px, 1371px)\n",
       "    ├ Scene (2000px, 1371px)\n",
       "    ├ Scene (2000px, 1371px)\n",
       "    ├ Scene (2000px, 1371px)\n",
       "    ├ Scene (2000px, 1371px)\n",
       "    ├ Scene (2000px, 1371px)\n",
       "    ├ Scene (2000px, 1371px)\n",
       "    └ Scene (2000px, 1371px), Attributes with 11 entries:\n",
       "  _color => RGBA{Float32}(0.0,0.0,0.0,0.0)\n",
       "  apply_tooltip_offset => true\n",
       "  depth => 9000.0\n",
       "  enable_indicators => true\n",
       "  enabled => true\n",
       "  indicator_color => red\n",
       "  indicator_linestyle => nothing\n",
       "  indicator_linewidth => 2\n",
       "  indicator_visible => false\n",
       "  offset => 10.0\n",
       "  range => 10, AbstractPlot[], Plot{Makie.tooltip, Tuple{Point{2, Float32}}}, Plot{Makie.tooltip, Tuple{Point{2, Float32}}}, Any[ObserverFunction defined at /home/denis/.julia/packages/Makie/ND0gA/src/interaction/inspector.jl:280 operating on Observable((1974.0, 1385.0)), ObserverFunction defined at /home/denis/.julia/packages/Makie/ND0gA/src/interaction/inspector.jl:281 operating on Observable((0.0, 1.0))])"
      ]
     },
     "metadata": {},
     "output_type": "display_data"
    }
   ],
   "source": [
    "DataInspector(figure)"
   ]
  },
  {
   "cell_type": "code",
   "execution_count": 30,
   "metadata": {},
   "outputs": [],
   "source": [
    "figure"
   ]
  }
 ],
 "metadata": {
  "kernelspec": {
   "display_name": "Julia 1.10.3",
   "language": "julia",
   "name": "julia-1.10"
  },
  "language_info": {
   "file_extension": ".jl",
   "mimetype": "application/julia",
   "name": "julia",
   "version": "1.10.3"
  }
 },
 "nbformat": 4,
 "nbformat_minor": 2
}

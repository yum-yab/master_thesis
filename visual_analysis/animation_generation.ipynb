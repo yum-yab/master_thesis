{
 "cells": [
  {
   "cell_type": "code",
   "execution_count": 1,
   "metadata": {},
   "outputs": [
    {
     "name": "stderr",
     "output_type": "stream",
     "text": [
      "\u001b[32m\u001b[1m  Activating\u001b[22m\u001b[39m project at `~/Documents/Uni/Master/MA/visual_analysis`\n"
     ]
    }
   ],
   "source": [
    "using Pkg\n",
    "\n",
    "Pkg.activate(\".\")"
   ]
  },
  {
   "cell_type": "code",
   "execution_count": 2,
   "metadata": {},
   "outputs": [
    {
     "data": {
      "text/plain": [
       "compare_truth_with_tldata (generic function with 1 method)"
      ]
     },
     "metadata": {},
     "output_type": "display_data"
    }
   ],
   "source": [
    "include(\"utils.jl\")\n",
    "include(\"visual_utils.jl\")"
   ]
  },
  {
   "cell_type": "code",
   "execution_count": 3,
   "metadata": {},
   "outputs": [],
   "source": [
    "using GLMakie\n",
    "using GeoMakie\n",
    "using EmpiricalOrthogonalFunctions\n",
    "using NCDatasets \n",
    "using Dates\n",
    "using BenchmarkTools\n",
    "using Statistics"
   ]
  },
  {
   "cell_type": "code",
   "execution_count": 4,
   "metadata": {},
   "outputs": [],
   "source": [
    "# mon_mean_base_path = \"/home/denis/workspace/data/ivt_monthly_mean\"\n",
    "# day_mean_base_path = \"/home/denis/workspace/data/ivt_daily_mean\""
   ]
  },
  {
   "cell_type": "code",
   "execution_count": 5,
   "metadata": {},
   "outputs": [
    {
     "data": {
      "text/plain": [
       "\"/mnt/bigdrive/Datasets/ivt_daily_mean\""
      ]
     },
     "metadata": {},
     "output_type": "display_data"
    }
   ],
   "source": [
    "mon_mean_base_path = \"/mnt/bigdrive/Datasets/ivt_monthly_mean\"\n",
    "day_mean_base_path = \"/mnt/bigdrive/Datasets/ivt_daily_mean\""
   ]
  },
  {
   "cell_type": "code",
   "execution_count": 6,
   "metadata": {},
   "outputs": [],
   "source": [
    "# monthly_tl_data = filter_by_date(build_timeline_data(mon_mean_base_path, 10, \"ssp126\", \"ssp585\"; file_range_selection=:)) do timedata\n",
    "#     return year(timedata) >= 2081 && year(timedata) <= 2100  \n",
    "# end"
   ]
  },
  {
   "cell_type": "code",
   "execution_count": 7,
   "metadata": {},
   "outputs": [
    {
     "data": {
      "text/plain": [
       "4-element Vector{Int64}:\n",
       " 12\n",
       "  1\n",
       "  2\n",
       "  3"
      ]
     },
     "metadata": {},
     "output_type": "display_data"
    }
   ],
   "source": [
    "winter_months = [12, 1, 2, 3]\n"
   ]
  },
  {
   "cell_type": "code",
   "execution_count": 16,
   "metadata": {},
   "outputs": [
    {
     "data": {
      "text/plain": [
       "TimelineData(Union{Missing, AbstractFloat}[-90.0, -88.125, -86.25, -84.375, -82.5, -80.625, -78.75, -76.875, -75.0, -73.125  …  22.5, 24.375, 26.25, 28.125, 30.0, 31.875, 33.75, 35.625, 37.5, 39.375], Union{Missing, AbstractFloat}[21.450475037398185, 23.31573072614093, 25.180985581270594, 27.04623949994481, 28.91149236871774, 30.77674406172325, 32.64199443851768, 34.50724334150103, 36.37249059281224, 38.23773599056483  …  62.48557052203639, 64.35073040887207, 66.2158721139987, 68.08099098565125, 69.94608064698343, 71.81113211427447, 73.67613231320912, 75.54106145287895, 77.4058880820788, 79.27055903485967], Union{Missing, DateTime}[DateTime(\"2015-01-16T12:00:00\"), DateTime(\"2015-02-14T21:00:00\"), DateTime(\"2015-03-16T09:00:00\"), DateTime(\"2015-12-16T09:00:00\"), DateTime(\"2016-01-16T09:00:00\"), DateTime(\"2016-02-15T09:00:00\"), DateTime(\"2016-03-16T09:00:00\"), DateTime(\"2016-12-16T09:00:00\"), DateTime(\"2017-01-16T09:00:00\"), DateTime(\"2017-02-14T21:00:00\")  …  DateTime(\"2098-12-16T09:00:00\"), DateTime(\"2099-01-16T09:00:00\"), DateTime(\"2099-02-14T21:00:00\"), DateTime(\"2099-03-16T09:00:00\"), DateTime(\"2099-12-16T09:00:00\"), DateTime(\"2100-01-16T09:00:00\"), DateTime(\"2100-02-14T21:00:00\"), DateTime(\"2100-03-16T09:00:00\"), DateTime(\"2100-12-16T09:00:00\"), DateTime(\"2101-01-01T00:00:00\")], ScenarioData[ScenarioData(\"ssp126\", Union{Missing, AbstractFloat}[152.220564351215 139.89855955449093 … 11.43772067187727 11.12138832918432; 177.0016038909229 155.34620857911816 … 11.25212137118556 11.185765675051506; … ; 61.580878613712315 57.624302711112236 … 60.27400698008661 54.851290795690765; 41.34681066310978 41.5345140420152 … 60.37387012239605 54.065038962732295;;; 172.7796235248608 174.7828287450453 … 13.556556162159106 16.071244464770423; 185.43119817552702 178.2375374143174 … 12.9123289669871 15.410927193775859; … ; 55.377253040801506 50.26399129604981 … 69.82818790076041 53.29926738540983; 46.74010776451592 41.36531733319391 … 68.18177132665755 52.71481352784951;;; 171.68699638123812 168.01088108681853 … 18.459145637211705 17.123087729323085; 193.7863976293474 181.82183806462191 … 18.17487729149048 16.91394615026236; … ; 94.48769112065273 130.61688583176414 … 35.11633003154107 32.22906902897568; 96.5278925086109 127.1135571371767 … 35.115330809245286 32.19193633104408;;; … ;;; 215.90193509687626 234.5436437083887 … 11.028040403712657 10.496738817396635; 232.8216399582603 245.56489209693189 … 10.764956139975942 10.338327937317466; … ; 96.89669829795501 80.46221565381094 … 51.63905638710072 45.470632429285025; 125.89161732129205 102.71889953251295 … 50.10221870107641 44.90322407892646;;; 159.34634793095395 158.63263537186694 … 12.261899120495665 11.378298180871138; 165.30030695650038 163.86921224283148 … 12.360114047000843 11.449983181099753; … ; 75.86793687148962 67.50761534087813 … 47.67839776581009 42.30165270397037; 58.81446240362616 46.45563615435027 … 48.371012089894336 43.451404902478366;;; 207.07871704991132 219.87071643960977 … 8.702123600427699 3.752024774758155; 226.6749219234321 242.67414970906947 … 9.4305062682575 3.941516785831257; … ; 110.41627203917707 63.78999225759675 … 35.81989291170195 33.286533472515856; 57.9379571789149 29.406416810048633 … 35.52919190173966 33.00211460572687]), ScenarioData(\"ssp585\", Union{Missing, AbstractFloat}[160.31307235593036 146.03025488185176 … 12.10168570561562 10.542858666030803; 175.45616585892174 152.8354358267781 … 11.736566194461723 10.359225924586013; … ; 56.34151684781919 50.591875837944286 … 34.33425433859512 24.171571758902076; 37.37569844654242 35.03452325973889 … 32.828720646909645 23.278946160891092;;; 225.82694647674654 203.52416767783515 … 13.396414644855549 13.013039016573332; 230.80374451520896 205.97432398393704 … 13.416633326315026 12.970198204385548; … ; 58.341492933435156 50.78711495919206 … 27.359602252477448 22.727564581338537; 48.54018852626586 44.604088581041104 … 28.022588030041454 23.112676761552784;;; 188.24376523446796 163.84462608568109 … 17.339308281416574 16.23760862855097; 193.0745504360253 166.43362040711975 … 17.233841076284687 15.982095058112302; … ; 145.35647994067483 153.85383134068763 … 41.654566609519044 37.92880023468463; 153.40887440443757 156.63919445107302 … 40.36169214877832 36.85300173820245;;; … ;;; 214.53537306321567 190.04076292354418 … 33.45581334908728 27.296559929430142; 237.96432988342104 217.48823110888293 … 32.925622018577016 26.24123785677937; … ; 109.53140358848906 125.49928602775128 … 110.19104391876485 98.487068973715; 111.84789973243714 116.05924878896167 … 108.40772686527929 97.93335899080195;;; 258.06316168533505 266.96486036014045 … 26.396642739727767 23.44315939008912; 276.15652963076667 276.3220306951741 … 24.887140546473027 22.18180223919806; … ; 125.73420839202156 126.0830972742959 … 58.329957801166174 56.153051415513694; 97.89587616289234 101.04090799333918 … 59.43043041171976 57.71440789501434;;; 105.89336076651334 98.55105149824347 … 11.299009119800296 11.557276311894933; 120.36208143403611 121.06190627543481 … 12.29971869550457 11.647920240805725; … ; 53.875427423012496 60.20225955670081 … 44.52223244693397 32.64840640322025; 45.2119309734363 26.848266954672305 … 18.83719133082565 31.516019166796642])])"
      ]
     },
     "metadata": {},
     "output_type": "display_data"
    }
   ],
   "source": [
    "\n",
    "monthly_tl_data = filter_by_date(build_timeline_data(mon_mean_base_path, 20, \"ssp126\", \"ssp585\"; file_range_selection = :)) do time_element\n",
    "\n",
    "    for wm in winter_months\n",
    "        if month(time_element) == wm\n",
    "            return true\n",
    "        end\n",
    "    end\n",
    "    return false\n",
    "end"
   ]
  },
  {
   "cell_type": "code",
   "execution_count": 9,
   "metadata": {},
   "outputs": [
    {
     "data": {
      "text/plain": [
       "TimelineData(Union{Missing, AbstractFloat}[-90.0, -88.125, -86.25, -84.375, -82.5, -80.625, -78.75, -76.875, -75.0, -73.125  …  22.5, 24.375, 26.25, 28.125, 30.0, 31.875, 33.75, 35.625, 37.5, 39.375], Union{Missing, AbstractFloat}[21.450475037398185, 23.31573072614093, 25.180985581270594, 27.04623949994481, 28.91149236871774, 30.77674406172325, 32.64199443851768, 34.50724334150103, 36.37249059281224, 38.23773599056483  …  62.48557052203639, 64.35073040887207, 66.2158721139987, 68.08099098565125, 69.94608064698343, 71.81113211427447, 73.67613231320912, 75.54106145287895, 77.4058880820788, 79.27055903485967], Union{Missing, DateTime}[DateTime(\"2015-01-01T12:00:00\"), DateTime(\"2015-01-02T09:00:00\"), DateTime(\"2015-01-03T09:00:00\"), DateTime(\"2015-01-04T09:00:00\"), DateTime(\"2015-01-05T09:00:00\"), DateTime(\"2015-01-06T09:00:00\"), DateTime(\"2015-01-07T09:00:00\"), DateTime(\"2015-01-08T09:00:00\"), DateTime(\"2015-01-09T09:00:00\"), DateTime(\"2015-01-10T09:00:00\")  …  DateTime(\"2100-12-23T09:00:00\"), DateTime(\"2100-12-24T09:00:00\"), DateTime(\"2100-12-25T09:00:00\"), DateTime(\"2100-12-26T09:00:00\"), DateTime(\"2100-12-27T09:00:00\"), DateTime(\"2100-12-28T09:00:00\"), DateTime(\"2100-12-29T09:00:00\"), DateTime(\"2100-12-30T09:00:00\"), DateTime(\"2100-12-31T09:00:00\"), DateTime(\"2101-01-01T00:00:00\")], ScenarioData[ScenarioData(\"ssp126\", Union{Missing, AbstractFloat}[161.91311352439013 208.13585236207294 … 23.68281877189167 26.74537540707487; 182.0941893655805 203.39613305239672 … 22.06967568439332 27.306032817303535; … ; 29.194316956878126 19.771703358723343 … 93.6450529618747 24.135590483085448; 12.999905625916236 9.135387962351642 … 81.40524800508196 19.987563829683527;;; 134.00119928223418 114.74268658949727 … 26.6435436755095 26.18012688931745; 229.0299056982271 191.68936679455857 … 23.829762150419853 25.74810282843406; … ; 27.719621244542722 20.449392436271754 … 96.36779808050014 32.891278956764054; 12.584559655916154 8.80033639972953 … 89.05613469575893 29.156372943878576;;; 72.61606047263872 37.28309985862498 … 20.636700054779393 13.292131619138342; 108.0493927632954 59.751775843144024 … 21.659804764359574 15.01127230926884; … ; 32.86290262715845 27.604443360762705 … 17.265190695814745 12.354303072819482; 17.675703722884816 18.43266999520018 … 16.34435283213851 12.290043891231177;;; … ;;; 337.2863065408975 416.83100758773776 … 36.121122486299285 39.52909448617054; 379.7825364552542 437.28480919078584 … 36.630016300780056 37.323554587635954; … ; 40.01330110315101 56.25990222325075 … 61.60463621025127 47.87545630987874; 25.35072662746159 29.36514618173107 … 60.54329607360391 48.07079377630294;;; 226.63969649324304 260.3702453294005 … 25.35305898589062 13.793090267135538; 206.8267958270279 272.0552416698843 … 25.10051079924159 13.024617736096117; … ; 126.85093143385492 111.98626092271003 … 43.26744795629455 38.80470915792683; 98.47341924714075 74.22613302147603 … 44.40983473551362 39.122490404876395;;; 207.07871704991132 219.87071643960977 … 8.702123600427699 3.752024774758155; 226.6749219234321 242.67414970906947 … 9.4305062682575 3.941516785831257; … ; 110.41627203917707 63.78999225759675 … 35.81989291170195 33.286533472515856; 57.9379571789149 29.406416810048633 … 35.52919190173966 33.00211460572687]), ScenarioData(\"ssp585\", Union{Missing, AbstractFloat}[162.89627091112837 207.41854244677086 … 23.669899104302605 26.72622312157165; 183.43515649939604 204.034558981608 … 22.0588866475378 27.2792443107079; … ; 29.105543245027302 19.760178320240772 … 93.68963222972752 24.16262835095201; 13.011207159893964 9.1314062214511 … 81.47105969664041 20.062867404492778;;; 135.44744352619202 116.06644016368533 … 26.53261953748838 26.009649931314303; 228.6313165641734 190.3041320273898 … 23.68319152325072 25.559857839899614; … ; 27.75588355605884 20.455579396431233 … 96.22111632413838 32.921185480683484; 12.566051337332887 8.760687767571456 … 88.80968540893703 29.12896145070919;;; 74.7058866096152 37.65281269774904 … 20.532051468806735 13.241979839301223; 109.83280890686267 59.38824843879839 … 21.389741898717773 14.82823444687982; … ; 32.27907261514558 27.274445977525524 … 17.23100520252064 12.449475444532508; 17.3941373199339 18.30162291187226 … 16.332675084900863 12.36435128590989;;; … ;;; 179.49634300662206 174.08321646973053 … 6.059716551605691 3.240588047813692; 200.93196006643498 206.30942211645703 … 5.660311374993531 4.277101303628758; … ; 92.69954872129117 119.43167058727427 … 39.36931138858003 58.0865744898844; 88.11354258113047 144.60316039563452 … 44.62732858224195 62.00648556119951;;; 106.90491733227535 101.2776104070853 … 9.889051011067522 5.949594460895377; 134.53586902511168 139.29274517689953 … 8.124680275445193 4.650881951185738; … ; 56.86023406427403 65.04085127844282 … 42.00556156437415 36.431395415710206; 67.80993596456342 57.028549866725704 … 41.47191941053461 49.55681089284037;;; 105.89336076651334 98.55105149824347 … 11.299009119800296 11.557276311894933; 120.36208143403611 121.06190627543481 … 12.29971869550457 11.647920240805725; … ; 53.875427423012496 60.20225955670081 … 44.52223244693397 32.64840640322025; 45.2119309734363 26.848266954672305 … 18.83719133082565 31.516019166796642])])"
      ]
     },
     "metadata": {},
     "output_type": "display_data"
    }
   ],
   "source": [
    "daily_tl_data = filter_by_date(build_timeline_data(day_mean_base_path, 20, \"ssp126\", \"ssp585\"; file_range_selection = :)) do time_element\n",
    "\n",
    "    for wm in winter_months\n",
    "        if month(time_element) == wm\n",
    "            return true\n",
    "        end\n",
    "    end\n",
    "    return false\n",
    "end"
   ]
  },
  {
   "cell_type": "code",
   "execution_count": 9,
   "metadata": {},
   "outputs": [],
   "source": [
    "# truth_data = filter_by_date(build_timeline_data(base_path, 10, \"ssp126\", \"ssp585\"; file_range_selection=1:2)) do timedata\n",
    "#     return year(timedata) >= 2015 && year(timedata) <= 2034\n",
    "# end"
   ]
  },
  {
   "cell_type": "code",
   "execution_count": 36,
   "metadata": {},
   "outputs": [],
   "source": [
    "compare_truth_with_tldata(truth_data, tl_data, \"mon_mean_comparison.mp4\"; framerate = 3, resolution = (2000, 1000), colormap = :managua)"
   ]
  },
  {
   "cell_type": "code",
   "execution_count": null,
   "metadata": {},
   "outputs": [],
   "source": [
    "testdata = rand(20, 30, 200)\n"
   ]
  },
  {
   "cell_type": "code",
   "execution_count": 23,
   "metadata": {},
   "outputs": [
    {
     "name": "stdout",
     "output_type": "stream",
     "text": [
      "Threads available: 16\n",
      "Handled scope 113:233 out of 57 on thread 9\n",
      "Handled scope 32:152 out of 57 on thread 12\n",
      "Handled scope 206:327 out of 57 on thread 1\n",
      "Handled scope 170:290 out of 57 on thread 14\n",
      "Handled scope 64:185 out of 57 on thread 7\n",
      "Handled scope 48:169 out of 57 on thread 13\n",
      "Handled scope 129:250 out of 57 on thread 5\n",
      "Handled scope 97:217 out of 57 on thread 8\n",
      "Handled scope 145:266 out of 57 on thread 6\n",
      "Handled scope 182:302 out of 57 on thread 11\n",
      "Handled scope 194:314 out of 57 on thread 16\n",
      "Handled scope 157:278 out of 57 on thread 10\n",
      "Handled scope 1:120 out of 57 on thread 2\n",
      "Handled scope 16:136 out of 57 on thread 4\n",
      "Handled scope 80:201 out of 57 on thread 3\n",
      "Handled scope 218:339 out of 57 on thread 15\n",
      "Handled scope 174:294 out of 57 on thread 1\n",
      "Handled scope 210:331 out of 57 on thread 14\n",
      "Handled scope 68:189 out of 57 on thread 7\n",
      "Handled scope 36:156 out of 57 on thread 12\n",
      "Handled scope 20:140 out of 57 on thread 4\n",
      "Handled scope 117:237 out of 57 on thread 9\n",
      "Handled scope 85:205 out of 57 on thread 3\n",
      "Handled scope 52:173 out of 57 on thread 13\n",
      "Handled scope 161:282 out of 57 on thread 10\n",
      "Handled scope 133:254 out of 57 on thread 5\n",
      "Handled scope 149:270 out of 57 on thread 6\n",
      "Handled scope 198:318 out of 57 on thread 16\n",
      "Handled scope 101:221 out of 57 on thread 8\n",
      "Handled scope 186:306 out of 57 on thread 11\n",
      "Handled scope 4:124 out of 57 on thread 2\n",
      "Handled scope 222:343 out of 57 on thread 15\n",
      "Handled scope 178:298 out of 57 on thread 1\n",
      "Handled scope 214:335 out of 57 on thread 14\n",
      "Handled scope 202:322 out of 57 on thread 16\n",
      "Handled scope 72:193 out of 57 on thread 7\n",
      "Handled scope 56:177 out of 57 on thread 13\n",
      "Handled scope 105:225 out of 57 on thread 8\n",
      "Handled scope 166:286 out of 57 on thread 10\n",
      "Handled scope 40:160 out of 57 on thread 12\n",
      "Handled scope 190:310 out of 57 on thread 11\n",
      "Handled scope 121:241 out of 57 on thread 9\n",
      "Handled scope 24:144 out of 57 on thread 4\n",
      "Handled scope 137:258 out of 57 on thread 5\n",
      "Handled scope 89:209 out of 57 on thread 3\n",
      "Handled scope 153:274 out of 57 on thread 6\n",
      "Handled scope 226:347 out of 57 on thread 15\n",
      "Handled scope 8:128 out of 57 on thread 2\n",
      "Handled scope 76:197 out of 57 on thread 7\n",
      "Handled scope 28:148 out of 57 on thread 4\n",
      "Handled scope 44:165 out of 57 on thread 12\n",
      "Handled scope 60:181 out of 57 on thread 13\n",
      "Handled scope 93:213 out of 57 on thread 3\n",
      "Handled scope 141:262 out of 57 on thread 5\n",
      "Handled scope 12:132 out of 57 on thread 2\n",
      "Handled scope 109:229 out of 57 on thread 8\n",
      "Handled scope 125:246 out of 57 on thread 9\n",
      "Handled scope 218:339 out of 57 on thread 1\n",
      "Handled scope 206:327 out of 57 on thread 14\n",
      "Handled scope 97:217 out of 57 on thread 7\n",
      "Handled scope 113:233 out of 57 on thread 8\n",
      "Handled scope 16:136 out of 57 on thread 11\n",
      "Handled scope 194:314 out of 57 on thread 16\n",
      "Handled scope 64:185 out of 57 on thread 3\n",
      "Handled scope 48:169 out of 57 on thread 10\n",
      "Handled scope 157:278 out of 57 on thread 13\n",
      "Handled scope 145:266 out of 57 on thread 6\n",
      "Handled scope 1:120 out of 57 on thread 4\n",
      "Handled scope 170:290 out of 57 on thread 2\n",
      "Handled scope 129:250 out of 57 on thread 12\n",
      "Handled scope 182:302 out of 57 on thread 15\n",
      "Handled scope 80:201 out of 57 on thread 5\n",
      "Handled scope 32:152 out of 57 on thread 9\n",
      "Handled scope 222:343 out of 57 on thread 1\n",
      "Handled scope 198:318 out of 57 on thread 16\n",
      "Handled scope 210:331 out of 57 on thread 14\n",
      "Handled scope 149:270 out of 57 on thread 6\n",
      "Handled scope 174:294 out of 57 on thread 2\n",
      "Handled scope 161:282 out of 57 on thread 13\n",
      "Handled scope 4:124 out of 57 on thread 4\n",
      "Handled scope 133:254 out of 57 on thread 12\n",
      "Handled scope 68:189 out of 57 on thread 3\n",
      "Handled scope 186:306 out of 57 on thread 15\n",
      "Handled scope 20:140 out of 57 on thread 11\n",
      "Handled scope 52:173 out of 57 on thread 10\n",
      "Handled scope 117:237 out of 57 on thread 8\n",
      "Handled scope 101:221 out of 57 on thread 7\n",
      "Handled scope 36:156 out of 57 on thread 9\n",
      "Handled scope 85:205 out of 57 on thread 5\n",
      "Handled scope 226:347 out of 57 on thread 1\n",
      "Handled scope 153:274 out of 57 on thread 6\n",
      "Handled scope 214:335 out of 57 on thread 14\n",
      "Handled scope 8:128 out of 57 on thread 4\n",
      "Handled scope 137:258 out of 57 on thread 12\n",
      "Handled scope 72:193 out of 57 on thread 3\n",
      "Handled scope 24:144 out of 57 on thread 11\n",
      "Handled scope 202:322 out of 57 on thread 16\n",
      "Handled scope 166:286 out of 57 on thread 13\n",
      "Handled scope 178:298 out of 57 on thread 2\n",
      "Handled scope 105:225 out of 57 on thread 7\n",
      "Handled scope 56:177 out of 57 on thread 10\n",
      "Handled scope 190:310 out of 57 on thread 15\n",
      "Handled scope 121:241 out of 57 on thread 8\n",
      "Handled scope 40:160 out of 57 on thread 9\n",
      "Handled scope 89:209 out of 57 on thread 5\n",
      "Handled scope 12:132 out of 57 on thread 4\n",
      "Handled scope 76:197 out of 57 on thread 3\n",
      "Handled scope 141:262 out of 57 on thread 12\n",
      "Handled scope 28:148 out of 57 on thread 11\n",
      "Handled scope 60:181 out of 57 on thread 10\n",
      "Handled scope 109:229 out of 57 on thread 7\n",
      "Handled scope 125:246 out of 57 on thread 8\n",
      "Handled scope 93:213 out of 57 on thread 5\n",
      "Handled scope 44:165 out of 57 on thread 9\n"
     ]
    }
   ],
   "source": [
    "show_eof_modes_of_timeline(daily_tl_data, 4, 18, \"eof_modes_daily_18seasons_aligned.mp4\"; colormap = :broc, framerate = 2, resolution = (2000, 1100), eof_center = true, whole_figure_title = \"Leading EOF Modes of Daily Averages of IVT (18 Winter Period) Aligned\", align_with_mean = true)"
   ]
  }
 ],
 "metadata": {
  "kernelspec": {
   "display_name": "Julia 1.10.2",
   "language": "julia",
   "name": "julia-1.10"
  },
  "language_info": {
   "file_extension": ".jl",
   "mimetype": "application/julia",
   "name": "julia",
   "version": "1.10.2"
  }
 },
 "nbformat": 4,
 "nbformat_minor": 2
}

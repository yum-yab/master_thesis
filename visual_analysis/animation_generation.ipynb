{
 "cells": [
  {
   "cell_type": "code",
   "execution_count": 1,
   "metadata": {},
   "outputs": [
    {
     "name": "stderr",
     "output_type": "stream",
     "text": [
      "\u001b[32m\u001b[1m  Activating\u001b[22m\u001b[39m project at `~/Documents/Uni/Master/MA/visual_analysis`\n"
     ]
    }
   ],
   "source": [
    "using Pkg\n",
    "\n",
    "Pkg.activate(\".\")"
   ]
  },
  {
   "cell_type": "code",
   "execution_count": 2,
   "metadata": {},
   "outputs": [
    {
     "name": "stderr",
     "output_type": "stream",
     "text": [
      "\u001b[32m\u001b[1m    CondaPkg \u001b[22m\u001b[39m\u001b[0mFound dependencies: /home/denis/Documents/Uni/Master/MA/visual_analysis/CondaPkg.toml\n",
      "\u001b[32m\u001b[1m    CondaPkg \u001b[22m\u001b[39m\u001b[0mFound dependencies: /home/denis/.julia/packages/PythonCall/bb3ax/CondaPkg.toml\n",
      "\u001b[32m\u001b[1m    CondaPkg \u001b[22m\u001b[39m\u001b[0mDependencies already up to date\n"
     ]
    },
    {
     "data": {
      "text/plain": [
       "show_eof_modes_of_timeline_pyeof (generic function with 1 method)"
      ]
     },
     "metadata": {},
     "output_type": "display_data"
    }
   ],
   "source": [
    "include(\"utils.jl\")\n",
    "include(\"visual_utils.jl\")"
   ]
  },
  {
   "cell_type": "code",
   "execution_count": 3,
   "metadata": {},
   "outputs": [],
   "source": [
    "using GLMakie\n",
    "using GeoMakie\n",
    "using EmpiricalOrthogonalFunctions\n",
    "using NCDatasets \n",
    "using Dates\n",
    "using BenchmarkTools\n",
    "using Statistics"
   ]
  },
  {
   "cell_type": "code",
   "execution_count": 4,
   "metadata": {},
   "outputs": [
    {
     "data": {
      "text/plain": [
       "\"/home/denis/workspace/data/ivt_daily_mean\""
      ]
     },
     "metadata": {},
     "output_type": "display_data"
    }
   ],
   "source": [
    "mon_mean_base_path = \"/home/denis/workspace/data/ivt_monthly_mean\"\n",
    "day_mean_base_path = \"/home/denis/workspace/data/ivt_daily_mean\""
   ]
  },
  {
   "cell_type": "code",
   "execution_count": 5,
   "metadata": {},
   "outputs": [],
   "source": [
    "# monthly_tl_data = filter_by_date(build_timeline_data(mon_mean_base_path, 10, \"ssp126\", \"ssp585\"; file_range_selection=:)) do timedata\n",
    "#     return year(timedata) >= 2081 && year(timedata) <= 2100  \n",
    "# end"
   ]
  },
  {
   "cell_type": "code",
   "execution_count": 6,
   "metadata": {},
   "outputs": [
    {
     "data": {
      "text/plain": [
       "4-element Vector{Int64}:\n",
       " 12\n",
       "  1\n",
       "  2\n",
       "  3"
      ]
     },
     "metadata": {},
     "output_type": "display_data"
    }
   ],
   "source": [
    "winter_months = [12, 1, 2, 3]\n"
   ]
  },
  {
   "cell_type": "code",
   "execution_count": 8,
   "metadata": {},
   "outputs": [
    {
     "data": {
      "text/plain": [
       "TimelineData(Union{Missing, AbstractFloat}[-90.0, -88.125, -86.25, -84.375, -82.5, -80.625, -78.75, -76.875, -75.0, -73.125  …  22.5, 24.375, 26.25, 28.125, 30.0, 31.875, 33.75, 35.625, 37.5, 39.375], Union{Missing, AbstractFloat}[21.450475037398185, 23.31573072614093, 25.180985581270594, 27.04623949994481, 28.91149236871774, 30.77674406172325, 32.64199443851768, 34.50724334150103, 36.37249059281224, 38.23773599056483  …  62.48557052203639, 64.35073040887207, 66.2158721139987, 68.08099098565125, 69.94608064698343, 71.81113211427447, 73.67613231320912, 75.54106145287895, 77.4058880820788, 79.27055903485967], Union{Missing, DateTime}[DateTime(\"2015-01-16T12:00:00\"), DateTime(\"2015-02-14T21:00:00\"), DateTime(\"2015-03-16T09:00:00\"), DateTime(\"2015-12-16T09:00:00\"), DateTime(\"2016-01-16T09:00:00\"), DateTime(\"2016-02-15T09:00:00\"), DateTime(\"2016-03-16T09:00:00\"), DateTime(\"2016-12-16T09:00:00\"), DateTime(\"2017-01-16T09:00:00\"), DateTime(\"2017-02-14T21:00:00\")  …  DateTime(\"2098-12-16T09:00:00\"), DateTime(\"2099-01-16T09:00:00\"), DateTime(\"2099-02-14T21:00:00\"), DateTime(\"2099-03-16T09:00:00\"), DateTime(\"2099-12-16T09:00:00\"), DateTime(\"2100-01-16T09:00:00\"), DateTime(\"2100-02-14T21:00:00\"), DateTime(\"2100-03-16T09:00:00\"), DateTime(\"2100-12-16T09:00:00\"), DateTime(\"2101-01-01T00:00:00\")], ScenarioData[ScenarioData(\"ssp126\", Union{Missing, AbstractFloat}[183.74911573707828 163.21905060943445 … 14.357007090955785 13.453895564649764; 196.92414726424704 181.3847107513107 … 15.008165757745328 13.993438468617788; … ; 79.9166815528064 75.92575745359655 … 36.61887185708259 29.943024898182497; 68.13365299667942 62.74720943730691 … 36.51216143455265 29.57740970268891;;; 196.3224123962182 199.04197167438565 … 16.8037437278927 16.248319815568454; 220.6916197805289 213.00221078040872 … 16.594524771756348 16.01004716331677; … ; 61.35503512547841 48.88013434250992 … 36.9428334451273 31.533575187831303; 58.76755070351866 39.44317171686516 … 36.48976519171424 30.969227110057833;;; 219.89113187696836 235.77583967258647 … 10.83725237095948 9.29953594597384; 244.69226011145548 253.91881302653726 … 10.479882176136048 9.198975156868961; … ; 87.48805494221098 79.27944338220125 … 26.684227803024065 19.260841657425107; 91.13677296112209 72.57882917153452 … 27.446686708583098 19.741859696954844;;; … ;;; 189.05060537035567 217.5556041992656 … 29.159340110597938 27.83436919734367; 204.7024752351035 239.0903195802368 … 28.21577497977821 27.079831281782443; … ; 91.08614166966098 90.88812051187038 … 27.777964430086055 20.88636621387547; 87.93279981566062 86.21750276312395 … 26.51289311339022 20.20082268514008;;; 263.4268358633991 255.36685427891723 … 19.34003249779506 18.445371061990322; 265.15348997357677 255.35787030547286 … 19.635268999324765 18.646267070495732; … ; 82.42787982440528 75.75708643965189 … 58.86920619231526 45.89552740762239; 69.45117204230155 68.15010070718897 … 59.24832572447663 45.80550630981257;;; 215.07063355389826 98.05008821606967 … 2.2330716876241796 2.6927010274924834; 176.4055588967954 96.40320794263384 … 2.1918774930964435 3.5252433787449124; … ; 82.18143127926434 114.09535209807495 … 90.01042463298343 39.351751251481865; 80.01413814586543 87.43926735892929 … 78.7407396540763 33.124462268178206]), ScenarioData(\"ssp585\", Union{Missing, AbstractFloat}[145.81860360664533 143.29926825641684 … 16.153853331783818 15.396717455432569; 163.22817209377732 162.0302859034323 … 15.561526354076337 14.989563519986008; … ; 57.607257080551356 50.5780322873967 … 45.429808167278 36.337560306397094; 40.271294508847944 37.93085178126392 … 46.3388292897332 36.64004705730058;;; 186.12071436325687 220.517750581234 … 36.29445003559248 30.906355503459455; 197.12394042988518 237.8050355776013 … 35.74956833797491 30.36874638682833; … ; 69.12419707360174 62.344881849848505 … 33.84503158112402 28.091331349774606; 64.87904456534723 52.14590886328922 … 34.89634395079443 28.539522081449537;;; 213.99905372386007 233.1231241485298 … 21.642217429242944 18.544594226472086; 227.62432047837996 238.01353688149769 … 21.728966786450975 18.45664261226694; … ; 90.93737284861517 88.2984573070163 … 69.42971201406738 55.20563537975246; 84.97770007437494 75.77313966568043 … 68.00868782229274 54.146139255466466;;; … ;;; 230.16444612880144 275.5141767431921 … 25.7744702204575 25.352517980444503; 253.27549533988707 283.76398168335515 … 25.60430350829713 24.948179809651965; … ; 129.76397510844117 142.37701483056588 … 63.44219798784819 58.40043463136293; 130.15252004218158 147.10771548875732 … 61.42434730038742 56.69701275671627;;; 278.8529160441844 245.099811163391 … 61.01170168192888 55.91897414198425; 287.4228846013773 246.97572347155727 … 58.85776137022478 54.76675543318627; … ; 72.51681039544401 66.12986605548954 … 70.33882134312763 59.81094089561622; 47.008491060880786 48.922838672256184 … 70.25490822148912 59.3328866427079;;; 385.0264158497986 318.47473490152333 … 6.299495653086653 1.7275085785943185; 436.074165296137 346.82096216369484 … 5.197849267974262 0.4391484509139482; … ; 97.58949167200626 52.03638073180983 … 80.37491682800969 102.8409452994274; 48.75121901417123 17.615207104903284 … 79.20750974533583 103.70493886651715])])"
      ]
     },
     "metadata": {},
     "output_type": "display_data"
    }
   ],
   "source": [
    "\n",
    "monthly_tl_data = filter_by_date(build_timeline_data(mon_mean_base_path, 10, \"ssp126\", \"ssp585\"; file_range_selection = :)) do time_element\n",
    "\n",
    "    for wm in winter_months\n",
    "        if month(time_element) == wm\n",
    "            return true\n",
    "        end\n",
    "    end\n",
    "    return false\n",
    "end"
   ]
  },
  {
   "cell_type": "code",
   "execution_count": 7,
   "metadata": {},
   "outputs": [
    {
     "data": {
      "text/plain": [
       "TimelineData(Union{Missing, AbstractFloat}[-90.0, -88.125, -86.25, -84.375, -82.5, -80.625, -78.75, -76.875, -75.0, -73.125  …  22.5, 24.375, 26.25, 28.125, 30.0, 31.875, 33.75, 35.625, 37.5, 39.375], Union{Missing, AbstractFloat}[21.450475037398185, 23.31573072614093, 25.180985581270594, 27.04623949994481, 28.91149236871774, 30.77674406172325, 32.64199443851768, 34.50724334150103, 36.37249059281224, 38.23773599056483  …  62.48557052203639, 64.35073040887207, 66.2158721139987, 68.08099098565125, 69.94608064698343, 71.81113211427447, 73.67613231320912, 75.54106145287895, 77.4058880820788, 79.27055903485967], Union{Missing, DateTime}[DateTime(\"2015-01-01T12:00:00\"), DateTime(\"2015-01-02T09:00:00\"), DateTime(\"2015-01-03T09:00:00\"), DateTime(\"2015-01-04T09:00:00\"), DateTime(\"2015-01-05T09:00:00\"), DateTime(\"2015-01-06T09:00:00\"), DateTime(\"2015-01-07T09:00:00\"), DateTime(\"2015-01-08T09:00:00\"), DateTime(\"2015-01-09T09:00:00\"), DateTime(\"2015-01-10T09:00:00\")  …  DateTime(\"2100-12-23T09:00:00\"), DateTime(\"2100-12-24T09:00:00\"), DateTime(\"2100-12-25T09:00:00\"), DateTime(\"2100-12-26T09:00:00\"), DateTime(\"2100-12-27T09:00:00\"), DateTime(\"2100-12-28T09:00:00\"), DateTime(\"2100-12-29T09:00:00\"), DateTime(\"2100-12-30T09:00:00\"), DateTime(\"2100-12-31T09:00:00\"), DateTime(\"2101-01-01T00:00:00\")], ScenarioData[ScenarioData(\"ssp126\", Union{Missing, AbstractFloat}[135.76753182825445 120.40978468186889 … 5.560489088173803 12.26071530502791; 156.22502454930998 132.61539193748743 … 5.817668338986213 12.220684181137367; … ; 43.7378778071699 108.4915537811436 … 9.037124958487036 7.975654216037562; 59.854458120904646 116.83379120701777 … 8.986140156821511 7.858457220095189;;; 129.03137146548397 92.78613295607519 … 7.400930297235965 10.791065336021713; 145.01787977552698 101.13895341026034 … 5.905993321776974 9.097721743476814; … ; 113.64622333682603 154.24437271902843 … 48.80349743858222 19.81648672021532; 100.84899358523899 148.07604259671913 … 48.54475470840026 19.50309155276142;;; 228.3942742774734 258.79422160765364 … 3.9758461278837203 3.776142031262588; 225.4981161195097 253.82061600185443 … 4.024398536462364 3.1163119414664386; … ; 127.47378578533163 82.13609839241353 … 77.4951904075062 62.541518350866724; 82.66778240045169 36.18604312925727 … 77.891988009154 61.468314449989826;;; … ;;; 351.41642324000395 393.6322324479382 … 3.147066931281001 3.1302617662656127; 388.172626201434 402.55116533169996 … 3.706974614350515 3.8696222781244454; … ; 50.753406573130036 53.45983590474147 … 45.1239855333841 21.832011758232838; 28.935511018920984 35.53858881363155 … 47.8008899012337 22.150353056152625;;; 195.3436441152296 189.66783394510827 … 3.776323629707312 2.2190512518644105; 234.7443897814891 234.75093914180258 … 3.6037001947576925 2.8599745990255343; … ; 62.140926782227965 83.82619619723806 … 68.35605822912036 35.44636461049018; 49.89516151830114 61.0831755299477 … 59.6927138202741 29.583182547623274;;; 215.07063355389826 98.05008821606967 … 2.2330716876241796 2.6927010274924834; 176.4055588967954 96.40320794263384 … 2.1918774930964435 3.5252433787449124; … ; 82.18143127926434 114.09535209807495 … 90.01042463298343 39.351751251481865; 80.01413814586543 87.43926735892929 … 78.7407396540763 33.124462268178206]), ScenarioData(\"ssp585\", Union{Missing, AbstractFloat}[135.71697254168404 120.42878690757293 … 5.576779796967094 12.255593464098752; 156.05117075576592 132.4334557044124 … 5.820730277789313 12.241089010310146; … ; 43.58428584421148 108.5058274182469 … 9.086662901817993 7.984927384406791; 59.54927587483115 116.76655985636421 … 9.021928605448425 7.867882044453451;;; 127.91407901194682 92.34753091102569 … 7.379609772014224 10.874204624769082; 146.02880371885422 100.42995352583506 … 5.872642774224398 9.191104677907841; … ; 114.43224102572557 154.37168998412312 … 48.41550666304754 19.455117223680283; 101.55921900629218 148.03589350793487 … 47.9184130967078 19.13023519260713;;; 231.1937107725504 260.79241127073453 … 3.9951511127710786 3.8033690629527515; 227.79447417858776 255.94242949278353 … 4.028195327809381 3.1298048146245794; … ; 127.26674427801234 81.73668199608417 … 77.26498079361845 62.09676246247883; 82.1986382508743 36.29190055325173 … 77.3918473072293 61.03722276593265;;; … ;;; 379.68579276397304 291.5331082434495 … 29.09086169956641 19.06822123710954; 393.466428818687 282.8187241030164 … 26.80135786417184 17.102145448885565; … ; 61.86477394397672 44.00198474302246 … 65.72745283038341 76.99206887408299; 39.599746622258486 24.064677202447342 … 64.4294719572753 73.96129933892574;;; 403.7648880855007 290.7698035318268 … 8.681526771585395 5.27791734254931; 423.3187129462893 322.3311348580097 … 8.114259518540347 4.033487718163187; … ; 60.33722169616665 39.40701091466268 … 70.02293345968363 101.65389085711482; 33.87151750217016 22.576791467636006 … 67.77575282117786 99.84779892292254;;; 385.0264158497986 318.47473490152333 … 6.299495653086653 1.7275085785943185; 436.074165296137 346.82096216369484 … 5.197849267974262 0.4391484509139482; … ; 97.58949167200626 52.03638073180983 … 80.37491682800969 102.8409452994274; 48.75121901417123 17.615207104903284 … 79.20750974533583 103.70493886651715])])"
      ]
     },
     "metadata": {},
     "output_type": "display_data"
    }
   ],
   "source": [
    "daily_tl_data = filter_by_date(build_timeline_data(day_mean_base_path, 10, \"ssp126\", \"ssp585\"; file_range_selection = :)) do time_element\n",
    "\n",
    "    for wm in winter_months\n",
    "        if month(time_element) == wm\n",
    "            return true\n",
    "        end\n",
    "    end\n",
    "    return false\n",
    "end"
   ]
  },
  {
   "cell_type": "code",
   "execution_count": 9,
   "metadata": {},
   "outputs": [],
   "source": [
    "# truth_data = filter_by_date(build_timeline_data(base_path, 10, \"ssp126\", \"ssp585\"; file_range_selection=1:2)) do timedata\n",
    "#     return year(timedata) >= 2015 && year(timedata) <= 2034\n",
    "# end"
   ]
  },
  {
   "cell_type": "code",
   "execution_count": 36,
   "metadata": {},
   "outputs": [],
   "source": [
    "compare_truth_with_tldata(truth_data, tl_data, \"mon_mean_comparison.mp4\"; framerate = 3, resolution = (2000, 1000), colormap = :managua)"
   ]
  },
  {
   "cell_type": "code",
   "execution_count": 8,
   "metadata": {},
   "outputs": [
    {
     "name": "stdout",
     "output_type": "stream",
     "text": [
      "Threads available: 8\n",
      "Handled scope 6398:8581 out of 69 on thread 4\n",
      "Handled scope 2153:4335 out of 69 on thread 7\n",
      "Handled scope 5428:7611 out of 69 on thread 6\n",
      "Handled scope 1061:3244 out of 69 on thread 1\n",
      "Handled scope 4336:6519 out of 69 on thread 8\n",
      "Handled scope 1:2152 out of 69 on thread 5\n",
      "Handled scope 7369:9551 out of 69 on thread 3\n",
      "Handled scope 3245:5427 out of 69 on thread 2\n",
      "Handled scope 2274:4456 out of 69 on thread 7\n",
      "Handled scope 6520:8702 out of 69 on thread 4\n",
      "Handled scope 1183:3365 out of 69 on thread 1\n",
      "Handled scope 91:2273 out of 69 on thread 5\n",
      "Handled scope 4457:6640 out of 69 on thread 8\n",
      "Handled scope 3366:5549 out of 69 on thread 2\n",
      "Handled scope 7491:9672 out of 69 on thread 3\n",
      "Handled scope 5550:7732 out of 69 on thread 6\n",
      "Handled scope 2395:4578 out of 69 on thread 7\n",
      "Handled scope 5671:7853 out of 69 on thread 6\n",
      "Handled scope 7612:9794 out of 69 on thread 3\n",
      "Handled scope 1304:3486 out of 69 on thread 1\n",
      "Handled scope 6641:8823 out of 69 on thread 4\n",
      "Handled scope 3487:5670 out of 69 on thread 2\n",
      "Handled scope 213:2394 out of 69 on thread 5\n",
      "Handled scope 4579:6761 out of 69 on thread 8\n",
      "Handled scope 2517:4699 out of 69 on thread 7\n",
      "Handled scope 1425:3608 out of 69 on thread 1\n",
      "Handled scope 7733:9916 out of 69 on thread 3\n",
      "Handled scope 5792:7975 out of 69 on thread 6\n",
      "Handled scope 334:2516 out of 69 on thread 5\n",
      "Handled scope 6762:8945 out of 69 on thread 4\n",
      "Handled scope 4700:6882 out of 69 on thread 8\n",
      "Handled scope 3609:5791 out of 69 on thread 2\n",
      "Handled scope 2639:4820 out of 69 on thread 7\n",
      "Handled scope 7854:10037 out of 69 on thread 3\n",
      "Handled scope 3730:5912 out of 69 on thread 2\n",
      "Handled scope 5913:8096 out of 69 on thread 6\n",
      "Handled scope 455:2638 out of 69 on thread 5\n",
      "Handled scope 1546:3729 out of 69 on thread 1\n",
      "Handled scope 6883:9066 out of 69 on thread 4\n",
      "Handled scope 4821:7004 out of 69 on thread 8\n",
      "Handled scope 2760:4942 out of 69 on thread 7\n",
      "Handled scope 6035:8217 out of 69 on thread 6\n",
      "Handled scope 3851:6034 out of 69 on thread 2\n",
      "Handled scope 7005:9187 out of 69 on thread 4\n",
      "Handled scope 576:2759 out of 69 on thread 5\n",
      "Handled scope 4943:7125 out of 69 on thread 8\n",
      "Handled scope 7976:10158 out of 69 on thread 3\n",
      "Handled scope 1668:3850 out of 69 on thread 1\n",
      "Handled scope 2881:5064 out of 69 on thread 7\n",
      "Handled scope 7126:9308 out of 69 on thread 4\n",
      "Handled scope 5065:7246 out of 69 on thread 8\n",
      "Handled scope 8097:10279 out of 69 on thread 3\n",
      "Handled scope 6156:8338 out of 69 on thread 6\n",
      "Handled scope 3972:6155 out of 69 on thread 2\n",
      "Handled scope 1789:3971 out of 69 on thread 1\n",
      "Handled scope 698:2880 out of 69 on thread 5\n",
      "Handled scope 3002:5185 out of 69 on thread 7\n",
      "Handled scope 819:3001 out of 69 on thread 5\n",
      "Handled scope 1910:4093 out of 69 on thread 1\n",
      "Handled scope 4094:6276 out of 69 on thread 2\n",
      "Handled scope 6277:8460 out of 69 on thread 6\n",
      "Handled scope 5186:7368 out of 69 on thread 8\n",
      "Handled scope 8218:10400 out of 69 on thread 3\n",
      "Handled scope 7247:9430 out of 69 on thread 4\n",
      "Handled scope 3124:5306 out of 69 on thread 7\n",
      "Handled scope 2031:4214 out of 69 on thread 1\n",
      "Handled scope 940:3123 out of 69 on thread 5\n",
      "Handled scope 4215:6397 out of 69 on thread 2\n",
      "Handled scope 5307:7490 out of 69 on thread 8\n",
      "Handled scope 2153:4335 out of 69 on thread 5\n",
      "Handled scope 1:2152 out of 69 on thread 2\n",
      "Handled scope 7369:9551 out of 69 on thread 6\n",
      "Handled scope 6398:8581 out of 69 on thread 1\n",
      "Handled scope 4336:6519 out of 69 on thread 8\n",
      "Handled scope 5428:7611 out of 69 on thread 7\n",
      "Handled scope 3245:5427 out of 69 on thread 4\n",
      "Handled scope 1061:3244 out of 69 on thread 3\n",
      "Handled scope 2274:4456 out of 69 on thread 5\n",
      "Handled scope 6520:8702 out of 69 on thread 1\n",
      "Handled scope 3366:5549 out of 69 on thread 4\n",
      "Handled scope 4457:6640 out of 69 on thread 8\n",
      "Handled scope 5550:7732 out of 69 on thread 7\n",
      "Handled scope 91:2273 out of 69 on thread 2\n",
      "Handled scope 7491:9672 out of 69 on thread 6\n",
      "Handled scope 1183:3365 out of 69 on thread 3\n",
      "Handled scope 2395:4578 out of 69 on thread 5\n",
      "Handled scope 4579:6761 out of 69 on thread 8\n",
      "Handled scope 6641:8823 out of 69 on thread 1\n",
      "Handled scope 1304:3486 out of 69 on thread 3\n",
      "Handled scope 3487:5670 out of 69 on thread 4\n",
      "Handled scope 7612:9794 out of 69 on thread 6\n",
      "Handled scope 5671:7853 out of 69 on thread 7\n",
      "Handled scope 213:2394 out of 69 on thread 2\n",
      "Handled scope 2517:4699 out of 69 on thread 5\n",
      "Handled scope 6762:8945 out of 69 on thread 1\n",
      "Handled scope 1425:3608 out of 69 on thread 3\n",
      "Handled scope 5792:7975 out of 69 on thread 7\n",
      "Handled scope 4700:6882 out of 69 on thread 8\n",
      "Handled scope 7733:9916 out of 69 on thread 6\n",
      "Handled scope 3609:5791 out of 69 on thread 4\n",
      "Handled scope 2639:4820 out of 69 on thread 5\n",
      "Handled scope 334:2516 out of 69 on thread 2\n",
      "Handled scope 6883:9066 out of 69 on thread 1\n",
      "Handled scope 5913:8096 out of 69 on thread 7\n",
      "Handled scope 7854:10037 out of 69 on thread 6\n",
      "Handled scope 4821:7004 out of 69 on thread 8\n",
      "Handled scope 1546:3729 out of 69 on thread 3\n",
      "Handled scope 3730:5912 out of 69 on thread 4\n",
      "Handled scope 455:2638 out of 69 on thread 2\n",
      "Handled scope 2760:4942 out of 69 on thread 5\n",
      "Handled scope 7005:9187 out of 69 on thread 1\n",
      "Handled scope 1668:3850 out of 69 on thread 3\n",
      "Handled scope 7976:10158 out of 69 on thread 6\n",
      "Handled scope 3851:6034 out of 69 on thread 4\n",
      "Handled scope 4943:7125 out of 69 on thread 8\n",
      "Handled scope 6035:8217 out of 69 on thread 7\n",
      "Handled scope 2881:5064 out of 69 on thread 5\n",
      "Handled scope 576:2759 out of 69 on thread 2\n",
      "Handled scope 3972:6155 out of 69 on thread 4\n",
      "Handled scope 6156:8338 out of 69 on thread 7\n",
      "Handled scope 8097:10279 out of 69 on thread 6\n",
      "Handled scope 5065:7246 out of 69 on thread 8\n",
      "Handled scope 1789:3971 out of 69 on thread 3\n",
      "Handled scope 7126:9308 out of 69 on thread 1\n",
      "Handled scope 3002:5185 out of 69 on thread 5\n",
      "Handled scope 698:2880 out of 69 on thread 2\n",
      "Handled scope 1910:4093 out of 69 on thread 3\n",
      "Handled scope 6277:8460 out of 69 on thread 7\n",
      "Handled scope 7247:9430 out of 69 on thread 1\n",
      "Handled scope 4094:6276 out of 69 on thread 4\n",
      "Handled scope 8218:10400 out of 69 on thread 6\n",
      "Handled scope 5186:7368 out of 69 on thread 8\n",
      "Handled scope 819:3001 out of 69 on thread 2\n",
      "Handled scope 3124:5306 out of 69 on thread 5\n",
      "Handled scope 4215:6397 out of 69 on thread 4\n",
      "Handled scope 5307:7490 out of 69 on thread 8\n",
      "Handled scope 2031:4214 out of 69 on thread 3\n",
      "Handled scope 940:3123 out of 69 on thread 2\n"
     ]
    }
   ],
   "source": [
    "show_eof_modes_of_timeline(daily_tl_data, 4, 18, \"eof_modes_daily_18seasons_aligned.mp4\"; colormap = :broc, framerate = 2, resolution = (2000, 1100), eof_center = true, whole_figure_title = \"Leading EOF Modes of Daily Averages of IVT (18 Winter Period) Aligned\")"
   ]
  }
 ],
 "metadata": {
  "kernelspec": {
   "display_name": "Julia 1.10.2",
   "language": "julia",
   "name": "julia-1.10"
  },
  "language_info": {
   "file_extension": ".jl",
   "mimetype": "application/julia",
   "name": "julia",
   "version": "1.10.2"
  }
 },
 "nbformat": 4,
 "nbformat_minor": 2
}

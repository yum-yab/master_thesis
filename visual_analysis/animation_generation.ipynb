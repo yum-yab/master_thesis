{
 "cells": [
  {
   "cell_type": "code",
   "execution_count": 1,
   "metadata": {},
   "outputs": [
    {
     "name": "stderr",
     "output_type": "stream",
     "text": [
      "\u001b[32m\u001b[1m  Activating\u001b[22m\u001b[39m project at `~/Documents/Uni/Master/MA/visual_analysis`\n"
     ]
    }
   ],
   "source": [
    "using Pkg\n",
    "\n",
    "Pkg.activate(\".\")"
   ]
  },
  {
   "cell_type": "code",
   "execution_count": 23,
   "metadata": {},
   "outputs": [
    {
     "data": {
      "text/plain": [
       "show_eof_and_pc_modes_of_timeline (generic function with 1 method)"
      ]
     },
     "metadata": {},
     "output_type": "display_data"
    }
   ],
   "source": [
    "include(\"utils.jl\")\n",
    "include(\"visual_utils.jl\")"
   ]
  },
  {
   "cell_type": "code",
   "execution_count": 3,
   "metadata": {},
   "outputs": [],
   "source": [
    "using GLMakie\n",
    "using GeoMakie\n",
    "using EmpiricalOrthogonalFunctions\n",
    "using NCDatasets \n",
    "using Dates\n",
    "using BenchmarkTools\n",
    "using Statistics"
   ]
  },
  {
   "cell_type": "code",
   "execution_count": 5,
   "metadata": {},
   "outputs": [
    {
     "data": {
      "text/plain": [
       "\"/home/denis/workspace/data/ps_data_monthly\""
      ]
     },
     "metadata": {},
     "output_type": "display_data"
    }
   ],
   "source": [
    "mon_mean_base_path = \"/home/denis/workspace/data/ivt_monthly_mean\"\n",
    "day_mean_base_path = \"/home/denis/workspace/data/ivt_daily_mean\"\n",
    "ps_data_monthly = \"/home/denis/workspace/data/ps_data_monthly\""
   ]
  },
  {
   "cell_type": "code",
   "execution_count": 5,
   "metadata": {},
   "outputs": [
    {
     "data": {
      "text/plain": [
       "\"/mnt/bigdrive/Datasets/ps_data_monthly_mean\""
      ]
     },
     "metadata": {},
     "output_type": "display_data"
    }
   ],
   "source": [
    "# mon_mean_base_path = \"/mnt/bigdrive/Datasets/ivt_monthly_mean\"\n",
    "# day_mean_base_path = \"/mnt/bigdrive/Datasets/ivt_daily_mean\"\n",
    "# full_dataset_path = \"/mnt/bigdrive/Datasets/ivt_fields_v1\"\n",
    "# ps_data_path = \"/mnt/bigdrive/Datasets/ps_data\"\n",
    "# ps_data_monthly = \"/mnt/bigdrive/Datasets/ps_data_monthly_mean\""
   ]
  },
  {
   "cell_type": "code",
   "execution_count": 6,
   "metadata": {},
   "outputs": [],
   "source": [
    "# monthly_tl_data = filter_by_date(build_timeline_data(mon_mean_base_path, 10, \"ssp126\", \"ssp585\"; file_range_selection=:)) do timedata\n",
    "#     return year(timedata) >= 2081 && year(timedata) <= 2100  \n",
    "# end"
   ]
  },
  {
   "cell_type": "code",
   "execution_count": 6,
   "metadata": {},
   "outputs": [
    {
     "data": {
      "text/plain": [
       "4-element Vector{Int64}:\n",
       " 12\n",
       "  1\n",
       "  2\n",
       "  3"
      ]
     },
     "metadata": {},
     "output_type": "display_data"
    }
   ],
   "source": [
    "winter_months = [12, 1, 2, 3]"
   ]
  },
  {
   "cell_type": "code",
   "execution_count": 9,
   "metadata": {},
   "outputs": [
    {
     "data": {
      "text/plain": [
       "TimelineData(Union{Missing, AbstractFloat}[-90.0, -88.125, -86.25, -84.375, -82.5, -80.625, -78.75, -76.875, -75.0, -73.125  …  22.5, 24.375, 26.25, 28.125, 30.0, 31.875, 33.75, 35.625, 37.5, 39.375], Union{Missing, AbstractFloat}[21.450475037398185, 23.31573072614093, 25.180985581270594, 27.04623949994481, 28.91149236871774, 30.77674406172325, 32.64199443851768, 34.50724334150103, 36.37249059281224, 38.23773599056483  …  62.48557052203639, 64.35073040887207, 66.2158721139987, 68.08099098565125, 69.94608064698343, 71.81113211427447, 73.67613231320912, 75.54106145287895, 77.4058880820788, 79.27055903485967], Union{Missing, DateTime}[DateTime(\"2015-01-16T12:00:00\"), DateTime(\"2015-02-14T21:00:00\"), DateTime(\"2015-03-16T09:00:00\"), DateTime(\"2015-12-16T09:00:00\"), DateTime(\"2016-01-16T09:00:00\"), DateTime(\"2016-02-15T09:00:00\"), DateTime(\"2016-03-16T09:00:00\"), DateTime(\"2016-12-16T09:00:00\"), DateTime(\"2017-01-16T09:00:00\"), DateTime(\"2017-02-14T21:00:00\")  …  DateTime(\"2098-12-16T09:00:00\"), DateTime(\"2099-01-16T09:00:00\"), DateTime(\"2099-02-14T21:00:00\"), DateTime(\"2099-03-16T09:00:00\"), DateTime(\"2099-12-16T09:00:00\"), DateTime(\"2100-01-16T09:00:00\"), DateTime(\"2100-02-14T21:00:00\"), DateTime(\"2100-03-16T09:00:00\"), DateTime(\"2100-12-16T09:00:00\"), DateTime(\"2101-01-01T00:00:00\")], ScenarioData[ScenarioData(\"ssp126\", Union{Missing, AbstractFloat}[101497.4765625 101754.796875 … 98264.0 96370.1328125; 101891.09375 102325.203125 … 97746.640625 95789.0859375; … ; 100166.296875 101547.53125 … 101963.8046875 101320.3203125; 98151.015625 96573.71875 … 102228.6484375 101527.03125;;; 101507.2109375 101786.734375 … 98011.4609375 96048.234375; 101914.2265625 102367.5078125 … 97449.4609375 95430.484375; … ; 100033.828125 101394.875 … 100453.5546875 99920.265625; 98009.1640625 96431.8671875 … 100720.8984375 100126.8984375;;; 101137.4609375 101383.2109375 … 99010.3203125 97081.234375; 101591.078125 102004.0703125 … 98461.9921875 96468.171875; … ; 99683.0546875 101026.0 … 102769.4375 102383.3359375; 97671.015625 96091.5390625 … 103076.9140625 102620.7265625;;; … ;;; 101080.609375 101287.6484375 … 98922.3515625 97083.953125; 101521.8984375 101889.4296875 … 98406.328125 96502.6796875; … ; 99622.8046875 100965.90625 … 101854.4296875 101373.4375; 97660.8046875 96105.703125 … 102116.4453125 101570.7578125;;; 101313.9765625 101570.3984375 … 97591.4453125 95801.4453125; 101729.984375 102164.3671875 … 97082.578125 95231.4140625; … ; 100049.0390625 101430.6953125 … 101496.671875 100918.9921875; 98046.078125 96474.9140625 … 101803.1796875 101151.2265625;;; 101306.515625 101733.515625 … 98096.515625 96134.515625; 101723.515625 102227.515625 … 97544.515625 95513.515625; … ; 100102.515625 101437.515625 … 100601.515625 100693.515625; 98085.515625 96463.515625 … 101041.515625 101038.515625]), ScenarioData(\"ssp585\", Union{Missing, AbstractFloat}[101606.5703125 101856.9296875 … 98360.0078125 96404.5234375; 101972.8203125 102399.1875 … 97811.921875 95798.2578125; … ; 100219.65625 101602.078125 … 101338.6015625 100895.6796875; 98225.3515625 96662.0625 … 101599.3359375 101100.28125;;; 100997.7265625 101229.4453125 … 98621.625 96783.953125; 101445.2265625 101835.96875 … 98104.4140625 96206.2421875; … ; 99824.8359375 101169.7734375 … 102161.5859375 101566.3125; 97843.8046875 96263.2265625 … 102424.625 101778.9296875;;; 101185.234375 101420.8671875 … 97325.4453125 95383.7421875; 101635.46875 102044.546875 … 96807.2109375 94807.8515625; … ; 99623.5078125 100941.6484375 … 101456.046875 100747.3203125; 97646.2734375 96063.015625 … 101758.5 100986.5234375;;; … ;;; 100915.3828125 101158.6875 … 98697.703125 96874.234375; 101392.625 101791.3046875 … 98191.1484375 96305.3125; … ; 99527.0 100842.2421875 … 102093.96875 101422.15625; 97581.4140625 96041.03125 … 102377.015625 101650.59375;;; 101402.7109375 101695.7734375 … 96602.59375 94740.046875; 101802.4140625 102265.09375 … 96173.828125 94248.125; … ; 99940.3515625 101291.25 … 100153.9375 99493.2109375; 98008.6875 96482.1171875 … 100383.109375 99675.8671875;;; 101518.8125 101879.8125 … 95522.8125 93723.8125; 101912.8125 102438.8125 … 95079.8125 93187.8125; … ; 99839.8125 101246.8125 … 101602.8125 100502.8125; 97953.8125 96506.8125 … 101904.8125 100744.8125])])"
      ]
     },
     "metadata": {},
     "output_type": "display_data"
    }
   ],
   "source": [
    "ps_data = filter_by_date(build_timeline_data(ps_data_monthly, 10, \"ssp126\", \"ssp585\"; file_range_selection = :, data_field_id=\"ps\")) do time_element\n",
    "\n",
    "    for wm in winter_months\n",
    "        if month(time_element) == wm\n",
    "            return true\n",
    "        end\n",
    "    end\n",
    "    return false\n",
    "end"
   ]
  },
  {
   "cell_type": "code",
   "execution_count": 10,
   "metadata": {},
   "outputs": [
    {
     "data": {
      "text/plain": [
       "TimelineData(Union{Missing, AbstractFloat}[-90.0, -88.125, -86.25, -84.375, -82.5, -80.625, -78.75, -76.875, -75.0, -73.125  …  22.5, 24.375, 26.25, 28.125, 30.0, 31.875, 33.75, 35.625, 37.5, 39.375], Union{Missing, AbstractFloat}[21.450475037398185, 23.31573072614093, 25.180985581270594, 27.04623949994481, 28.91149236871774, 30.77674406172325, 32.64199443851768, 34.50724334150103, 36.37249059281224, 38.23773599056483  …  62.48557052203639, 64.35073040887207, 66.2158721139987, 68.08099098565125, 69.94608064698343, 71.81113211427447, 73.67613231320912, 75.54106145287895, 77.4058880820788, 79.27055903485967], Union{Missing, DateTime}[DateTime(\"2015-01-16T12:00:00\"), DateTime(\"2015-02-14T21:00:00\"), DateTime(\"2015-03-16T09:00:00\"), DateTime(\"2015-12-16T09:00:00\"), DateTime(\"2016-01-16T09:00:00\"), DateTime(\"2016-02-15T09:00:00\"), DateTime(\"2016-03-16T09:00:00\"), DateTime(\"2016-12-16T09:00:00\"), DateTime(\"2017-01-16T09:00:00\"), DateTime(\"2017-02-14T21:00:00\")  …  DateTime(\"2098-12-16T09:00:00\"), DateTime(\"2099-01-16T09:00:00\"), DateTime(\"2099-02-14T21:00:00\"), DateTime(\"2099-03-16T09:00:00\"), DateTime(\"2099-12-16T09:00:00\"), DateTime(\"2100-01-16T09:00:00\"), DateTime(\"2100-02-14T21:00:00\"), DateTime(\"2100-03-16T09:00:00\"), DateTime(\"2100-12-16T09:00:00\"), DateTime(\"2101-01-01T00:00:00\")], ScenarioData[ScenarioData(\"ssp126\", Union{Missing, AbstractFloat}[183.74911573707828 163.21905060943445 … 14.357007090955785 13.453895564649764; 196.92414726424704 181.3847107513107 … 15.008165757745328 13.993438468617788; … ; 79.9166815528064 75.92575745359655 … 36.61887185708259 29.943024898182497; 68.13365299667942 62.74720943730691 … 36.51216143455265 29.57740970268891;;; 196.3224123962182 199.04197167438565 … 16.8037437278927 16.248319815568454; 220.6916197805289 213.00221078040872 … 16.594524771756348 16.01004716331677; … ; 61.35503512547841 48.88013434250992 … 36.9428334451273 31.533575187831303; 58.76755070351866 39.44317171686516 … 36.48976519171424 30.969227110057833;;; 219.89113187696836 235.77583967258647 … 10.83725237095948 9.29953594597384; 244.69226011145548 253.91881302653726 … 10.479882176136048 9.198975156868961; … ; 87.48805494221098 79.27944338220125 … 26.684227803024065 19.260841657425107; 91.13677296112209 72.57882917153452 … 27.446686708583098 19.741859696954844;;; … ;;; 189.05060537035567 217.5556041992656 … 29.159340110597938 27.83436919734367; 204.7024752351035 239.0903195802368 … 28.21577497977821 27.079831281782443; … ; 91.08614166966098 90.88812051187038 … 27.777964430086055 20.88636621387547; 87.93279981566062 86.21750276312395 … 26.51289311339022 20.20082268514008;;; 263.4268358633991 255.36685427891723 … 19.34003249779506 18.445371061990322; 265.15348997357677 255.35787030547286 … 19.635268999324765 18.646267070495732; … ; 82.42787982440528 75.75708643965189 … 58.86920619231526 45.89552740762239; 69.45117204230155 68.15010070718897 … 59.24832572447663 45.80550630981257;;; 215.07063355389826 98.05008821606967 … 2.2330716876241796 2.6927010274924834; 176.4055588967954 96.40320794263384 … 2.1918774930964435 3.5252433787449124; … ; 82.18143127926434 114.09535209807495 … 90.01042463298343 39.351751251481865; 80.01413814586543 87.43926735892929 … 78.7407396540763 33.124462268178206]), ScenarioData(\"ssp585\", Union{Missing, AbstractFloat}[145.81860360664533 143.29926825641684 … 16.153853331783818 15.396717455432569; 163.22817209377732 162.0302859034323 … 15.561526354076337 14.989563519986008; … ; 57.607257080551356 50.5780322873967 … 45.429808167278 36.337560306397094; 40.271294508847944 37.93085178126392 … 46.3388292897332 36.64004705730058;;; 186.12071436325687 220.517750581234 … 36.29445003559248 30.906355503459455; 197.12394042988518 237.8050355776013 … 35.74956833797491 30.36874638682833; … ; 69.12419707360174 62.344881849848505 … 33.84503158112402 28.091331349774606; 64.87904456534723 52.14590886328922 … 34.89634395079443 28.539522081449537;;; 213.99905372386007 233.1231241485298 … 21.642217429242944 18.544594226472086; 227.62432047837996 238.01353688149769 … 21.728966786450975 18.45664261226694; … ; 90.93737284861517 88.2984573070163 … 69.42971201406738 55.20563537975246; 84.97770007437494 75.77313966568043 … 68.00868782229274 54.146139255466466;;; … ;;; 230.16444612880144 275.5141767431921 … 25.7744702204575 25.352517980444503; 253.27549533988707 283.76398168335515 … 25.60430350829713 24.948179809651965; … ; 129.76397510844117 142.37701483056588 … 63.44219798784819 58.40043463136293; 130.15252004218158 147.10771548875732 … 61.42434730038742 56.69701275671627;;; 278.8529160441844 245.099811163391 … 61.01170168192888 55.91897414198425; 287.4228846013773 246.97572347155727 … 58.85776137022478 54.76675543318627; … ; 72.51681039544401 66.12986605548954 … 70.33882134312763 59.81094089561622; 47.008491060880786 48.922838672256184 … 70.25490822148912 59.3328866427079;;; 385.0264158497986 318.47473490152333 … 6.299495653086653 1.7275085785943185; 436.074165296137 346.82096216369484 … 5.197849267974262 0.4391484509139482; … ; 97.58949167200626 52.03638073180983 … 80.37491682800969 102.8409452994274; 48.75121901417123 17.615207104903284 … 79.20750974533583 103.70493886651715])])"
      ]
     },
     "metadata": {},
     "output_type": "display_data"
    }
   ],
   "source": [
    "\n",
    "monthly_tl_data = filter_by_date(build_timeline_data(mon_mean_base_path, 10, \"ssp126\", \"ssp585\"; file_range_selection = :)) do time_element\n",
    "\n",
    "    for wm in winter_months\n",
    "        if month(time_element) == wm\n",
    "            return true\n",
    "        end\n",
    "    end\n",
    "    return false\n",
    "end"
   ]
  },
  {
   "cell_type": "code",
   "execution_count": 49,
   "metadata": {},
   "outputs": [
    {
     "data": {
      "text/plain": [
       "TimelineData(Union{Missing, AbstractFloat}[-90.0, -88.125, -86.25, -84.375, -82.5, -80.625, -78.75, -76.875, -75.0, -73.125  …  22.5, 24.375, 26.25, 28.125, 30.0, 31.875, 33.75, 35.625, 37.5, 39.375], Union{Missing, AbstractFloat}[21.450475037398185, 23.31573072614093, 25.180985581270594, 27.04623949994481, 28.91149236871774, 30.77674406172325, 32.64199443851768, 34.50724334150103, 36.37249059281224, 38.23773599056483  …  62.48557052203639, 64.35073040887207, 66.2158721139987, 68.08099098565125, 69.94608064698343, 71.81113211427447, 73.67613231320912, 75.54106145287895, 77.4058880820788, 79.27055903485967], Union{Missing, DateTime}[DateTime(\"2015-01-01T12:00:00\"), DateTime(\"2015-01-02T09:00:00\"), DateTime(\"2015-01-03T09:00:00\"), DateTime(\"2015-01-04T09:00:00\"), DateTime(\"2015-01-05T09:00:00\"), DateTime(\"2015-01-06T09:00:00\"), DateTime(\"2015-01-07T09:00:00\"), DateTime(\"2015-01-08T09:00:00\"), DateTime(\"2015-01-09T09:00:00\"), DateTime(\"2015-01-10T09:00:00\")  …  DateTime(\"2100-12-23T09:00:00\"), DateTime(\"2100-12-24T09:00:00\"), DateTime(\"2100-12-25T09:00:00\"), DateTime(\"2100-12-26T09:00:00\"), DateTime(\"2100-12-27T09:00:00\"), DateTime(\"2100-12-28T09:00:00\"), DateTime(\"2100-12-29T09:00:00\"), DateTime(\"2100-12-30T09:00:00\"), DateTime(\"2100-12-31T09:00:00\"), DateTime(\"2101-01-01T00:00:00\")], ScenarioData[ScenarioData(\"ssp126\", Union{Missing, AbstractFloat}[161.91311352439013 208.13585236207294 … 23.68281877189167 26.74537540707487; 182.0941893655805 203.39613305239672 … 22.06967568439332 27.306032817303535; … ; 29.194316956878126 19.771703358723343 … 93.6450529618747 24.135590483085448; 12.999905625916236 9.135387962351642 … 81.40524800508196 19.987563829683527;;; 134.00119928223418 114.74268658949727 … 26.6435436755095 26.18012688931745; 229.0299056982271 191.68936679455857 … 23.829762150419853 25.74810282843406; … ; 27.719621244542722 20.449392436271754 … 96.36779808050014 32.891278956764054; 12.584559655916154 8.80033639972953 … 89.05613469575893 29.156372943878576;;; 72.61606047263872 37.28309985862498 … 20.636700054779393 13.292131619138342; 108.0493927632954 59.751775843144024 … 21.659804764359574 15.01127230926884; … ; 32.86290262715845 27.604443360762705 … 17.265190695814745 12.354303072819482; 17.675703722884816 18.43266999520018 … 16.34435283213851 12.290043891231177;;; … ;;; 337.2863065408975 416.83100758773776 … 36.121122486299285 39.52909448617054; 379.7825364552542 437.28480919078584 … 36.630016300780056 37.323554587635954; … ; 40.01330110315101 56.25990222325075 … 61.60463621025127 47.87545630987874; 25.35072662746159 29.36514618173107 … 60.54329607360391 48.07079377630294;;; 226.63969649324304 260.3702453294005 … 25.35305898589062 13.793090267135538; 206.8267958270279 272.0552416698843 … 25.10051079924159 13.024617736096117; … ; 126.85093143385492 111.98626092271003 … 43.26744795629455 38.80470915792683; 98.47341924714075 74.22613302147603 … 44.40983473551362 39.122490404876395;;; 207.07871704991132 219.87071643960977 … 8.702123600427699 3.752024774758155; 226.6749219234321 242.67414970906947 … 9.4305062682575 3.941516785831257; … ; 110.41627203917707 63.78999225759675 … 35.81989291170195 33.286533472515856; 57.9379571789149 29.406416810048633 … 35.52919190173966 33.00211460572687]), ScenarioData(\"ssp585\", Union{Missing, AbstractFloat}[162.89627091112837 207.41854244677086 … 23.669899104302605 26.72622312157165; 183.43515649939604 204.034558981608 … 22.0588866475378 27.2792443107079; … ; 29.105543245027302 19.760178320240772 … 93.68963222972752 24.16262835095201; 13.011207159893964 9.1314062214511 … 81.47105969664041 20.062867404492778;;; 135.44744352619202 116.06644016368533 … 26.53261953748838 26.009649931314303; 228.6313165641734 190.3041320273898 … 23.68319152325072 25.559857839899614; … ; 27.75588355605884 20.455579396431233 … 96.22111632413838 32.921185480683484; 12.566051337332887 8.760687767571456 … 88.80968540893703 29.12896145070919;;; 74.7058866096152 37.65281269774904 … 20.532051468806735 13.241979839301223; 109.83280890686267 59.38824843879839 … 21.389741898717773 14.82823444687982; … ; 32.27907261514558 27.274445977525524 … 17.23100520252064 12.449475444532508; 17.3941373199339 18.30162291187226 … 16.332675084900863 12.36435128590989;;; … ;;; 179.49634300662206 174.08321646973053 … 6.059716551605691 3.240588047813692; 200.93196006643498 206.30942211645703 … 5.660311374993531 4.277101303628758; … ; 92.69954872129117 119.43167058727427 … 39.36931138858003 58.0865744898844; 88.11354258113047 144.60316039563452 … 44.62732858224195 62.00648556119951;;; 106.90491733227535 101.2776104070853 … 9.889051011067522 5.949594460895377; 134.53586902511168 139.29274517689953 … 8.124680275445193 4.650881951185738; … ; 56.86023406427403 65.04085127844282 … 42.00556156437415 36.431395415710206; 67.80993596456342 57.028549866725704 … 41.47191941053461 49.55681089284037;;; 105.89336076651334 98.55105149824347 … 11.299009119800296 11.557276311894933; 120.36208143403611 121.06190627543481 … 12.29971869550457 11.647920240805725; … ; 53.875427423012496 60.20225955670081 … 44.52223244693397 32.64840640322025; 45.2119309734363 26.848266954672305 … 18.83719133082565 31.516019166796642])])"
      ]
     },
     "metadata": {},
     "output_type": "display_data"
    }
   ],
   "source": [
    "daily_tl_data = filter_by_date(build_timeline_data(day_mean_base_path, 20, \"ssp126\", \"ssp585\"; file_range_selection = :)) do time_element\n",
    "\n",
    "    for wm in winter_months\n",
    "        if month(time_element) == wm\n",
    "            return true\n",
    "        end\n",
    "    end\n",
    "    return false\n",
    "end"
   ]
  },
  {
   "cell_type": "code",
   "execution_count": null,
   "metadata": {},
   "outputs": [],
   "source": [
    "# truth_data = filter_by_date(build_timeline_data(base_path, 10, \"ssp126\", \"ssp585\"; file_range_selection=1:2)) do timedata\n",
    "#     return year(timedata) >= 2015 && year(timedata) <= 2034\n",
    "# end"
   ]
  },
  {
   "cell_type": "code",
   "execution_count": null,
   "metadata": {},
   "outputs": [],
   "source": [
    "compare_truth_with_tldata(truth_data, tl_data, \"mon_mean_comparison.mp4\"; framerate = 3, resolution = (2000, 1000), colormap = :managua)"
   ]
  },
  {
   "cell_type": "code",
   "execution_count": 54,
   "metadata": {},
   "outputs": [
    {
     "data": {
      "text/plain": [
       "57-element Vector{UnitRange{Int64}}:\n",
       " 1:120\n",
       " 4:124\n",
       " 8:128\n",
       " 12:132\n",
       " 16:136\n",
       " 20:140\n",
       " 24:144\n",
       " 28:148\n",
       " 32:152\n",
       " 36:156\n",
       " ⋮\n",
       " 194:314\n",
       " 198:318\n",
       " 202:322\n",
       " 206:327\n",
       " 210:331\n",
       " 214:335\n",
       " 218:339\n",
       " 222:343\n",
       " 226:347"
      ]
     },
     "metadata": {},
     "output_type": "display_data"
    }
   ],
   "source": [
    "scopes_30_seasons = get_sliding_time_scopes_by_threshold(monthly_tl_data.time, 30)"
   ]
  },
  {
   "cell_type": "code",
   "execution_count": 11,
   "metadata": {},
   "outputs": [
    {
     "data": {
      "text/plain": [
       "37-element Vector{UnitRange{Int64}}:\n",
       " 1:201\n",
       " 4:205\n",
       " 8:209\n",
       " 12:213\n",
       " 16:217\n",
       " 20:221\n",
       " 24:225\n",
       " 28:229\n",
       " 32:233\n",
       " 36:237\n",
       " ⋮\n",
       " 113:314\n",
       " 117:318\n",
       " 121:322\n",
       " 125:327\n",
       " 129:331\n",
       " 133:335\n",
       " 137:339\n",
       " 141:343\n",
       " 145:347"
      ]
     },
     "metadata": {},
     "output_type": "display_data"
    }
   ],
   "source": [
    "scopes_50_seasons = get_sliding_time_scopes_by_threshold(monthly_tl_data.time, 50)"
   ]
  },
  {
   "cell_type": "code",
   "execution_count": 12,
   "metadata": {},
   "outputs": [
    {
     "name": "stdout",
     "output_type": "stream",
     "text": [
      "Handled scope 1:201 out of 37 on thread 1\n",
      "Handled scope 4:205 out of 37 on thread 1\n",
      "Handled scope 8:209 out of 37 on thread 1\n",
      "Handled scope 12:213 out of 37 on thread 1\n",
      "Handled scope 16:217 out of 37 on thread 1\n",
      "Handled scope 20:221 out of 37 on thread 1\n",
      "Handled scope 24:225 out of 37 on thread 1\n",
      "Handled scope 28:229 out of 37 on thread 1\n",
      "Handled scope 32:233 out of 37 on thread 1\n",
      "Handled scope 36:237 out of 37 on thread 1\n",
      "Handled scope 40:241 out of 37 on thread 1\n",
      "Handled scope 44:246 out of 37 on thread 1\n",
      "Handled scope 48:250 out of 37 on thread 1\n",
      "Handled scope 52:254 out of 37 on thread 1\n",
      "Handled scope 56:258 out of 37 on thread 1\n",
      "Handled scope 60:262 out of 37 on thread 1\n",
      "Handled scope 64:266 out of 37 on thread 1\n",
      "Handled scope 68:270 out of 37 on thread 1\n",
      "Handled scope 72:274 out of 37 on thread 1\n",
      "Handled scope 76:278 out of 37 on thread 1\n",
      "Handled scope 80:282 out of 37 on thread 1\n",
      "Handled scope 85:286 out of 37 on thread 1\n",
      "Handled scope 89:290 out of 37 on thread 1\n",
      "Handled scope 93:294 out of 37 on thread 1\n",
      "Handled scope 97:298 out of 37 on thread 1\n",
      "Handled scope 101:302 out of 37 on thread 1\n",
      "Handled scope 105:306 out of 37 on thread 1\n",
      "Handled scope 109:310 out of 37 on thread 1\n",
      "Handled scope 113:314 out of 37 on thread 1\n",
      "Handled scope 117:318 out of 37 on thread 1\n",
      "Handled scope 121:322 out of 37 on thread 1\n",
      "Handled scope 125:327 out of 37 on thread 1\n",
      "Handled scope 129:331 out of 37 on thread 1\n",
      "Handled scope 133:335 out of 37 on thread 1\n",
      "Handled scope 137:339 out of 37 on thread 1\n",
      "Handled scope 141:343 out of 37 on thread 1\n",
      "Handled scope 145:347 out of 37 on thread 1\n",
      "Handled scope 1:201 out of 37 on thread 1\n",
      "Handled scope 4:205 out of 37 on thread 1\n",
      "Handled scope 8:209 out of 37 on thread 1\n",
      "Handled scope 12:213 out of 37 on thread 1\n",
      "Handled scope 16:217 out of 37 on thread 1\n",
      "Handled scope 20:221 out of 37 on thread 1\n",
      "Handled scope 24:225 out of 37 on thread 1\n",
      "Handled scope 28:229 out of 37 on thread 1\n",
      "Handled scope 32:233 out of 37 on thread 1\n",
      "Handled scope 36:237 out of 37 on thread 1\n",
      "Handled scope 40:241 out of 37 on thread 1\n",
      "Handled scope 44:246 out of 37 on thread 1\n",
      "Handled scope 48:250 out of 37 on thread 1\n",
      "Handled scope 52:254 out of 37 on thread 1\n",
      "Handled scope 56:258 out of 37 on thread 1\n",
      "Handled scope 60:262 out of 37 on thread 1\n",
      "Handled scope 64:266 out of 37 on thread 1\n",
      "Handled scope 68:270 out of 37 on thread 1\n",
      "Handled scope 72:274 out of 37 on thread 1\n",
      "Handled scope 76:278 out of 37 on thread 1\n",
      "Handled scope 80:282 out of 37 on thread 1\n",
      "Handled scope 85:286 out of 37 on thread 1\n",
      "Handled scope 89:290 out of 37 on thread 1\n",
      "Handled scope 93:294 out of 37 on thread 1\n",
      "Handled scope 97:298 out of 37 on thread 1\n",
      "Handled scope 101:302 out of 37 on thread 1\n",
      "Handled scope 105:306 out of 37 on thread 1\n",
      "Handled scope 109:310 out of 37 on thread 1\n",
      "Handled scope 113:314 out of 37 on thread 1\n",
      "Handled scope 117:318 out of 37 on thread 1\n",
      "Handled scope 121:322 out of 37 on thread 1\n",
      "Handled scope 125:327 out of 37 on thread 1\n",
      "Handled scope 129:331 out of 37 on thread 1\n",
      "Handled scope 133:335 out of 37 on thread 1\n",
      "Handled scope 137:339 out of 37 on thread 1\n",
      "Handled scope 141:343 out of 37 on thread 1\n",
      "Handled scope 145:347 out of 37 on thread 1\n"
     ]
    },
    {
     "data": {
      "text/plain": [
       "Dict{String, Vector{EOFResult}} with 2 entries:\n",
       "  \"ssp126\" => [EOFResult([-142.596 -60.2196 … 10.1789 7.75585; -137.487 -32.228…\n",
       "  \"ssp585\" => [EOFResult([-71.9979 2.98634 … 12.9902 10.0804; -66.2574 42.7712 …"
      ]
     },
     "metadata": {},
     "output_type": "display_data"
    }
   ],
   "source": [
    "eof_data = calculate_eofs_of_tl_data(\n",
    "    monthly_tl_data, \n",
    "    scopes_50_seasons, \n",
    "    2; \n",
    "    engine=:python, \n",
    "    reof=false, \n",
    "    center=true, \n",
    "    align_eof_with_mean=true, \n",
    "    align_pcs_with_mean=false, \n",
    "    weights=sqrt.(cos.(deg2rad.(monthly_tl_data.lats))), \n",
    "    eof_type=:normal,\n",
    "    scale_with_eigenvals=true\n",
    ")"
   ]
  },
  {
   "cell_type": "code",
   "execution_count": 13,
   "metadata": {},
   "outputs": [
    {
     "name": "stdout",
     "output_type": "stream",
     "text": [
      "Handled scope 1:201 out of 37 on thread 1\n",
      "Handled scope 4:205 out of 37 on thread 1\n",
      "Handled scope 8:209 out of 37 on thread 1\n",
      "Handled scope 12:213 out of 37 on thread 1\n",
      "Handled scope 16:217 out of 37 on thread 1\n",
      "Handled scope 20:221 out of 37 on thread 1\n",
      "Handled scope 24:225 out of 37 on thread 1\n",
      "Handled scope 28:229 out of 37 on thread 1\n",
      "Handled scope 32:233 out of 37 on thread 1\n",
      "Handled scope 36:237 out of 37 on thread 1\n",
      "Handled scope 40:241 out of 37 on thread 1\n",
      "Handled scope 44:246 out of 37 on thread 1\n",
      "Handled scope 48:250 out of 37 on thread 1\n",
      "Handled scope 52:254 out of 37 on thread 1\n",
      "Handled scope 56:258 out of 37 on thread 1\n",
      "Handled scope 60:262 out of 37 on thread 1\n",
      "Handled scope 64:266 out of 37 on thread 1\n",
      "Handled scope 68:270 out of 37 on thread 1\n",
      "Handled scope 72:274 out of 37 on thread 1\n",
      "Handled scope 76:278 out of 37 on thread 1\n",
      "Handled scope 80:282 out of 37 on thread 1\n",
      "Handled scope 85:286 out of 37 on thread 1\n",
      "Handled scope 89:290 out of 37 on thread 1\n",
      "Handled scope 93:294 out of 37 on thread 1\n",
      "Handled scope 97:298 out of 37 on thread 1\n",
      "Handled scope 101:302 out of 37 on thread 1\n",
      "Handled scope 105:306 out of 37 on thread 1\n",
      "Handled scope 109:310 out of 37 on thread 1\n",
      "Handled scope 113:314 out of 37 on thread 1\n",
      "Handled scope 117:318 out of 37 on thread 1\n",
      "Handled scope 121:322 out of 37 on thread 1\n",
      "Handled scope 125:327 out of 37 on thread 1\n",
      "Handled scope 129:331 out of 37 on thread 1\n",
      "Handled scope 133:335 out of 37 on thread 1\n",
      "Handled scope 137:339 out of 37 on thread 1\n",
      "Handled scope 141:343 out of 37 on thread 1\n",
      "Handled scope 145:347 out of 37 on thread 1\n",
      "Handled scope 1:201 out of 37 on thread 1\n",
      "Handled scope 4:205 out of 37 on thread 1\n",
      "Handled scope 8:209 out of 37 on thread 1\n",
      "Handled scope 12:213 out of 37 on thread 1\n",
      "Handled scope 16:217 out of 37 on thread 1\n",
      "Handled scope 20:221 out of 37 on thread 1\n",
      "Handled scope 24:225 out of 37 on thread 1\n",
      "Handled scope 28:229 out of 37 on thread 1\n",
      "Handled scope 32:233 out of 37 on thread 1\n",
      "Handled scope 36:237 out of 37 on thread 1\n",
      "Handled scope 40:241 out of 37 on thread 1\n",
      "Handled scope 44:246 out of 37 on thread 1\n",
      "Handled scope 48:250 out of 37 on thread 1\n",
      "Handled scope 52:254 out of 37 on thread 1\n",
      "Handled scope 56:258 out of 37 on thread 1\n",
      "Handled scope 60:262 out of 37 on thread 1\n",
      "Handled scope 64:266 out of 37 on thread 1\n",
      "Handled scope 68:270 out of 37 on thread 1\n",
      "Handled scope 72:274 out of 37 on thread 1\n",
      "Handled scope 76:278 out of 37 on thread 1\n",
      "Handled scope 80:282 out of 37 on thread 1\n",
      "Handled scope 85:286 out of 37 on thread 1\n",
      "Handled scope 89:290 out of 37 on thread 1\n",
      "Handled scope 93:294 out of 37 on thread 1\n",
      "Handled scope 97:298 out of 37 on thread 1\n",
      "Handled scope 101:302 out of 37 on thread 1\n",
      "Handled scope 105:306 out of 37 on thread 1\n",
      "Handled scope 109:310 out of 37 on thread 1\n",
      "Handled scope 113:314 out of 37 on thread 1\n",
      "Handled scope 117:318 out of 37 on thread 1\n",
      "Handled scope 121:322 out of 37 on thread 1\n",
      "Handled scope 125:327 out of 37 on thread 1\n",
      "Handled scope 129:331 out of 37 on thread 1\n",
      "Handled scope 133:335 out of 37 on thread 1\n",
      "Handled scope 137:339 out of 37 on thread 1\n",
      "Handled scope 141:343 out of 37 on thread 1\n",
      "Handled scope 145:347 out of 37 on thread 1\n"
     ]
    },
    {
     "data": {
      "text/plain": [
       "Dict{String, Vector{EOFResult}} with 2 entries:\n",
       "  \"ssp126\" => [EOFResult([-1046.94 -1187.83 … 2886.88 2638.54; -947.161 -1109.4…\n",
       "  \"ssp585\" => [EOFResult([863.202 984.147 … -2806.43 -2596.98; 789.093 927.23 ……"
      ]
     },
     "metadata": {},
     "output_type": "display_data"
    }
   ],
   "source": [
    "eof_data_ps_nao = calculate_eofs_of_tl_data(\n",
    "    ps_data, \n",
    "    scopes_50_seasons, \n",
    "    1; \n",
    "    engine=:python, \n",
    "    reof=false, \n",
    "    center=true, \n",
    "    align_eof_with_mean=true, \n",
    "    align_pcs_with_mean=false, \n",
    "    weights=sqrt.(cos.(deg2rad.(monthly_tl_data.lats))), \n",
    "    eof_type=:normal,\n",
    "    scale_with_eigenvals=true\n",
    ")"
   ]
  },
  {
   "cell_type": "code",
   "execution_count": 30,
   "metadata": {},
   "outputs": [
    {
     "name": "stdout",
     "output_type": "stream",
     "text": [
      "Threads available: 8\n"
     ]
    }
   ],
   "source": [
    "show_eof_modes_of_timeline(\n",
    "    monthly_tl_data,\n",
    "    eof_data,\n",
    "    all_scopes,\n",
    "    \"eof_6modes_monthly_30seasons_aligned_tst.mp4\";\n",
    "    framerate = 2,\n",
    "    colormap = :broc,\n",
    "    coastline_color = :black,\n",
    "    resolution = (2000, 1100),\n",
    "    whole_figure_title = \"Leading EOF Modes of Daily Averages of IVT (18 Winter Period) Aligned\"\n",
    ")"
   ]
  },
  {
   "cell_type": "markdown",
   "metadata": {},
   "source": [
    "Temporal plot first 2 modes\n",
    "Compare to mean\n",
    "scale with singular value (diss)\n",
    "0 contour plot"
   ]
  },
  {
   "cell_type": "code",
   "execution_count": 24,
   "metadata": {},
   "outputs": [
    {
     "name": "stdout",
     "output_type": "stream",
     "text": [
      "Data extremas: -1020.0334500633437 1346.6514166349325\n"
     ]
    }
   ],
   "source": [
    "figure = show_eof_and_pc_modes_of_timeline(\n",
    "    monthly_tl_data,\n",
    "    eof_data,\n",
    "    scopes_50_seasons,\n",
    "    \"eof_ivt_2modes_pc_dailymean_50seasons_naoindex.mp4\";\n",
    "    framerate = 2,\n",
    "    colormap = :BrBG_3,\n",
    "    coastline_color = :black,\n",
    "    resolution = (2000, 2000),\n",
    "    whole_figure_title = \"Leading EOF Modes of Daily Averages of IVT (50 Winter Period)\",\n",
    "    shading=NoShading,\n",
    "    surface_alpha_value=1.0,\n",
    "    fontsize=14,\n",
    "    additional_eof_data=eof_data_ps_nao,\n",
    "    additional_data_label=\"NAO index\"\n",
    ")"
   ]
  },
  {
   "cell_type": "code",
   "execution_count": 19,
   "metadata": {},
   "outputs": [
    {
     "name": "stdout",
     "output_type": "stream",
     "text": [
      "Data extremas: -582.9081377970413 1030.2213328965045\n"
     ]
    }
   ],
   "source": [
    "figure = show_eof_and_pc_modes_of_timeline(\n",
    "    monthly_tl_data,\n",
    "    eof_data,\n",
    "    scopes_30_seasons,\n",
    "    \"eof_ivt_2modes_pc_monthlymean_30seasons_naoindex.mp4\";\n",
    "    framerate = 2,\n",
    "    colormap = :BrBG_3,\n",
    "    coastline_color = :black,\n",
    "    resolution = (2000, 2000),\n",
    "    whole_figure_title = \"Leading EOF Modes of Monthly Averages of IVT (30 Winter Period) with NAO index\",\n",
    "    shading=NoShading,\n",
    "    surface_alpha_value=1.0,\n",
    "    fontsize=14,\n",
    "    additional_eof_data=eof_data_ps_nao,\n",
    "    additional_data_label=\"NAO index\"\n",
    ")"
   ]
  },
  {
   "cell_type": "code",
   "execution_count": 21,
   "metadata": {},
   "outputs": [
    {
     "ename": "MethodError",
     "evalue": "MethodError: no method matching initialize_block!(::GeoAxis; transformation::@NamedTuple{translation::Tuple{Int64, Int64, Int64}})\n\nClosest candidates are:\n  initialize_block!(::GeoAxis) got unsupported keyword argument \"transformation\"\n   @ GeoMakie ~/.julia/packages/GeoMakie/vcMuZ/src/geoaxis.jl:543\n  initialize_block!(!Matched::Menu; default) got unsupported keyword argument \"transformation\"\n   @ Makie ~/.julia/packages/Makie/ND0gA/src/makielayout/blocks/menu.jl:51\n  initialize_block!(!Matched::Textbox) got unsupported keyword argument \"transformation\"\n   @ Makie ~/.julia/packages/Makie/ND0gA/src/makielayout/blocks/textbox.jl:4\n  ...\n",
     "output_type": "error",
     "traceback": [
      "MethodError: no method matching initialize_block!(::GeoAxis; transformation::@NamedTuple{translation::Tuple{Int64, Int64, Int64}})\n",
      "\n",
      "Closest candidates are:\n",
      "  initialize_block!(::GeoAxis) got unsupported keyword argument \"transformation\"\n",
      "   @ GeoMakie ~/.julia/packages/GeoMakie/vcMuZ/src/geoaxis.jl:543\n",
      "  initialize_block!(!Matched::Menu; default) got unsupported keyword argument \"transformation\"\n",
      "   @ Makie ~/.julia/packages/Makie/ND0gA/src/makielayout/blocks/menu.jl:51\n",
      "  initialize_block!(!Matched::Textbox) got unsupported keyword argument \"transformation\"\n",
      "   @ Makie ~/.julia/packages/Makie/ND0gA/src/makielayout/blocks/textbox.jl:4\n",
      "  ...\n",
      "\n",
      "\n",
      "Stacktrace:\n",
      "  [1] _block(T::Type{GeoAxis}, fig_or_scene::Figure, args::Vector{Any}, kwdict::Dict{Symbol, Any}, bbox::Nothing; kwdict_complete::Bool)\n",
      "    @ Makie ~/.julia/packages/Makie/ND0gA/src/makielayout/blocks.jl:388\n",
      "  [2] _block\n",
      "    @ ~/.julia/packages/Makie/ND0gA/src/makielayout/blocks.jl:308 [inlined]\n",
      "  [3] #_block#1348\n",
      "    @ ~/.julia/packages/Makie/ND0gA/src/makielayout/blocks.jl:276 [inlined]\n",
      "  [4] _block(::Type{GeoAxis}, ::GridPosition; kwargs::@Kwargs{dest::String, limits::Tuple{Tuple{Float64, Float64}, Tuple{Float64, Float64}}, title::Observable{String}, transformation::@NamedTuple{translation::Tuple{Int64, Int64, Int64}}})\n",
      "    @ Makie ~/.julia/packages/Makie/ND0gA/src/makielayout/blocks.jl:270\n",
      "  [5] _block\n",
      "    @ ~/.julia/packages/Makie/ND0gA/src/makielayout/blocks.jl:263 [inlined]\n",
      "  [6] #_#1346\n",
      "    @ ~/.julia/packages/Makie/ND0gA/src/makielayout/blocks.jl:254 [inlined]\n",
      "  [7] Block\n",
      "    @ ~/.julia/packages/Makie/ND0gA/src/makielayout/blocks.jl:253 [inlined]\n",
      "  [8] #local_geoaxis_creation!#240\n",
      "    @ ~/Documents/Uni/Master/MA/visual_analysis/visual_utils.jl:21 [inlined]\n",
      "  [9] show_eof_and_pc_modes_of_timeline(data::TimelineData, eof_data::Dict{String, Vector{EOFResult}}, all_scopes::Vector{UnitRange{Int64}}, filename::String; framerate::Int64, colormap::Symbol, coastline_color::Symbol, shading::MakieCore.ShadingAlgorithm, resolution::Tuple{Int64, Int64}, fontsize::Int64, whole_figure_title::String, surface_alpha_value::Float64)\n",
      "    @ Main ~/Documents/Uni/Master/MA/visual_analysis/visual_utils.jl:267\n",
      " [10] top-level scope\n",
      "    @ ~/Documents/Uni/Master/MA/visual_analysis/animation_generation.ipynb:1"
     ]
    }
   ],
   "source": [
    "figure = show_eof_and_pc_modes_of_timeline(\n",
    "    ps_data,\n",
    "    eof_data,\n",
    "    all_scopes,\n",
    "    \"ps_2modes_pc_mean_monthly_50seasons.mp4\";\n",
    "    framerate = 2,\n",
    "    colormap = :BrBG_3,\n",
    "    coastline_color = :black,\n",
    "    resolution = (2000, 2000),\n",
    "    whole_figure_title = \"Leading EOF Modes of Monthly Averages of Surface Pressure (50 Winter Period)\",\n",
    "    shading=NoShading,\n",
    "    surface_alpha_value=0.5\n",
    ")"
   ]
  },
  {
   "cell_type": "code",
   "execution_count": 29,
   "metadata": {},
   "outputs": [
    {
     "data": {
      "text/plain": [
       "DataInspector(Scene (2000px, 1371px):\n",
       "  1 Plot:\n",
       "    └ Plot{Makie.tooltip, Tuple{Point{2, Float32}}}\n",
       "  12 Child Scenes:\n",
       "    ├ Scene (2000px, 1371px)\n",
       "    ├ Scene (2000px, 1371px)\n",
       "    ├ Scene (2000px, 1371px)\n",
       "    ├ Scene (2000px, 1371px)\n",
       "    ├ Scene (2000px, 1371px)\n",
       "    ├ Scene (2000px, 1371px)\n",
       "    ├ Scene (2000px, 1371px)\n",
       "    ├ Scene (2000px, 1371px)\n",
       "    ├ Scene (2000px, 1371px)\n",
       "    ├ Scene (2000px, 1371px)\n",
       "    ├ Scene (2000px, 1371px)\n",
       "    └ Scene (2000px, 1371px), Attributes with 11 entries:\n",
       "  _color => RGBA{Float32}(0.0,0.0,0.0,0.0)\n",
       "  apply_tooltip_offset => true\n",
       "  depth => 9000.0\n",
       "  enable_indicators => true\n",
       "  enabled => true\n",
       "  indicator_color => red\n",
       "  indicator_linestyle => nothing\n",
       "  indicator_linewidth => 2\n",
       "  indicator_visible => false\n",
       "  offset => 10.0\n",
       "  range => 10, AbstractPlot[], Plot{Makie.tooltip, Tuple{Point{2, Float32}}}, Plot{Makie.tooltip, Tuple{Point{2, Float32}}}, Any[ObserverFunction defined at /home/denis/.julia/packages/Makie/ND0gA/src/interaction/inspector.jl:280 operating on Observable((1974.0, 1385.0)), ObserverFunction defined at /home/denis/.julia/packages/Makie/ND0gA/src/interaction/inspector.jl:281 operating on Observable((0.0, 1.0))])"
      ]
     },
     "metadata": {},
     "output_type": "display_data"
    }
   ],
   "source": [
    "DataInspector(figure)"
   ]
  },
  {
   "cell_type": "code",
   "execution_count": 30,
   "metadata": {},
   "outputs": [],
   "source": [
    "figure"
   ]
  }
 ],
 "metadata": {
  "kernelspec": {
   "display_name": "Julia 1.10.3",
   "language": "julia",
   "name": "julia-1.10"
  },
  "language_info": {
   "file_extension": ".jl",
   "mimetype": "application/julia",
   "name": "julia",
   "version": "1.10.3"
  }
 },
 "nbformat": 4,
 "nbformat_minor": 2
}
